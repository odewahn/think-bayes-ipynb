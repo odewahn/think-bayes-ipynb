{
  "metadata": {
    "name": "Observer Bias"
  },
  "nbformat": 3,
  "nbformat_minor": 0,
  "worksheets": [
    {
      "cells": [
        {
          "cell_type": "heading",
          "level": 1,
          "metadata": {
          },
          "source": "Observer Bias"
        },
        {
          "cell_type": "heading",
          "level": 2,
          "metadata": {
          },
          "source": "The Red Line problem"
        },
        {
          "cell_type": "markdown",
          "metadata": {
          },
          "source": "In Massachusetts, the Red Line is a subway that connects Cambridge and Boston. When I was working in Cambridge I took the Red Line from Kendall Square to South Station and caught the commuter rail to Needham. During rush hour Red Line trains run every 7â8 minutes, on average."
        },
        {
          "cell_type": "markdown",
          "metadata": {
          },
          "source": "When I arrived at the station, I could estimate the time until the next train based on the number of passengers on the platform. If there were only a few people, I inferred that I just missed a train and expected to wait about 7 minutes. If there were more passengers, I expected the train to arrive sooner. But if there were a large number of passengers, I suspected that trains were not running on schedule, so I would go back to the street level and get a taxi."
        },
        {
          "cell_type": "markdown",
          "metadata": {
          },
          "source": "While I was waiting for trains, I thought about how Bayesian estimation could help predict my wait time and decide when I should give up and take a taxi. This chapter presents the analysis I came up with."
        },
        {
          "cell_type": "markdown",
          "metadata": {
          },
          "source": "This chapter is based on a project by Brendan Ritter and Kai Austin, who took a class with me at Olin College. The code in this chapter is available from [http://thinkbayes.com/redline.py](http://thinkbayes.com/redline.py). The code I used to collect data is in [http://thinkbayes.com/redline\\_data.py](http://thinkbayes.com/redline_data.py). For more information see [âWorking with the codeâ](preface01.html#download)."
        },
        {
          "cell_type": "heading",
          "level": 2,
          "metadata": {
          },
          "source": "The model"
        },
        {
          "cell_type": "markdown",
          "metadata": {
          },
          "source": "Before we get to the analysis, we have to make some modeling decisions. First, I will treat passenger arrivals as a Poisson process, which means I assume that passengers are equally likely to arrive at any time, and that they arrive at an unknown rate, _Î»_, measured in passengers per minute. Since I observe passengers during a short period of time, and at the same time every day, I assume that _Î»_ is constant."
        },
        {
          "cell_type": "markdown",
          "metadata": {
          },
          "source": "On the other hand, the arrival process for trains is not Poisson. Trains to Boston are supposed to leave from the end of the line (Alewife station) every 7â8 minutes during peak times, but by the time they get to Kendall Square, the time between trains varies between 3 and 12 minutes."
        },
        {
          "cell_type": "markdown",
          "metadata": {
          },
          "source": "To gather data on the time between trains, I wrote a script that downloads real-time data from [http://www.mbta.com/rider\\_tools/developers/](http://www.mbta.com/rider_tools/developers/), selects south-bound trains arriving at Kendall square, and records their arrival times in a database. I ran the script from 4pm to 6pm every weekday for 5 days, and recorded about 15 arrivals per day. Then I computed the time between consecutive arrivals; the distribution of these gaps is shown in FigureÂ 8-1, labeled `z` ."
        },
        {
          "cell_type": "markdown",
          "metadata": {
          },
          "source": "<figure id=\"fig.redline0\" style=\"float: none\"><img src=\"files/images/thba_0801.png\"><figcaption>PMF of gaps between trains, based on collected data, smoothed by\n      KDE. z is the actual distribution; zb is the biased distribution seen by\n      passengers.</figcaption></figure>"
        },
        {
          "cell_type": "markdown",
          "metadata": {
          },
          "source": "If you stood on the platform from 4pm to 6pm and recorded the time between trains, this is the distribution you would see. But if you arrive at some random time (without regard to the train schedule) you would see a different distribution. The average time between trains, as seen by a random passenger, is substantially higher than the true average."
        },
        {
          "cell_type": "markdown",
          "metadata": {
          },
          "source": "Why? Because a passenger is more like to arrive during a large interval than a small one. Consider a simple example: suppose that the time between trains is either 5 minutes or 10 minutes with equal probability. In that case the average time between trains is 7.5 minutes."
        },
        {
          "cell_type": "markdown",
          "metadata": {
          },
          "source": "But a passenger is more likely to arrive during a 10 minute gap than a 5 minute gap; in fact, twice as likely. If we surveyed arriving passengers, we would find that 2/3 of them arrived during a 10 minute gap, and only 1/3 during a 5 minute gap. So the average time between trains, as seen by an arriving passenger, is 8.33 minutes."
        },
        {
          "cell_type": "markdown",
          "metadata": {
          },
          "source": "This kind of **observer bias** appears in many contexts. Students think that classes are bigger than they are because more of them are in the big classes. Airline passengers think that planes are fuller than they are because more of them are on full flights."
        },
        {
          "cell_type": "markdown",
          "metadata": {
          },
          "source": "In each case, values from the actual distribution are oversampled in proportion to their value. In the Red Line example, a gap that is twice as big is twice as likely to be observed."
        },
        {
          "cell_type": "markdown",
          "metadata": {
          },
          "source": "So given the actual distribution of gaps, we can compute the distribution of gaps as seen by passengers. `BiasPmf` does this computation:"
        },
        {
          "cell_type": "code",
          "collapsed": false,
          "input": "def BiasPmf(pmf):\n    new_pmf = pmf.Copy()\n\n    for x, p in pmf.Items():\n        new_pmf.Mult(x, x)\n        \n    new_pmf.Normalize()\n    return new_pmf",
          "language": "python",
          "metadata": {
          },
          "outputs": [

          ]
        },
        {
          "cell_type": "markdown",
          "metadata": {
          },
          "source": "`pmf` is the actual distribution; `new_pmf` is the biased distribution. Inside the loop, we multiply the probability of each value, `x` , by the likelihood it will be observed, which is proportional to `x` . Then we normalize the result."
        },
        {
          "cell_type": "markdown",
          "metadata": {
          },
          "source": "FigureÂ 8-1 shows the actual distribution of gaps, labeled `z` , and the distribution of gaps seen by passengers, labeled `zb` for âz biasedâ."
        },
        {
          "cell_type": "heading",
          "level": 2,
          "metadata": {
          },
          "source": "Wait times"
        },
        {
          "cell_type": "markdown",
          "metadata": {
          },
          "source": "Wait time, which I call `y` , is the time between the arrival of a passenger and the next arrival of a train. Elapsed time, which I call `x` , is the time between the arrival of the previous train and the arrival of a passenger. I chose these definitions so that `zb =\n        x + y` ."
        },
        {
          "cell_type": "markdown",
          "metadata": {
          },
          "source": "Given the distribution of `zb` , we can compute the distribution of `y` . Iâll start with a simple case and then generalize. Suppose, as in the previous example, that `zb` is either 5 minutes with probability 1/3, or 10 minutes with probability 2/3."
        },
        {
          "cell_type": "markdown",
          "metadata": {
          },
          "source": "If we arrive at a random time during a 5 minute gap, `y` is uniform from 0 to 5 minutes. If we arrive during a 10 minute gap, `y` is uniform from 0 to 10. So the overall distribution is a mixture of uniform distributions weighted according to the probability of each gap."
        },
        {
          "cell_type": "markdown",
          "metadata": {
          },
          "source": "The following function takes the distribution of `zb` and computes the distribution of `y` :"
        },
        {
          "cell_type": "code",
          "collapsed": false,
          "input": "def PmfOfWaitTime(pmf_zb):\n    metapmf = thinkbayes.Pmf()\n    for gap, prob in pmf_zb.Items():\n        uniform = MakeUniformPmf(0, gap)\n        metapmf.Set(uniform, prob)\n\n    pmf_y = thinkbayes.MakeMixture(metapmf)\n    return pmf_y",
          "language": "python",
          "metadata": {
          },
          "outputs": [

          ]
        },
        {
          "cell_type": "markdown",
          "metadata": {
          },
          "source": "`PmfOfWaitTime` makes a meta-Pmf that maps from each uniform distribution to its probability. Then it uses `MakeMixture` , which we saw in [âMixturesâ](ch05.html#mixture), to compute the mixture."
        },
        {
          "cell_type": "markdown",
          "metadata": {
          },
          "source": "`PmfOfWaitTime` also uses `MakeUniformPmf` , defined here:"
        },
        {
          "cell_type": "code",
          "collapsed": false,
          "input": "def MakeUniformPmf(low, high):\n    pmf = thinkbayes.Pmf()\n    for x in MakeRange(low=low, high=high):\n        pmf.Set(x, 1)\n    pmf.Normalize()\n    return pmf",
          "language": "python",
          "metadata": {
          },
          "outputs": [

          ]
        },
        {
          "cell_type": "markdown",
          "metadata": {
          },
          "source": "`low` and `high` are the range of the uniform distribution, (both ends included). Finally, `MakeUniformPmf` uses `MakeRange` , defined here:"
        },
        {
          "cell_type": "code",
          "collapsed": false,
          "input": "def MakeRange(low, high, skip=10):\n    return range(low, high+skip, skip)",
          "language": "python",
          "metadata": {
          },
          "outputs": [

          ]
        },
        {
          "cell_type": "markdown",
          "metadata": {
          },
          "source": "`MakeRange` defines a set of possible values for wait time (expressed in seconds). By default it divides the range into 10 second intervals."
        },
        {
          "cell_type": "markdown",
          "metadata": {
          },
          "source": "To encapsulate the process of computing these distributions, I created a class called `WaitTimeCalculator` :"
        },
        {
          "cell_type": "code",
          "collapsed": false,
          "input": "class WaitTimeCalculator(object):\n\n    def __init__(self, pmf_z):\n        self.pmf_z = pmf_z\n        self.pmf_zb = BiasPmf(pmf)\n\n        self.pmf_y = self.PmfOfWaitTime(self.pmf_zb)\n        self.pmf_x = self.pmf_y",
          "language": "python",
          "metadata": {
          },
          "outputs": [

          ]
        },
        {
          "cell_type": "markdown",
          "metadata": {
          },
          "source": "The parameter, `pmf_z` , is the unbiased distribution of `z` . `pmf_zb` is the biased distribution of gap time, as seen by passengers."
        },
        {
          "cell_type": "markdown",
          "metadata": {
          },
          "source": "`pmf_y` is the distribution of wait time. `pmf_x` is the distribution of elapsed time, which is the same as the distribution of wait time. To see why, remember that for a particular value of `zp` , the distribution of `y` is uniform from 0 to `zp` . Also"
        },
        {
          "cell_type": "code",
          "collapsed": false,
          "input": "x = zp - y",
          "language": "python",
          "metadata": {
          },
          "outputs": [

          ]
        },
        {
          "cell_type": "markdown",
          "metadata": {
          },
          "source": "So the distribution of `x` is also uniform from 0 to `zp` ."
        },
        {
          "cell_type": "markdown",
          "metadata": {
          },
          "source": "FigureÂ 8-2 shows the distribution of `z` , `zb` , and `y` based on the data I collected from the Red Line website."
        },
        {
          "cell_type": "markdown",
          "metadata": {
          },
          "source": "<figure id=\"fig.redline2\" style=\"float: none\"><img src=\"files/images/thba_0802.png\"><figcaption>CDF of z, zb, and the wait time seen by passengers, y.</figcaption></figure>"
        },
        {
          "cell_type": "markdown",
          "metadata": {
          },
          "source": "To present these distributions, I am switching from Pmfs to Cdfs. Most people are more familiar with Pmfs, but I think Cdfs are easier to interpret, once you get used to them. And if you want to plot several distributions on the same axes, Cdfs are the way to go."
        },
        {
          "cell_type": "markdown",
          "metadata": {
          },
          "source": "The mean of `z` is 7.8 minutes. The mean of `zb` is 8.8 minutes, about 13% higher. The mean of `y` is 4.4, half the mean of `zb` ."
        },
        {
          "cell_type": "markdown",
          "metadata": {
          },
          "source": "As an aside, the Red Line schedule reports that trains run every 9 minutes during peak times. This is close to the average of `zb` , but higher than the average of `z` . I exchanged email with a representative of the MBTA, who confirmed that the reported time between trains is deliberately conservative in order to account for variability."
        },
        {
          "cell_type": "heading",
          "level": 2,
          "metadata": {
          },
          "source": "Predicting wait times"
        },
        {
          "cell_type": "markdown",
          "metadata": {
          },
          "source": "Letâs get back to the motivating question: suppose that when I arrive at the platform I see 10 people waiting. How long should I expect to wait until the next train arrives?"
        },
        {
          "cell_type": "markdown",
          "metadata": {
          },
          "source": "As always, letâs start with the easiest version of the problem and work our way up. Suppose we are given the actual distribution of `z` , and we know that the passenger arrival rate, _Î»_, is 2 passengers per minute."
        },
        {
          "cell_type": "markdown",
          "metadata": {
          },
          "source": "In that case we can:"
        },
        {
          "cell_type": "markdown",
          "metadata": {
          },
          "source": "<ol>\n<li><p>Use the distribution of <code>z</code> to\n        compute the prior distribution of <code>zp</code>, the time between trains as seen by a\n        passenger.</p></li>\n<li><p>Then we can use the number of passengers to estimate the\n        distribution of <code>x</code>, the elapsed time\n        since the last train.</p></li>\n<li><p>Finally, we use the relation <code>y = zp -\n        x</code> to get the distribution of <code>y</code>.</p></li>\n</ol>\n"
        },
        {
          "cell_type": "markdown",
          "metadata": {
          },
          "source": "The first step is to create a `WaitTimeCalculator` that encapsulates the distributions of `zp` , `x` , and `y` , prior to taking into account the number of passengers."
        },
        {
          "cell_type": "code",
          "collapsed": false,
          "input": "    wtc = WaitTimeCalculator(pmf_z)",
          "language": "python",
          "metadata": {
          },
          "outputs": [

          ]
        },
        {
          "cell_type": "markdown",
          "metadata": {
          },
          "source": "`pmf_z` is the given distribution of gap times."
        },
        {
          "cell_type": "markdown",
          "metadata": {
          },
          "source": "The next step is to make an `ElapsedTimeEstimator` (defined below), which encapsulates the posterior distribution of `x` and the predictive distribution of `y` ."
        },
        {
          "cell_type": "code",
          "collapsed": false,
          "input": "    ete = ElapsedTimeEstimator(wtc,\n                               lam=2.0/60,\n                               num_passengers=15)",
          "language": "python",
          "metadata": {
          },
          "outputs": [

          ]
        },
        {
          "cell_type": "markdown",
          "metadata": {
          },
          "source": "The parameters are the `WaitTimeCalculator` , the passenger arrival rate, `lam` (expressed in passengers per second), and the observed number of passengers, letâs say 15."
        },
        {
          "cell_type": "markdown",
          "metadata": {
          },
          "source": "Here is the definition of `ElapsedTimeEstimator` :"
        },
        {
          "cell_type": "code",
          "collapsed": false,
          "input": "class ElapsedTimeEstimator(object):\n\n    def __init__(self, wtc, lam, num_passengers):\n        self.prior_x = Elapsed(wtc.pmf_x)\n\n        self.post_x = self.prior_x.Copy()\n        self.post_x.Update((lam, num_passengers))\n\n        self.pmf_y = PredictWaitTime(wtc.pmf_zb, self.post_x)",
          "language": "python",
          "metadata": {
          },
          "outputs": [

          ]
        },
        {
          "cell_type": "markdown",
          "metadata": {
          },
          "source": "`prior_x` and `posterior_x` are the prior and posterior distributions of elapsed time. `pmf_y` is the predictive distribution of wait time."
        },
        {
          "cell_type": "markdown",
          "metadata": {
          },
          "source": "`ElapsedTimeEstimator` uses `Elapsed` and `PredictWaitTime` , defined below."
        },
        {
          "cell_type": "markdown",
          "metadata": {
          },
          "source": "`Elapsed` is a Suite that represents the hypothetical distribution of `x` . The prior distribution of `x` comes straight from the `WaitTimeCalculator` . Then we use the data, which consists of the arrival rate, `lam` , and the number of passengers on the platform, to compute the posterior distribution."
        },
        {
          "cell_type": "markdown",
          "metadata": {
          },
          "source": "Hereâs the definition of `Elapsed` :"
        },
        {
          "cell_type": "code",
          "collapsed": false,
          "input": "class Elapsed(thinkbayes.Suite):\n\n    def Likelihood(self, data, hypo):\n        x = hypo\n        lam, k = data\n        like = thinkbayes.EvalPoissonPmf(lam * x, k)\n        return like",
          "language": "python",
          "metadata": {
          },
          "outputs": [

          ]
        },
        {
          "cell_type": "markdown",
          "metadata": {
          },
          "source": "As always, `Likelihood` takes a hypothesis and data, and computes the likelihood of the data under the hypothesis. In this case `hypo` is the elapsed time since the last train and `data` is a tuple of `lam` and the number of passengers."
        },
        {
          "cell_type": "markdown",
          "metadata": {
          },
          "source": "The likelihood of the data is the probability of getting `k` arrivals in `x` time, given arrival rate `lam` . We compute that using the PMF of the Poisson distribution."
        },
        {
          "cell_type": "markdown",
          "metadata": {
          },
          "source": "Finally, hereâs the definition of `PredictWaitTime` :"
        },
        {
          "cell_type": "code",
          "collapsed": false,
          "input": "def PredictWaitTime(pmf_zb, pmf_x):\n    pmf_y = pmf_zb - pmf_x\n    RemoveNegatives(pmf_y)\n    return pmf_y",
          "language": "python",
          "metadata": {
          },
          "outputs": [

          ]
        },
        {
          "cell_type": "markdown",
          "metadata": {
          },
          "source": "`pmf_zb` is the distribution of gaps between trains; `pmf_x` is the distribution of elapsed time, based on the observed number of passengers. Since `y = zb -\n        x` , we can compute"
        },
        {
          "cell_type": "code",
          "collapsed": false,
          "input": "    pmf_y = pmf_zb - pmf_x",
          "language": "python",
          "metadata": {
          },
          "outputs": [

          ]
        },
        {
          "cell_type": "markdown",
          "metadata": {
          },
          "source": "The subtraction operator invokes `Pmf.__sub__` , which enumerates all pairs of `zb` and `x` , computes the differences, and adds the results to `pmf_y` ."
        },
        {
          "cell_type": "markdown",
          "metadata": {
          },
          "source": "The resulting Pmf includes some negative values, which we know are impossible. For example, if you arrive during a gap of 5 minutes, you canât wait more than 5 minutes. `RemoveNegatives` removes the impossible values from the distribution and renormalizes."
        },
        {
          "cell_type": "code",
          "collapsed": false,
          "input": "def RemoveNegatives(pmf):\n    for val in pmf.Values():\n        if val < 0:\n            pmf.Remove(val)\n    pmf.Normalize()",
          "language": "python",
          "metadata": {
          },
          "outputs": [

          ]
        },
        {
          "cell_type": "markdown",
          "metadata": {
          },
          "source": "FigureÂ 8-3 shows the results. The prior distribution of `x` is the same as the distribution of `y` in FigureÂ 8-2. The posterior distribution of `x` shows that, after seeing 15 passengers on the platform, we believe that the time since the last train is probably 5-10 minutes. The predictive distribution of `y` indicates that we expect the next train in less than 5 minutes, with about 80% confidence."
        },
        {
          "cell_type": "markdown",
          "metadata": {
          },
          "source": "<figure id=\"fig.redline3\" style=\"float: none\"><img src=\"files/images/thba_0803.png\"><figcaption>Prior and posterior of x and predicted y.</figcaption></figure>"
        },
        {
          "cell_type": "heading",
          "level": 2,
          "metadata": {
          },
          "source": "Estimating the arrival rate"
        },
        {
          "cell_type": "markdown",
          "metadata": {
          },
          "source": "The analysis so far has been based on the assumption that we know (1) the distribution of gaps and (2) the passenger arrival rate. Now we are ready to relax the second assumption."
        },
        {
          "cell_type": "markdown",
          "metadata": {
          },
          "source": "Suppose that you just moved to Boston, so you donât know much about the passenger arrival rate on the Red Line. After a few days of commuting, you could make a guess, at least qualitatively. With a little more effort, you could estimate _Î»_ quantitatively."
        },
        {
          "cell_type": "markdown",
          "metadata": {
          },
          "source": "Each day when you arrive at the platform, you should note the time and the number of passengers waiting (if the platform is too big, you could choose a sample area). Then you should record your wait time and the number of new arrivals while you are waiting."
        },
        {
          "cell_type": "markdown",
          "metadata": {
          },
          "source": "After five days, you might have data like this:"
        },
        {
          "cell_type": "code",
          "collapsed": false,
          "input": "k1      y     k2\n--     ---    --\n17     4.6     9\n22     1.0     0\n23     1.4     4\n18     5.4    12\n4      5.8    11",
          "language": "python",
          "metadata": {
          },
          "outputs": [

          ]
        },
        {
          "cell_type": "markdown",
          "metadata": {
          },
          "source": "where `k1` is the number of passengers waiting when you arrive, `y` is your wait time in minutes, and `k2` is the number of passengers who arrive while you are waiting."
        },
        {
          "cell_type": "markdown",
          "metadata": {
          },
          "source": "Over the course of one week, you waited 18 minutes and saw 36 passengers arrive, so you would estimate that the arrival rate is 2 passengers per minute. For practical purposes that estimate is good enough, but for the sake of completeness I will compute a posterior distribution for _Î»_ and show how to use that distribution in the rest of the analysis."
        },
        {
          "cell_type": "markdown",
          "metadata": {
          },
          "source": "`ArrivalRate` is a `Suite` that represents hypotheses about _Î»_. As always, `Likelihood` takes a hypothesis and data, and computes the likelihood of the data under the hypothesis."
        },
        {
          "cell_type": "markdown",
          "metadata": {
          },
          "source": "In this case the hypothesis is a value of _Î»_. The data is a pair, `y,\n        k` , where  `y`  is a wait time and  `k`  is the number of passengers that arrived."
        },
        {
          "cell_type": "code",
          "collapsed": false,
          "input": "class ArrivalRate(thinkbayes.Suite):\n\n    def Likelihood(self, data, hypo):\n        lam = hypo\n        y, k = data\n        like = thinkbayes.EvalPoissonPmf(lam * y, k)\n        return like",
          "language": "python",
          "metadata": {
          },
          "outputs": [

          ]
        },
        {
          "cell_type": "markdown",
          "metadata": {
          },
          "source": "This `Likelihood` might look familiar; it is almost identical to `Elapsed.Likelihood` in âPredicting wait timesâ. The difference is that in `Elapsed.Likelihood` the hypothesis is `x` , the elapsed time; in `ArrivalRate.Likelihood` the hypothesis is `lam` , the arrival rate. But in both cases the likelihood is the probability of seeing `k` arrivals in some period of time, given `lam` ."
        },
        {
          "cell_type": "markdown",
          "metadata": {
          },
          "source": "`ArrivalRateEstimator` encapsulates the process of estimating _Î»_. The parameter, `passenger_data` , is a list of `k1, y, k2` tuples, as in the table above."
        },
        {
          "cell_type": "code",
          "collapsed": false,
          "input": "class ArrivalRateEstimator(object):\n\n    def __init__(self, passenger_data):\n        low, high = 0, 5\n        n = 51\n        hypos = numpy.linspace(low, high, n) / 60\n\n        self.prior_lam = ArrivalRate(hypos)\n\n        self.post_lam = self.prior_lam.Copy()\n        for k1, y, k2 in passenger_data:\n            self.post_lam.Update((y, k2))",
          "language": "python",
          "metadata": {
          },
          "outputs": [

          ]
        },
        {
          "cell_type": "markdown",
          "metadata": {
          },
          "source": "`__init__` builds `hypos` , which is a sequence of hypothetical values for `lam` , then builds the prior distribution, `prior_lam` . The `for` loop updates the prior with data, yielding the posterior distribution, `post_lam` ."
        },
        {
          "cell_type": "markdown",
          "metadata": {
          },
          "source": "FigureÂ 8-4 shows the prior and posterior distributions. As expected, the mean and median of the posterior are near the observed rate, 2 passengers per minute. But the spread of the posterior distribution captures our uncertainty about _Î»_ based on a small sample."
        },
        {
          "cell_type": "markdown",
          "metadata": {
          },
          "source": "<figure id=\"fig.redline1\" style=\"float: none\"><img src=\"files/images/thba_0804.png\"><figcaption>Prior and posterior distributions of lam based on five days of\n      passenger <span class=\"keep-together\">data</span>.</figcaption></figure>"
        },
        {
          "cell_type": "heading",
          "level": 2,
          "metadata": {
          },
          "source": "Incorporating uncertainty"
        },
        {
          "cell_type": "markdown",
          "metadata": {
          },
          "source": "Whenever there is uncertainty about one of the inputs to an analysis, we can take it into account by a process like this:"
        },
        {
          "cell_type": "markdown",
          "metadata": {
          },
          "source": "<ol>\n<li><p>Implement the analysis based on a deterministic value of the\n        uncertain parameter (in this case <em>Î»</em>).</p></li>\n<li><p>Compute the distribution of the uncertain parameter.</p></li>\n<li><p>Run the analysis for each value of the parameter, and generate a\n        set of predictive distributions.<a data-type=\"indexterm\" data-primary=\"predictive distribution\" id=\"idp2165408\"></a></p></li>\n<li><p>Compute a mixture of the predictive distributions, using the\n        weights from the distribution of the parameter.</p></li>\n</ol>\n"
        },
        {
          "cell_type": "markdown",
          "metadata": {
          },
          "source": "We have already done steps (1) and (2). I wrote a class called `WaitMixtureEstimator` to handle steps (3) and (4)."
        },
        {
          "cell_type": "code",
          "collapsed": false,
          "input": "class WaitMixtureEstimator(object):\n\n    def __init__(self, wtc, are, num_passengers=15):\n        self.metapmf = thinkbayes.Pmf()\n\n        for lam, prob in sorted(are.post_lam.Items()):\n            ete = ElapsedTimeEstimator(wtc, lam, num_passengers)\n            self.metapmf.Set(ete.pmf_y, prob)\n\n        self.mixture = thinkbayes.MakeMixture(self.metapmf)",
          "language": "python",
          "metadata": {
          },
          "outputs": [

          ]
        },
        {
          "cell_type": "markdown",
          "metadata": {
          },
          "source": "`wtc` is the `WaitTimeCalculator` that contains the distribution of `zb` . `are` is the `ArrivalTimeEstimator` that contains the distribution of `lam` ."
        },
        {
          "cell_type": "markdown",
          "metadata": {
          },
          "source": "The first line makes a meta-Pmf that maps from each possible distribution of `y` to its probability. For each value of `lam` , we use `ElapsedTimeEstimator` to compute the corresponding distribution of `y` and store it in the Meta-Pmf. Then we use `MakeMixture` to compute the mixture."
        },
        {
          "cell_type": "markdown",
          "metadata": {
          },
          "source": "FigureÂ 8-5 shows the results. The shaded lines in the background are the distributions of `y` for each value of `lam` , with line thickness that represents likelihood. The dark line is the mixture of these distributions."
        },
        {
          "cell_type": "markdown",
          "metadata": {
          },
          "source": "<figure id=\"fig.redline4\" style=\"float: True\"><img src=\"files/images/thba_0805.png\"><figcaption>Predictive distributions of y for possible values of lam.</figcaption></figure>"
        },
        {
          "cell_type": "markdown",
          "metadata": {
          },
          "source": "In this case we could get a very similar result using a single point estimate of `lam` . So it was not necessary, for practical purposes, to include the uncertainty of the estimate."
        },
        {
          "cell_type": "markdown",
          "metadata": {
          },
          "source": "In general, it is important to include variability if the system response is non-linear; that is, if small changes in the input can cause big changes in the output. In this case, posterior variability in `lam` is small and the system response is approximately linear for small perturbations."
        },
        {
          "cell_type": "heading",
          "level": 2,
          "metadata": {
          },
          "source": "Decision analysis"
        },
        {
          "cell_type": "markdown",
          "metadata": {
          },
          "source": "At this point we can use the number of passengers on the platform to predict the distribution of wait times. Now letâs get to the second part of the question: when should I stop waiting for the train and go catch a taxi?"
        },
        {
          "cell_type": "markdown",
          "metadata": {
          },
          "source": "Remember that in the original scenario, I am trying to get to South Station to catch the commuter rail. Suppose I leave the office with enough time that I can wait 15 minutes and still make my connection at South Station."
        },
        {
          "cell_type": "markdown",
          "metadata": {
          },
          "source": "In that case I would like to know the probability that `y` exceeds 15 minutes as a function of `num_passengers` . It is easy enough to use the analysis from âPredicting wait timesâ and run it for a range of `num_passengers` ."
        },
        {
          "cell_type": "markdown",
          "metadata": {
          },
          "source": "But thereâs a problem. The analysis is sensitive to the frequency of long delays, and because long delays are rare, it is hard estimate their frequency."
        },
        {
          "cell_type": "markdown",
          "metadata": {
          },
          "source": "I only have data from one week, and the longest delay I observed was 15 minutes. So I canât estimate the frequency of longer delays accurately."
        },
        {
          "cell_type": "markdown",
          "metadata": {
          },
          "source": "However, I can use previous observations to make at least a coarse estimate. When I commuted by Red Line for a year, I saw three long delays caused by a signaling problem, a power outage, and âpolice activityâ at another stop. So I estimate that there are about 3 major delays per year."
        },
        {
          "cell_type": "markdown",
          "metadata": {
          },
          "source": "But remember that my observations are biased. I am more likely to observe long delays because they affect a large number of passengers. So we should treat my observations as a sample of `zb` rather than `z` . Hereâs how we can do that."
        },
        {
          "cell_type": "markdown",
          "metadata": {
          },
          "source": "During my year of commuting, I took the Red Line home about 220 times. So I take the observed gap times, `gap_times` , generate a sample of 220 gaps, and compute their Pmf:"
        },
        {
          "cell_type": "code",
          "collapsed": false,
          "input": "    n = 220\n    cdf_z = thinkbayes.MakeCdfFromList(gap_times)\n    sample_z = cdf_z.Sample(n)\n    pmf_z = thinkbayes.MakePmfFromList(sample_z)",
          "language": "python",
          "metadata": {
          },
          "outputs": [

          ]
        },
        {
          "cell_type": "markdown",
          "metadata": {
          },
          "source": "Next I bias `pmf_z` to get the distribution of `zb` , draw a sample, and then add in delays of 30, 40, and 50 minutes (expressed in seconds):"
        },
        {
          "cell_type": "code",
          "collapsed": false,
          "input": "    cdf_zp = BiasPmf(pmf_z).MakeCdf()\n    sample_zb = cdf_zp.Sample(n) + [1800, 2400, 3000]",
          "language": "python",
          "metadata": {
          },
          "outputs": [

          ]
        },
        {
          "cell_type": "markdown",
          "metadata": {
          },
          "source": "`Cdf.Sample` is more efficient than `Pmf.Sample` , so it is usually faster to convert a Pmf to a Cdf before sampling."
        },
        {
          "cell_type": "markdown",
          "metadata": {
          },
          "source": "Next I use the sample of `zb` to estimate a Pdf using KDE, and then convert the Pdf to a Pmf:"
        },
        {
          "cell_type": "code",
          "collapsed": false,
          "input": "    pdf_zb = thinkbayes.EstimatedPdf(sample_zb)\n    xs = MakeRange(low=60)\n    pmf_zb = pdf_zb.MakePmf(xs)",
          "language": "python",
          "metadata": {
          },
          "outputs": [

          ]
        },
        {
          "cell_type": "markdown",
          "metadata": {
          },
          "source": "Finally I unbias the distribution of `zb` to get the distribution of `z` , which I use to create the `WaitTimeCalculator` :"
        },
        {
          "cell_type": "code",
          "collapsed": false,
          "input": "    pmf_z = UnbiasPmf(pmf_zb)\n    wtc = WaitTimeCalculator(pmf_z)",
          "language": "python",
          "metadata": {
          },
          "outputs": [

          ]
        },
        {
          "cell_type": "markdown",
          "metadata": {
          },
          "source": "This process is complicated, but all of the steps are operations we have seen before. Now we are ready to compute the probability of a long wait."
        },
        {
          "cell_type": "code",
          "collapsed": false,
          "input": "def ProbLongWait(num_passengers, minutes):\n    ete = ElapsedTimeEstimator(wtc, lam, num_passengers)\n    cdf_y = ete.pmf_y.MakeCdf()\n    prob = 1 - cdf_y.Prob(minutes * 60)",
          "language": "python",
          "metadata": {
          },
          "outputs": [

          ]
        },
        {
          "cell_type": "markdown",
          "metadata": {
          },
          "source": "Given the number of passengers on the platform, `ProbLongWait` makes an `ElapsedTimeEstimator` , extracts the distribution of wait time, and computes the probability that wait time exceeds `minutes` ."
        },
        {
          "cell_type": "markdown",
          "metadata": {
          },
          "source": "FigureÂ 8-6 shows the result. When the number of passengers is less than 20, we infer that the system is operating normally, so the probability of a long delay is small. If there are 30 passengers, we estimate that it has been 15 minutes since the last train; thatâs longer than a normal delay, so we infer that something is wrong and expect longer delays."
        },
        {
          "cell_type": "markdown",
          "metadata": {
          },
          "source": "<figure id=\"fig.redline5\" style=\"float: none\"><img src=\"files/images/thba_0806.png\"><figcaption>Probability that wait time exceeds 15 minutes as a function of\n      the number of passengers on the platform.</figcaption></figure>"
        },
        {
          "cell_type": "markdown",
          "metadata": {
          },
          "source": "If we are willing to accept a 10% chance of missing the connection at South Station, we should stay and wait as long as there are fewer than 30 passengers, and take a taxi if there are more."
        },
        {
          "cell_type": "markdown",
          "metadata": {
          },
          "source": "Or, to take this analysis one step further, we could quantify the cost of missing the connection and the cost of taking a taxi, then choose the threshold that minimizes expected cost."
        },
        {
          "cell_type": "heading",
          "level": 2,
          "metadata": {
          },
          "source": "Discussion"
        },
        {
          "cell_type": "markdown",
          "metadata": {
          },
          "source": "The analysis so far has been based on the assumption that the arrival rate of passengers is the same every day. For a commuter train during rush hour, that might not be a bad assumption, but there are some obvious exceptions. For example, if there is a special event nearby, a large number of people might arrive at the same time. In that case, the estimate of `lam` would be too low, so the estimates of `x` and `y` would be too high."
        },
        {
          "cell_type": "markdown",
          "metadata": {
          },
          "source": "If special events are as common as major delays, it would be important to include them in the model. We could do that by extending the distribution of `lam` to include occasional large values."
        },
        {
          "cell_type": "markdown",
          "metadata": {
          },
          "source": "We started with the assumption that we know distribution of `z` . As an alternative, a passenger could estimate `z` , but it would not be easy. As a passenger, you only observe only your own wait time, `y` . Unless you skip the first train and wait for the second, you donât observe the gap between trains, `z` ."
        },
        {
          "cell_type": "markdown",
          "metadata": {
          },
          "source": "However, we could make some inferences about `zb` . If we note the number of passengers waiting when we arrive, we can estimate the elapsed time since the last train, `x` . Then we observe `y` . If we add the posterior distribution of `x` to the observed `y` , we get a distribution that represents our posterior belief about the observed value of `zb` ."
        },
        {
          "cell_type": "markdown",
          "metadata": {
          },
          "source": "We can use this distribution to update our beliefs about the distribution of `zb` . Finally, we can compute the inverse of `BiasPmf` to get from the distribution of `zb` to the distribution of `z` ."
        },
        {
          "cell_type": "markdown",
          "metadata": {
          },
          "source": "I leave this analysis as an exercise for the reader. One suggestion: you should read [ChapterÂ 15](ch15.html#species) first. You can find the outline of a solution in [http://thinkbayes.com/redline.py](http://thinkbayes.com/redline.py). For more information see [âWorking with the codeâ](preface01.html#download)."
        },
        {
          "cell_type": "heading",
          "level": 2,
          "metadata": {
          },
          "source": "Exercises"
        },
        {
          "cell_type": "markdown",
          "metadata": {
          },
          "source": "<div id=\"a0000003789\" class=\"exercise\" data-type=\"example\">\n<h5></h5>\n<p>This exercise is from MacKay, <em>Information Theory,\n        Inference, and Learning Algorithms</em>:<a data-type=\"indexterm\" data-primary=\"MacKay, David\" id=\"idp2223232\"></a></p>\n<blockquote><p>Unstable particles are emitted from a source and decay at a\n          distance <em>x</em>, a real number that has\n          an exponential probability distribution with [parameter] <em>Î»</em>. Decay events can only be observed if they\n          occur in a window extending from <math xmlns=\"http://www.w3.org/1998/Math/MathML\"><mrow xmlns:mml=\"http://www.w3.org/1998/Math/MathML\"><mi>x</mi><mo>=</mo><mn>1</mn></mrow></math> cm to <math xmlns=\"http://www.w3.org/1998/Math/MathML\"><mrow xmlns:mml=\"http://www.w3.org/1998/Math/MathML\"><mi>x</mi><mo>=</mo><mn>20</mn></mrow></math> cm. <em>N</em> decays\n          are observed at locations <math xmlns=\"http://www.w3.org/1998/Math/MathML\"><mrow xmlns:mml=\"http://www.w3.org/1998/Math/MathML\"><mo>{</mo><mn>1</mn><mo>.</mo><mn>5</mn><mo>,</mo><mn>2</mn><mo>,</mo><mn>3</mn><mo>,</mo><mn>4</mn><mo>,</mo><mn>5</mn><mo>,</mo><mn>12</mn><mo>}</mo></mrow></math> cm. What is the posterior distribution of\n          <em>Î»</em>?</p></blockquote>\n<p>You can download a solution to this exercise from <a href=\"http://thinkbayes.com/decay.py\" class=\"orm:hideurl\">http://thinkbayes.com/decay.py</a>.</p>\n</div>"
        }
      ],
      "metadata": {
      }
    }
  ]
}