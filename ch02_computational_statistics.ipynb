{
  "metadata": {
    "name": "Computational Statistics"
  },
  "nbformat": 3,
  "nbformat_minor": 0,
  "worksheets": [
    {
      "cells": [
        {
          "cell_type": "heading",
          "level": 1,
          "metadata": {
          },
          "source": "Computational Statistics"
        },
        {
          "cell_type": "heading",
          "level": 2,
          "metadata": {
          },
          "source": "Distributions"
        },
        {
          "cell_type": "markdown",
          "metadata": {
          },
          "source": "In statistics a **distribution** is a set of values and their corresponding probabilities."
        },
        {
          "cell_type": "markdown",
          "metadata": {
          },
          "source": "For example, if you roll a six-sided die, the set of possible values is the numbers 1 to 6, and the probability associated with each value is 1/6."
        },
        {
          "cell_type": "markdown",
          "metadata": {
          },
          "source": "As another example, you might be interested in how many times each word appears in common English usage. You could build a distribution that includes each word and how many times it appears."
        },
        {
          "cell_type": "markdown",
          "metadata": {
          },
          "source": "To represent a distribution in Python, you could use a dictionary that maps from each value to its probability. I have written a class called `Pmf` that uses a Python dictionary in exactly that way, and provides a number of useful methods. I called the class Pmf in reference to a **probability mass function**, which is a way to represent a distribution mathematically."
        },
        {
          "cell_type": "markdown",
          "metadata": {
          },
          "source": "`Pmf` is defined in a Python module I wrote to accompany this book, `thinkbayes.py` . You can download it from [http://thinkbayes.com/thinkbayes.py](http://thinkbayes.com/thinkbayes.py). For more information see [âWorking with the codeâ](preface01.html#download)."
        },
        {
          "cell_type": "markdown",
          "metadata": {
          },
          "source": "To use `Pmf` you can import it like this:"
        },
        {
          "cell_type": "code",
          "collapsed": false,
          "input": "from thinkbayes import Pmf",
          "language": "python",
          "metadata": {
          },
          "outputs": [

          ]
        },
        {
          "cell_type": "markdown",
          "metadata": {
          },
          "source": "The following code builds a Pmf to represent the distribution of outcomes for a six-sided die:"
        },
        {
          "cell_type": "code",
          "collapsed": false,
          "input": "pmf = Pmf()\nfor x in [1,2,3,4,5,6]:\n    pmf.Set(x, 1/6.0)",
          "language": "python",
          "metadata": {
          },
          "outputs": [

          ]
        },
        {
          "cell_type": "markdown",
          "metadata": {
          },
          "source": "`Pmf` creates an empty Pmf with no values. The `Set` method sets the probability associated with each value to 1/6."
        },
        {
          "cell_type": "markdown",
          "metadata": {
          },
          "source": "Hereâs another example that counts the number of times each word appears in a sequence:"
        },
        {
          "cell_type": "code",
          "collapsed": false,
          "input": "pmf = Pmf()\nfor word in word_list:\n    pmf.Incr(word, 1)",
          "language": "python",
          "metadata": {
          },
          "outputs": [

          ]
        },
        {
          "cell_type": "markdown",
          "metadata": {
          },
          "source": "`Incr` increases the âprobabilityâ associated with each word by 1. If a word is not already in the Pmf, it is added."
        },
        {
          "cell_type": "markdown",
          "metadata": {
          },
          "source": "I put âprobabilityâ in quotes because in this example, the probabilities are not normalized; that is, they do not add up to 1. So they are not true probabilities."
        },
        {
          "cell_type": "markdown",
          "metadata": {
          },
          "source": "But in this example the word counts are proportional to the probabilities. So after we count all the words, we can compute probabilities by dividing through by the total number of words. `Pmf` provides a method, `Normalize` , that does exactly that:"
        },
        {
          "cell_type": "code",
          "collapsed": false,
          "input": "pmf.Normalize()",
          "language": "python",
          "metadata": {
          },
          "outputs": [

          ]
        },
        {
          "cell_type": "markdown",
          "metadata": {
          },
          "source": "Once you have a Pmf object, you can ask for the probability associated with any value:"
        },
        {
          "cell_type": "code",
          "collapsed": false,
          "input": "print pmf.Prob('the')",
          "language": "python",
          "metadata": {
          },
          "outputs": [

          ]
        },
        {
          "cell_type": "markdown",
          "metadata": {
          },
          "source": "And that would print the frequency of the word âtheâ as a fraction of the words in the list."
        },
        {
          "cell_type": "markdown",
          "metadata": {
          },
          "source": "Pmf uses a Python dictionary to store the values and their probabilities, so the values in the Pmf can be any hashable type. The probabilities can be any numerical type, but they are usually floating-point numbers (type `float` )."
        },
        {
          "cell_type": "heading",
          "level": 2,
          "metadata": {
          },
          "source": "The cookie problem"
        },
        {
          "cell_type": "markdown",
          "metadata": {
          },
          "source": "In the context of Bayesâs theorem, it is natural to use a Pmf to map from each hypothesis to its probability. In the cookie problem, the hypotheses are _B1_ and _B2_. In Python, I represent them with strings:"
        },
        {
          "cell_type": "code",
          "collapsed": false,
          "input": "pmf = Pmf()\npmf.Set('Bowl 1', 0.5)\npmf.Set('Bowl 2', 0.5)",
          "language": "python",
          "metadata": {
          },
          "outputs": [

          ]
        },
        {
          "cell_type": "markdown",
          "metadata": {
          },
          "source": "This distribution, which contains the priors for each hypothesis, is called (wait for it) the **prior distribution**."
        },
        {
          "cell_type": "markdown",
          "metadata": {
          },
          "source": "To update the distribution based on new data (the vanilla cookie), we multiply each prior by the corresponding likelihood. The likelihood of drawing a vanilla cookie from Bowl 1 is 3/4. The likelihood for Bowl 2 is 1/2."
        },
        {
          "cell_type": "code",
          "collapsed": false,
          "input": "pmf.Mult('Bowl 1', 0.75)\npmf.Mult('Bowl 2', 0.5)",
          "language": "python",
          "metadata": {
          },
          "outputs": [

          ]
        },
        {
          "cell_type": "markdown",
          "metadata": {
          },
          "source": "`Mult` does what you would expect. It gets the probability for the given hypothesis and multiplies by the given likelihood."
        },
        {
          "cell_type": "markdown",
          "metadata": {
          },
          "source": "After this update, the distribution is no longer normalized, but because these hypotheses are mutually exclusive and collectively exhaustive, we can **renormalize**:"
        },
        {
          "cell_type": "code",
          "collapsed": false,
          "input": "pmf.Normalize()",
          "language": "python",
          "metadata": {
          },
          "outputs": [

          ]
        },
        {
          "cell_type": "markdown",
          "metadata": {
          },
          "source": "The result is a distribution that contains the posterior probability for each hypothesis, which is called (wait now) the **posterior distribution**."
        },
        {
          "cell_type": "markdown",
          "metadata": {
          },
          "source": "Finally, we can get the posterior probability for Bowl 1:"
        },
        {
          "cell_type": "code",
          "collapsed": false,
          "input": "print pmf.Prob('Bowl 1')",
          "language": "python",
          "metadata": {
          },
          "outputs": [

          ]
        },
        {
          "cell_type": "markdown",
          "metadata": {
          },
          "source": "And the answer is 0.6. You can download this example from [http://thinkbayes.com/cookie.py](http://thinkbayes.com/cookie.py). For more information see [âWorking with the codeâ](preface01.html#download)."
        },
        {
          "cell_type": "heading",
          "level": 2,
          "metadata": {
          },
          "source": "The Bayesian framework"
        },
        {
          "cell_type": "markdown",
          "metadata": {
          },
          "source": "Before we go on to other problems, I want to rewrite the code from the previous section to make it more general. First Iâll define a class to encapsulate the code related to this problem:"
        },
        {
          "cell_type": "code",
          "collapsed": false,
          "input": "class Cookie(Pmf):\n\n    def __init__(self, hypos):\n        Pmf.__init__(self)\n        for hypo in hypos:\n            self.Set(hypo, 1)\n        self.Normalize()",
          "language": "python",
          "metadata": {
          },
          "outputs": [

          ]
        },
        {
          "cell_type": "markdown",
          "metadata": {
          },
          "source": "A Cookie object is a Pmf that maps from hypotheses to their probabilities. The `__init__` method gives each hypothesis the same prior probability. As in the previous section, there are two hypotheses:"
        },
        {
          "cell_type": "code",
          "collapsed": false,
          "input": "    hypos = ['Bowl 1', 'Bowl 2']\n    pmf = Cookie(hypos)",
          "language": "python",
          "metadata": {
          },
          "outputs": [

          ]
        },
        {
          "cell_type": "markdown",
          "metadata": {
          },
          "source": "`Cookie` provides an `Update` method that takes data as a parameter and updates the probabilities:"
        },
        {
          "cell_type": "code",
          "collapsed": false,
          "input": "    def Update(self, data):\n        for hypo in self.Values():\n            like = self.Likelihood(data, hypo)\n            self.Mult(hypo, like)\n        self.Normalize()",
          "language": "python",
          "metadata": {
          },
          "outputs": [

          ]
        },
        {
          "cell_type": "markdown",
          "metadata": {
          },
          "source": "`Update` loops through each hypothesis in the suite and multiplies its probability by the likelihood of the data under the hypothesis, which is computed by `Likelihood` :"
        },
        {
          "cell_type": "code",
          "collapsed": false,
          "input": "    mixes = {\n        'Bowl 1':dict(vanilla=0.75, chocolate=0.25),\n        'Bowl 2':dict(vanilla=0.5, chocolate=0.5),\n        }\n\n    def Likelihood(self, data, hypo):\n        mix = self.mixes[hypo]\n        like = mix[data]\n        return like",
          "language": "python",
          "metadata": {
          },
          "outputs": [

          ]
        },
        {
          "cell_type": "markdown",
          "metadata": {
          },
          "source": "`Likelihood` uses `mixes` , which is a dictionary that maps from the name of a bowl to the mix of cookies in the bowl."
        },
        {
          "cell_type": "markdown",
          "metadata": {
          },
          "source": "Hereâs what the update looks like:"
        },
        {
          "cell_type": "code",
          "collapsed": false,
          "input": "    pmf.Update('vanilla')",
          "language": "python",
          "metadata": {
          },
          "outputs": [

          ]
        },
        {
          "cell_type": "markdown",
          "metadata": {
          },
          "source": "And then we can print the posterior probability of each hypothesis:"
        },
        {
          "cell_type": "code",
          "collapsed": false,
          "input": "    for hypo, prob in pmf.Items():\n        print hypo, prob",
          "language": "python",
          "metadata": {
          },
          "outputs": [

          ]
        },
        {
          "cell_type": "markdown",
          "metadata": {
          },
          "source": "The result is"
        },
        {
          "cell_type": "code",
          "collapsed": false,
          "input": "Bowl 1 0.6\nBowl 2 0.4",
          "language": "python",
          "metadata": {
          },
          "outputs": [

          ]
        },
        {
          "cell_type": "markdown",
          "metadata": {
          },
          "source": "which is the same as what we got before. This code is more complicated than what we saw in the previous section. One advantage is that it generalizes to the case where we draw more than one cookie from the same bowl (with replacement):"
        },
        {
          "cell_type": "code",
          "collapsed": false,
          "input": "    dataset = ['vanilla', 'chocolate', 'vanilla']\n    for data in dataset:\n        pmf.Update(data)",
          "language": "python",
          "metadata": {
          },
          "outputs": [

          ]
        },
        {
          "cell_type": "markdown",
          "metadata": {
          },
          "source": "The other advantage is that it provides a framework for solving many similar problems. In the next section weâll solve the Monty Hall problem computationally and then see what parts of the framework are the same."
        },
        {
          "cell_type": "markdown",
          "metadata": {
          },
          "source": "The code in this section is available from [http://thinkbayes.com/cookie2.py](http://thinkbayes.com/cookie2.py). For more information see [âWorking with the codeâ](preface01.html#download)."
        },
        {
          "cell_type": "heading",
          "level": 2,
          "metadata": {
          },
          "source": "The Monty Hall problem"
        },
        {
          "cell_type": "markdown",
          "metadata": {
          },
          "source": "To solve the Monty Hall problem, Iâll define a new class:"
        },
        {
          "cell_type": "code",
          "collapsed": false,
          "input": "class Monty(Pmf):\n\n    def __init__(self, hypos):\n        Pmf.__init__(self)\n        for hypo in hypos:\n            self.Set(hypo, 1)\n        self.Normalize()",
          "language": "python",
          "metadata": {
          },
          "outputs": [

          ]
        },
        {
          "cell_type": "markdown",
          "metadata": {
          },
          "source": "So far `Monty` and `Cookie` are exactly the same. And the code that creates the Pmf is the same, too, except for the names of the hypotheses:"
        },
        {
          "cell_type": "code",
          "collapsed": false,
          "input": "    hypos = 'ABC'\n    pmf = Monty(hypos)",
          "language": "python",
          "metadata": {
          },
          "outputs": [

          ]
        },
        {
          "cell_type": "markdown",
          "metadata": {
          },
          "source": "Calling `Update` is pretty much the same:"
        },
        {
          "cell_type": "code",
          "collapsed": false,
          "input": "    data = 'B'\n    pmf.Update(data)",
          "language": "python",
          "metadata": {
          },
          "outputs": [

          ]
        },
        {
          "cell_type": "markdown",
          "metadata": {
          },
          "source": "And the implementation of `Update` is exactly the same:"
        },
        {
          "cell_type": "code",
          "collapsed": false,
          "input": "    def Update(self, data):\n        for hypo in self.Values():\n            like = self.Likelihood(data, hypo)\n            self.Mult(hypo, like)\n        self.Normalize()",
          "language": "python",
          "metadata": {
          },
          "outputs": [

          ]
        },
        {
          "cell_type": "markdown",
          "metadata": {
          },
          "source": "The only part that requires some work is `Likelihood` :"
        },
        {
          "cell_type": "code",
          "collapsed": false,
          "input": "    def Likelihood(self, data, hypo):\n        if hypo == data:\n            return 0\n        elif hypo == 'A':\n            return 0.5\n        else:\n            return 1",
          "language": "python",
          "metadata": {
          },
          "outputs": [

          ]
        },
        {
          "cell_type": "markdown",
          "metadata": {
          },
          "source": "Finally, printing the results is the same:"
        },
        {
          "cell_type": "code",
          "collapsed": false,
          "input": "    for hypo, prob in pmf.Items():\n        print hypo, prob",
          "language": "python",
          "metadata": {
          },
          "outputs": [

          ]
        },
        {
          "cell_type": "markdown",
          "metadata": {
          },
          "source": "And the answer is"
        },
        {
          "cell_type": "code",
          "collapsed": false,
          "input": "A 0.333333333333\nB 0.0\nC 0.666666666667",
          "language": "python",
          "metadata": {
          },
          "outputs": [

          ]
        },
        {
          "cell_type": "markdown",
          "metadata": {
          },
          "source": "In this example, writing `Likelihood` is a little complicated, but the framework of the Bayesian update is simple. The code in this section is available from [http://thinkbayes.com/monty.py](http://thinkbayes.com/monty.py). For more information see [âWorking with the codeâ](preface01.html#download)."
        },
        {
          "cell_type": "heading",
          "level": 2,
          "metadata": {
          },
          "source": "Encapsulating the framework"
        },
        {
          "cell_type": "markdown",
          "metadata": {
          },
          "source": "Now that we see what elements of the framework are the same, we can encapsulate them in an objectâa `Suite` is a `Pmf` that provides `__init__` , `Update` , and `Print` :"
        },
        {
          "cell_type": "code",
          "collapsed": false,
          "input": "class Suite(Pmf):\n    \"\"\"Represents a suite of hypotheses and their probabilities.\"\"\"\n\n    def __init__(self, hypo=tuple()):\n        \"\"\"Initializes the distribution.\"\"\"\n\n    def Update(self, data):\n        \"\"\"Updates each hypothesis based on the data.\"\"\"\n\n    def Print(self):\n        \"\"\"Prints the hypotheses and their probabilities.\"\"\"",
          "language": "python",
          "metadata": {
          },
          "outputs": [

          ]
        },
        {
          "cell_type": "markdown",
          "metadata": {
          },
          "source": "The implementation of `Suite` is in `thinkbayes.py` . To use `Suite` , you should write a class that inherits from it and provides `Likelihood` . For example, here is the solution to the Monty Hall problem rewritten to use `Suite` :"
        },
        {
          "cell_type": "code",
          "collapsed": false,
          "input": "from thinkbayes import Suite\n\nclass Monty(Suite):\n\n    def Likelihood(self, data, hypo):\n        if hypo == data:\n            return 0\n        elif hypo == 'A':\n            return 0.5\n        else:\n            return 1",
          "language": "python",
          "metadata": {
          },
          "outputs": [

          ]
        },
        {
          "cell_type": "markdown",
          "metadata": {
          },
          "source": "And hereâs the code that uses this class:"
        },
        {
          "cell_type": "code",
          "collapsed": false,
          "input": "    suite = Monty('ABC')\n    suite.Update('B')\n    suite.Print()",
          "language": "python",
          "metadata": {
          },
          "outputs": [

          ]
        },
        {
          "cell_type": "markdown",
          "metadata": {
          },
          "source": "You can download this example from [http://thinkbayes.com/monty2.py](http://thinkbayes.com/monty2.py). For more information see [âWorking with the codeâ](preface01.html#download)."
        },
        {
          "cell_type": "heading",
          "level": 2,
          "metadata": {
          },
          "source": "The M&Mproblem"
        },
        {
          "cell_type": "markdown",
          "metadata": {
          },
          "source": "We can use the `Suite` framework to solve the M&Mproblem. Writing the `Likelihood` function is tricky, but everything else is straightforward."
        },
        {
          "cell_type": "markdown",
          "metadata": {
          },
          "source": "First I need to encode the color mixes from before and after 1995:"
        },
        {
          "cell_type": "code",
          "collapsed": false,
          "input": "    mix94 = dict(brown=30,\n                 yellow=20,\n                 red=20,\n                 green=10,\n                 orange=10,\n                 tan=10)\n\n    mix96 = dict(blue=24,\n                 green=20,\n                 orange=16,\n                 yellow=14,\n                 red=13,\n                 brown=13)",
          "language": "python",
          "metadata": {
          },
          "outputs": [

          ]
        },
        {
          "cell_type": "markdown",
          "metadata": {
          },
          "source": "Then I have to encode the hypotheses:"
        },
        {
          "cell_type": "code",
          "collapsed": false,
          "input": "    hypoA = dict(bag1=mix94, bag2=mix96)\n    hypoB = dict(bag1=mix96, bag2=mix94)",
          "language": "python",
          "metadata": {
          },
          "outputs": [

          ]
        },
        {
          "cell_type": "markdown",
          "metadata": {
          },
          "source": "`hypoA` represents the hypothesis that Bag 1 is from 1994 and Bag 2 from 1996. `hypoB` is the other way around."
        },
        {
          "cell_type": "markdown",
          "metadata": {
          },
          "source": "Next I map from the name of the hypothesis to the representation:"
        },
        {
          "cell_type": "code",
          "collapsed": false,
          "input": "    hypotheses = dict(A=hypoA, B=hypoB)",
          "language": "python",
          "metadata": {
          },
          "outputs": [

          ]
        },
        {
          "cell_type": "markdown",
          "metadata": {
          },
          "source": "And finally I can write `Likelihood` . In this case the hypothesis, `hypo` , is a string, either `A` or `B` . The data is a tuple that specifies a bag and a color."
        },
        {
          "cell_type": "code",
          "collapsed": false,
          "input": "    def Likelihood(self, data, hypo):\n        bag, color = data\n        mix = self.hypotheses[hypo][bag]\n        like = mix[color]\n        return like",
          "language": "python",
          "metadata": {
          },
          "outputs": [

          ]
        },
        {
          "cell_type": "markdown",
          "metadata": {
          },
          "source": "Hereâs the code that creates the suite and updates it:"
        },
        {
          "cell_type": "code",
          "collapsed": false,
          "input": "    suite = M_and_M('AB')\n\n    suite.Update(('bag1', 'yellow'))\n    suite.Update(('bag2', 'green'))\n\n    suite.Print()",
          "language": "python",
          "metadata": {
          },
          "outputs": [

          ]
        },
        {
          "cell_type": "markdown",
          "metadata": {
          },
          "source": "And hereâs the result:"
        },
        {
          "cell_type": "code",
          "collapsed": false,
          "input": "A 0.740740740741\nB 0.259259259259",
          "language": "python",
          "metadata": {
          },
          "outputs": [

          ]
        },
        {
          "cell_type": "markdown",
          "metadata": {
          },
          "source": "The posterior probability of A is approximately 20/27, which is what we got before."
        },
        {
          "cell_type": "markdown",
          "metadata": {
          },
          "source": "The code in this section is available from [http://thinkbayes.com/m\\_and\\_m.py](http://thinkbayes.com/m_and_m.py). For more information see [âWorking with the codeâ](preface01.html#download)."
        },
        {
          "cell_type": "heading",
          "level": 2,
          "metadata": {
          },
          "source": "Discussion"
        },
        {
          "cell_type": "markdown",
          "metadata": {
          },
          "source": "This chapter presents the Suite class, which encapsulates the Bayesian update framework."
        },
        {
          "cell_type": "markdown",
          "metadata": {
          },
          "source": "`Suite` is an **abstract type**, which means that it defines the interface a Suite is supposed to have, but does not provide a complete implementation. The `Suite` interface includes `Update` and `Likelihood` , but the `Suite` class only provides an implementation of `Update` , not `Likelihood` ."
        },
        {
          "cell_type": "markdown",
          "metadata": {
          },
          "source": "A **concrete type** is a class that extends an abstract parent class and provides an implementation of the missing methods. For example, `Monty` extends `Suite` , so it inherits `Update` and provides `Likelihood` ."
        },
        {
          "cell_type": "markdown",
          "metadata": {
          },
          "source": "If you are familiar with design patterns, you might recognize this as an example of the template method pattern. You can read about this pattern at [http://en.wikipedia.org/wiki/Template\\_method\\_pattern](http://en.wikipedia.org/wiki/Template_method_pattern)."
        },
        {
          "cell_type": "markdown",
          "metadata": {
          },
          "source": "Most of the examples in the following chapters follow the same pattern; for each problem we define a new class that extends `Suite` , inherits `Update` , and provides `Likelihood` . In a few cases we override `Update` , usually to improve performance."
        },
        {
          "cell_type": "heading",
          "level": 2,
          "metadata": {
          },
          "source": "Exercises"
        },
        {
          "cell_type": "markdown",
          "metadata": {
          },
          "source": "<div id=\"a0000001217\" class=\"exercise\" data-type=\"example\">\n<h5></h5>\n<p>In <a data-type=\"xref\" href=\"#framework\">âThe Bayesian frameworkâ</a> I said that the solution to the\n        cookie problem generalizes to the case where we draw multiple cookies\n        with replacement.</p>\n<p>But in the more likely scenario where we eat the cookies we\n        draw, the likelihood of each draw depends on the previous\n        draws.</p>\n<p>Modify the solution in this chapter to handle selection without\n        replacement. Hint: add instance variables to <code>Cookie</code> to represent the hypothetical state\n        of the bowls, and modify <code>Likelihood</code>\n        accordingly. You might want to define a <code>Bowl</code> object.</p>\n</div>"
        }
      ],
      "metadata": {
      }
    }
  ]
}