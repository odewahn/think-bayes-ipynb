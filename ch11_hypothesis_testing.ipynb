{
  "metadata": {
    "name": "Hypothesis Testing"
  },
  "nbformat": 3,
  "nbformat_minor": 0,
  "worksheets": [
    {
      "cells": [
        {
          "cell_type": "heading",
          "level": 1,
          "metadata": {
          },
          "source": "Hypothesis Testing"
        },
        {
          "cell_type": "heading",
          "level": 2,
          "metadata": {
          },
          "source": "Back to the Euro problem"
        },
        {
          "cell_type": "markdown",
          "metadata": {
          },
          "source": "In [âThe Euro problemâ](ch04.html#euro) I presented a problem from MacKayâs _Information Theory, Inference, and Learning Algorithms_:"
        },
        {
          "cell_type": "markdown",
          "metadata": {
          },
          "source": "<blockquote>\n<p>A statistical statement appeared in âThe Guardianâ on Friday\n      January 4, 2002:</p>\n<blockquote><p>When spun on edge 250 times, a Belgian one-euro coin came up\n        heads 140 times and tails 110. âIt looks very suspicious to me,â said\n        Barry Blight, a statistics lecturer at the London School of Economics.\n        âIf the coin were unbiased, the chance of getting a result as extreme\n        as that would be less than 7%.â</p></blockquote>\n<p>But do these data give evidence that the coin is biased rather\n      than fair?</p>\n</blockquote>\n"
        },
        {
          "cell_type": "markdown",
          "metadata": {
          },
          "source": "We estimated the probability that the coin would land face up, but we didnât really answer MacKayâs question: Do the data give evidence that the coin is biased?"
        },
        {
          "cell_type": "markdown",
          "metadata": {
          },
          "source": "In [ChapterÂ 4](ch04.html#more) I proposed that data are in favor of a hypothesis if the data are more likely under the hypothesis than under the alternative or, equivalently, if the Bayes factor is greater than 1."
        },
        {
          "cell_type": "markdown",
          "metadata": {
          },
          "source": "In the Euro example, we have two hypotheses to consider: Iâll use _F_ for the hypothesis that the coin is fair and _B_ for the hypothesis that it is biased."
        },
        {
          "cell_type": "markdown",
          "metadata": {
          },
          "source": "If the coin is fair, it is easy to compute the likelihood of the data, p(D|F). In fact, we already wrote the function that does it."
        },
        {
          "cell_type": "code",
          "collapsed": false,
          "input": "    def Likelihood(self, data, hypo):\n        x = hypo / 100.0\n        head, tails = data\n        like = x**heads * (1-x)**tails\n        return like",
          "language": "python",
          "metadata": {
          },
          "outputs": [

          ]
        },
        {
          "cell_type": "markdown",
          "metadata": {
          },
          "source": "To use it we can create a `Euro` suite and invoke `Likelihood` :"
        },
        {
          "cell_type": "code",
          "collapsed": false,
          "input": "    suite = Euro()\n    likelihood = suite.Likelihood(data, 50)",
          "language": "python",
          "metadata": {
          },
          "outputs": [

          ]
        },
        {
          "cell_type": "markdown",
          "metadata": {
          },
          "source": "p(D|F) is 5.5Â·10-76, which doesnât tell us much except that the probability of seeing any particular dataset is very small. It takes two likelihoods to make a ratio, so we also have to compute p(D|B)."
        },
        {
          "cell_type": "markdown",
          "metadata": {
          },
          "source": "It is not obvious how to compute the likelihood of _B_, because itâs not obvious what âbiasedâ means."
        },
        {
          "cell_type": "markdown",
          "metadata": {
          },
          "source": "One possibility is to cheat and look at the data before we define the hypothesis. In that case we would say that âbiasedâ means that the probability of heads is 140/250."
        },
        {
          "cell_type": "code",
          "collapsed": false,
          "input": "    actual_percent = 100.0 * 140 / 250\n    likelihood = suite.Likelihood(data, actual_percent)",
          "language": "python",
          "metadata": {
          },
          "outputs": [

          ]
        },
        {
          "cell_type": "markdown",
          "metadata": {
          },
          "source": "This version of _B_ I call `B_cheat` ; the likelihood of `b_cheat` is 34Â·10-76 and the likelihood ratio is 6.1. So we would say that the data are evidence in favor of this version of _B_."
        },
        {
          "cell_type": "markdown",
          "metadata": {
          },
          "source": "But using the data to formulate the hypothesis is obviously bogus. By that definition, any dataset would be evidence in favor of _B_, unless the observed percentage of heads is exactly 50%."
        },
        {
          "cell_type": "heading",
          "level": 2,
          "metadata": {
          },
          "source": "Making a fair comparison"
        },
        {
          "cell_type": "markdown",
          "metadata": {
          },
          "source": "To make a legitimate comparison, we have to define _B_ without looking at the data. So letâs try a different definition. If you inspect a Belgian Euro coin, you might notice that the âheadsâ side is more prominent than the âtailsâ side. You might expect the shape to have some effect on _x_, but be unsure whether it makes heads more or less likely. So you might say âI think the coin is biased so that _x_ is either 0.6 or 0.4, but I am not sure which.â"
        },
        {
          "cell_type": "markdown",
          "metadata": {
          },
          "source": "We can think of this version, which Iâll call `B_two` as a hypothesis made up of two sub-hypotheses. We can compute the likelihood for each sub-hypothesis and then compute the average likelihood."
        },
        {
          "cell_type": "code",
          "collapsed": false,
          "input": "    like40 = suite.Likelihood(data, 40)\n    like60 = suite.Likelihood(data, 60)\n    likelihood = 0.5 * like40 + 0.5 * like60",
          "language": "python",
          "metadata": {
          },
          "outputs": [

          ]
        },
        {
          "cell_type": "markdown",
          "metadata": {
          },
          "source": "The likelihood ratio (or Bayes factor) for `b_two` is 1.3, which means the data provide weak evidence in favor of `b_two` ."
        },
        {
          "cell_type": "markdown",
          "metadata": {
          },
          "source": "More generally, suppose you suspect that the coin is biased, but you have no clue about the value of _x_. In that case you might build a Suite, which I call `b_uniform` , to represent sub-hypotheses from 0 to 100."
        },
        {
          "cell_type": "code",
          "collapsed": false,
          "input": "    b_uniform = Euro(xrange(0, 101))\n    b_uniform.Remove(50)\n    b_uniform.Normalize()",
          "language": "python",
          "metadata": {
          },
          "outputs": [

          ]
        },
        {
          "cell_type": "markdown",
          "metadata": {
          },
          "source": "I initialize `b_uniform` with vales from 0 to 100. I removed the sub-hypothesis that _x_ is 50%, because if _x_ is 50% the coin is fair, but it has almost no effect on the result whether you remove it or not."
        },
        {
          "cell_type": "markdown",
          "metadata": {
          },
          "source": "To compute the likelihood of `b_uniform` we compute the likelihood of each sub-hypothesis and accumulate a weighted average."
        },
        {
          "cell_type": "code",
          "collapsed": false,
          "input": "def SuiteLikelihood(suite, data):\n    total = 0\n    for hypo, prob in suite.Items():\n        like = suite.Likelihood(data, hypo)\n        total += prob * like\n    return total",
          "language": "python",
          "metadata": {
          },
          "outputs": [

          ]
        },
        {
          "cell_type": "markdown",
          "metadata": {
          },
          "source": "The likelihood ratio for `b_uniform` is 0.47, which means that the data are weak evidence against `b_uniform` , compared to _F_."
        },
        {
          "cell_type": "markdown",
          "metadata": {
          },
          "source": "If you think about the computation performed by `SuiteLikelihood` , you might notice that it is similar to an update. To refresh your memory, hereâs the `Update` function:"
        },
        {
          "cell_type": "code",
          "collapsed": false,
          "input": "    def Update(self, data):\n        for hypo in self.Values():\n            like = self.Likelihood(data, hypo)\n            self.Mult(hypo, like)\n        return self.Normalize()",
          "language": "python",
          "metadata": {
          },
          "outputs": [

          ]
        },
        {
          "cell_type": "markdown",
          "metadata": {
          },
          "source": "And hereâs `Normalize` :"
        },
        {
          "cell_type": "code",
          "collapsed": false,
          "input": "    def Normalize(self):\n        total = self.Total()\n        \n        factor = 1.0 / total\n        for x in self.d:\n            self.d[x] *= factor\n\n        return total",
          "language": "python",
          "metadata": {
          },
          "outputs": [

          ]
        },
        {
          "cell_type": "markdown",
          "metadata": {
          },
          "source": "The return value from `Normalize` is the total of the probabilities in the Suite, which is the average of the likelihoods for the sub-hypotheses, weighted by the prior probabilities. And `Update` passes this value along, so instead of using `SuiteLikelihood` , we could compute the likelihood of `b_uniform` like this:"
        },
        {
          "cell_type": "code",
          "collapsed": false,
          "input": "    likelihood = b_uniform.Update(data)",
          "language": "python",
          "metadata": {
          },
          "outputs": [

          ]
        },
        {
          "cell_type": "heading",
          "level": 2,
          "metadata": {
          },
          "source": "The triangle prior"
        },
        {
          "cell_type": "markdown",
          "metadata": {
          },
          "source": "In [ChapterÂ 4](ch04.html#more) we also considered a triangle-shaped prior that gives higher probability to values of _x_ near 50%. If we think of this prior as a suite of sub-hypotheses, we can compute its likelihood like this:"
        },
        {
          "cell_type": "code",
          "collapsed": false,
          "input": "    b_triangle = TrianglePrior()\n    likelihood = b_triangle.Update(data)",
          "language": "python",
          "metadata": {
          },
          "outputs": [

          ]
        },
        {
          "cell_type": "markdown",
          "metadata": {
          },
          "source": "The likelihood ratio for `b_triangle` is 0.84, compared to _F_, so again we would say that the data are weak evidence against _B_."
        },
        {
          "cell_type": "markdown",
          "metadata": {
          },
          "source": "The following table shows the priors we have considered, the likelihood of each, and the likelihood ratio (or Bayes factor) relative to _F_."
        },
        {
          "cell_type": "markdown",
          "metadata": {
          },
          "source": "<table><tbody>\n<tr>\n<td><p>Hypothesis </p></td>\n<td><p> Likelihood </p></td>\n<td><p> Bayes </p></td>\n</tr>\n<tr>\n<td></td>\n<td><p> <math xmlns=\"http://www.w3.org/1998/Math/MathML\"><mrow xmlns:mml=\"http://www.w3.org/1998/Math/MathML\"><mo>Ã</mo><msup><mn>10</mn><mrow><mo>-</mo><mn>76</mn></mrow></msup></mrow></math></p></td>\n<td><p> Factor </p></td>\n</tr>\n<tr>\n<td><p><em>F</em> </p></td>\n<td><p> 5.5 </p></td>\n<td><p> â </p></td>\n</tr>\n<tr>\n<td><p><code>B_cheat</code> </p></td>\n<td><p> 34 </p></td>\n<td><p> 6.1 </p></td>\n</tr>\n<tr>\n<td><p><code>B_two</code> </p></td>\n<td><p> 7.4 </p></td>\n<td><p> 1.3 </p></td>\n</tr>\n<tr>\n<td><p><code>B_uniform</code> </p></td>\n<td><p> 2.6 </p></td>\n<td><p> 0.47 </p></td>\n</tr>\n<tr>\n<td><p><code>B_triangle</code> </p></td>\n<td><p> 4.6 </p></td>\n<td><p> 0.84 </p></td>\n</tr>\n</tbody></table>\n"
        },
        {
          "cell_type": "markdown",
          "metadata": {
          },
          "source": "Depending on which definition we choose, the data might provide evidence for or against the hypothesis that the coin is biased, but in either case it is relatively weak evidence."
        },
        {
          "cell_type": "markdown",
          "metadata": {
          },
          "source": "In summary, we can use Bayesian hypothesis testing to compare the likelihood of _F_ and _B_, but we have to do some work to specify precisely what _B_ means. This specification depends on background information about coins and their behavior when spun, so people could reasonably disagree about the right definition."
        },
        {
          "cell_type": "markdown",
          "metadata": {
          },
          "source": "My presentation of this example follows David MacKayâs discussion, and comes to the same conclusion. You can download the code I used in this chapter from [http://thinkbayes.com/euro3.py](http://thinkbayes.com/euro3.py). For more information see [âWorking with the codeâ](preface01.html#download)."
        },
        {
          "cell_type": "heading",
          "level": 2,
          "metadata": {
          },
          "source": "Discussion"
        },
        {
          "cell_type": "markdown",
          "metadata": {
          },
          "source": "The Bayes factor for `B_uniform` is 0.47, which means that the data provide evidence against this hypothesis, compared to _F_. In the previous section I characterized this evidence as âweak,â but didnât say why."
        },
        {
          "cell_type": "markdown",
          "metadata": {
          },
          "source": "Part of the answer is historical. Harold Jeffreys, an early proponent of Bayesian statistics, suggested a scale for interpreting Bayes factors:"
        },
        {
          "cell_type": "markdown",
          "metadata": {
          },
          "source": "<table><tbody>\n<tr>\n<td><p>Bayes </p></td>\n<td><p> Strength </p></td>\n</tr>\n<tr>\n<td><p>Factor </p></td>\n<td></td>\n</tr>\n<tr>\n<td><p>1 â 3 </p></td>\n<td><p> Barely worth mentioning </p></td>\n</tr>\n<tr>\n<td><p>3 â 10 </p></td>\n<td><p> Substantial </p></td>\n</tr>\n<tr>\n<td><p>10 â 30 </p></td>\n<td><p> Strong </p></td>\n</tr>\n<tr>\n<td><p>30 â 100 </p></td>\n<td><p> Very strong </p></td>\n</tr>\n<tr>\n<td><p><math xmlns=\"http://www.w3.org/1998/Math/MathML\"><mo xmlns:mml=\"http://www.w3.org/1998/Math/MathML\">&gt;</mo></math> 100 </p></td>\n<td><p> Decisive </p></td>\n</tr>\n</tbody></table>\n"
        },
        {
          "cell_type": "markdown",
          "metadata": {
          },
          "source": "In the example, the Bayes factor is 0.47 in favor of `B_uniform` , so it is 2.1 in favor is _F_, which Jeffreys would consider âbarely worth mentioning.â Other authors have suggested variations on the wording. To avoid arguing about adjectives, we could think about odds instead."
        },
        {
          "cell_type": "markdown",
          "metadata": {
          },
          "source": "If your prior odds are 1:1, and you see evidence with Bayes factor 2, your posterior odds are 2:1. In terms of probability, the data changed your degree of belief from 50% to 66%. For most real world problems, that change would be small relative to modeling errors and other sources of uncertainty."
        },
        {
          "cell_type": "markdown",
          "metadata": {
          },
          "source": "On the other hand, if you had seen evidence with Bayes factor 100, your posterior odds would be 100:1 or more than 99%. Whether or not you agree that such evidence is âdecisive,â it is certainly strong."
        },
        {
          "cell_type": "heading",
          "level": 2,
          "metadata": {
          },
          "source": "Exercises"
        },
        {
          "cell_type": "markdown",
          "metadata": {
          },
          "source": "<div id=\"a0000005140\" class=\"exercise\" data-type=\"example\">\n<h5></h5>\n<p>Some people believe in the existence of extra-sensory perception\n        (ESP); for example, the ability of some people to guess the value of\n        an unseen playing card with probability better than chance.<a data-type=\"indexterm\" data-primary=\"ESP\" id=\"idp2789584\"></a><a data-type=\"indexterm\" data-primary=\"extra-sensory perception\" id=\"idp2790848\"></a></p>\n<p>What is your prior degree of belief in this kind of ESP? Do you\n        think it is as likely to exist as not? Or are you more skeptical about\n        it? Write down your prior odds.</p>\n<p>Now compute the strength of the evidence it would take to\n        convince you that ESP is at least 50% likely to exist. What Bayes\n        factor would be needed to make you 90% sure that ESP exists?</p>\n</div>\n"
        },
        {
          "cell_type": "markdown",
          "metadata": {
          },
          "source": "<div id=\"a0000005148\" class=\"exercise\" data-type=\"example\">\n<h5></h5>\n<p>Suppose that your answer to the previous question is 1000; that\n        is, evidence with Bayes factor 1000 in favor of ESP would be\n        sufficient to change your mind.</p>\n<p>Now suppose that you read a paper in a respectable peer-reviewed\n        scientific journal that presents evidence with Bayes factor 1000 in\n        favor of ESP. Would that change your mind?</p>\n<p>If not, how do you resolve the apparent contradiction? You might\n        find it helpful to read about David Humeâs article, âOf Miracles,â at\n        <a href=\"http://en.wikipedia.org/wiki/Of_Miracles\" class=\"orm:hideurl\">http://en.wikipedia.org/wiki/Of_Miracles</a>.<a data-type=\"indexterm\" data-primary=\"Hume, David\" id=\"idp2798464\"></a></p>\n</div>"
        }
      ],
      "metadata": {
      }
    }
  ]
}