{
  "metadata": {
    "name": "Prediction"
  },
  "nbformat": 3,
  "nbformat_minor": 0,
  "worksheets": [
    {
      "cells": [
        {
          "cell_type": "heading",
          "level": 1,
          "metadata": {
          },
          "source": "Prediction"
        },
        {
          "cell_type": "heading",
          "level": 2,
          "metadata": {
          },
          "source": "The Boston Bruins problem"
        },
        {
          "cell_type": "markdown",
          "metadata": {
          },
          "source": "In the 2010-11 National Hockey League (NHL) Finals, my beloved Boston Bruins played a best-of-seven championship series against the despised Vancouver Canucks. Boston lost the first two games 0-1 and 2-3, then won the next two games 8-1 and 4-0. At this point in the series, what is the probability that Boston will win the next game, and what is their probability of winning the championship?"
        },
        {
          "cell_type": "markdown",
          "metadata": {
          },
          "source": "As always, to answer a question like this, we need to make some assumptions. First, it is reasonable to believe that goal scoring in hockey is at least approximately a Poisson process, which means that it is equally likely for a goal to be scored at any time during a game. Second, we can assume that against a particular opponent, each team has some long-term average goals per game, denoted _Î»_."
        },
        {
          "cell_type": "markdown",
          "metadata": {
          },
          "source": "Given these assumptions, my strategy for answering this question is"
        },
        {
          "cell_type": "markdown",
          "metadata": {
          },
          "source": "<ol>\n<li><p>Use statistics from previous games to choose a prior\n        distribution for <em>Î»</em>.</p></li>\n<li><p>Use the score from the first four games to estimate <em>Î»</em> for each team.</p></li>\n<li><p>Use the posterior distributions of <em>Î»</em> to compute distribution of goals for each\n        team, the distribution of the goal differential, and the probability\n        that each team wins the next game.</p></li>\n<li><p>Compute the probability that each team wins the series.</p></li>\n</ol>\n"
        },
        {
          "cell_type": "markdown",
          "metadata": {
          },
          "source": "To choose a prior distribution, I got some statistics from [http://www.nhl.com](http://www.nhl.com), specifically the average goals per game for each team in the 2010-11 season. The distribution is roughly Gaussian with mean 2.8 and standard deviation 0.3."
        },
        {
          "cell_type": "markdown",
          "metadata": {
          },
          "source": "The Gaussian distribution is continuous, but weâll approximate it with a discrete Pmf. `thinkbayes` provides `MakeGaussianPmf` to do exactly that:"
        },
        {
          "cell_type": "code",
          "collapsed": false,
          "input": "def MakeGaussianPmf(mu, sigma, num_sigmas, n=101):\n    pmf = Pmf()\n    low = mu - num_sigmas*sigma\n    high = mu + num_sigmas*sigma\n\n    for x in numpy.linspace(low, high, n):\n        p = scipy.stats.norm.pdf(mu, sigma, x)\n        pmf.Set(x, p)\n    pmf.Normalize()\n    return pmf",
          "language": "python",
          "metadata": {
          },
          "outputs": [

          ]
        },
        {
          "cell_type": "markdown",
          "metadata": {
          },
          "source": "`mu` and `sigma` are the mean and standard deviation of the Gaussian distribution. `num_sigmas` is the number of standard deviations above and below the mean that the Pmf will span, and `n` is the number of values in the Pmf."
        },
        {
          "cell_type": "markdown",
          "metadata": {
          },
          "source": "Again we use `numpy.linspace` to make an array of `n` equally spaced values between `low` and `high` , including both."
        },
        {
          "cell_type": "markdown",
          "metadata": {
          },
          "source": "`norm.pdf` evaluates the Gaussian probability density function (PDF)."
        },
        {
          "cell_type": "markdown",
          "metadata": {
          },
          "source": "Getting back to the hockey problem, hereâs the definition for a suite of hypotheses about the value of _Î»_."
        },
        {
          "cell_type": "code",
          "collapsed": false,
          "input": "class Hockey(thinkbayes.Suite):\n\n    def __init__(self):\n        pmf = thinkbayes.MakeGaussianPmf(2.7, 0.3, 4)\n        thinkbayes.Suite.__init__(self, pmf)",
          "language": "python",
          "metadata": {
          },
          "outputs": [

          ]
        },
        {
          "cell_type": "markdown",
          "metadata": {
          },
          "source": "So the prior distribution is Gaussian with mean 2.7, standard deviation 0.3, and it spans 4 sigmas above and below the mean."
        },
        {
          "cell_type": "markdown",
          "metadata": {
          },
          "source": "As always, we have to decide how to represent each hypothesis; in this case I represent the hypothesis that Î»=x with the floating-point value `x` ."
        },
        {
          "cell_type": "heading",
          "level": 2,
          "metadata": {
          },
          "source": "Poisson processes"
        },
        {
          "cell_type": "markdown",
          "metadata": {
          },
          "source": "In mathematical statistics, a **process** is a stochastic model of a physical system (âstochasticâ means that the model has some kind of randomness in it). For example, a Bernoulli process is a model of a sequence of events, called trials, in which each trial has two possible outcomes, like success and failure. So a Bernoulli process is a natural model for a series of coin flips, or a series of shots on goal."
        },
        {
          "cell_type": "markdown",
          "metadata": {
          },
          "source": "A Poisson process is the continuous version of a Bernoulli process, where an event can occur at any point in time with equal probability. Poisson processes can be used to model customers arriving in a store, buses arriving at a bus stop, or goals scored in a hockey game."
        },
        {
          "cell_type": "markdown",
          "metadata": {
          },
          "source": "In many real systems the probability of an event changes over time. Customers are more likely to go to a store at certain times of day, buses are supposed to arrive at fixed intervals, and goals are more or less likely at different times during a game."
        },
        {
          "cell_type": "markdown",
          "metadata": {
          },
          "source": "But all models are based on simplifications, and in this case modeling a hockey game with a Poisson process is a reasonable choice. Heuer, MÃ¼ller and Rubner (2010) analyze scoring in a German soccer league and come to the same conclusion; see [http://www.cimat.mx/Eventos/vpec10/img/poisson.pdf](http://www.cimat.mx/Eventos/vpec10/img/poisson.pdf)."
        },
        {
          "cell_type": "markdown",
          "metadata": {
          },
          "source": "The benefit of using this model is that we can compute the distribution of goals per game efficiently, as well as the distribution of time between goals. Specifically, if the average number of goals in a game is `lam` , the distribution of goals per game is given by the Poisson PMF:"
        },
        {
          "cell_type": "code",
          "collapsed": false,
          "input": "def EvalPoissonPmf(lam, k):\n    return (lam)**k * math.exp(-lam) / math.factorial(k)",
          "language": "python",
          "metadata": {
          },
          "outputs": [

          ]
        },
        {
          "cell_type": "markdown",
          "metadata": {
          },
          "source": "And the distribution of time between goals is given by the exponential PDF:"
        },
        {
          "cell_type": "code",
          "collapsed": false,
          "input": "def EvalExponentialPdf(lam, x):\n    return lam * math.exp(-lam * x)",
          "language": "python",
          "metadata": {
          },
          "outputs": [

          ]
        },
        {
          "cell_type": "markdown",
          "metadata": {
          },
          "source": "I use the variable `lam` because `lambda` is a reserved keyword in Python. Both of these functions are in `thinkbayes.py` ."
        },
        {
          "cell_type": "heading",
          "level": 2,
          "metadata": {
          },
          "source": "The posteriors"
        },
        {
          "cell_type": "markdown",
          "metadata": {
          },
          "source": "<figure id=\"fig.hockey1\" style=\"float: True\"><img src=\"files/images/thba_0701.png\"><figcaption>Posterior distribution of the number of goals per game.</figcaption></figure>"
        },
        {
          "cell_type": "markdown",
          "metadata": {
          },
          "source": "Now we can compute the likelihood that a team with a hypothetical value of `lam` scores `k` goals in a game:"
        },
        {
          "cell_type": "code",
          "collapsed": false,
          "input": "# class Hockey\n\n    def Likelihood(self, data, hypo):\n        lam = hypo\n        k = data\n        like = thinkbayes.EvalPoissonPmf(lam, k)\n        return like",
          "language": "python",
          "metadata": {
          },
          "outputs": [

          ]
        },
        {
          "cell_type": "markdown",
          "metadata": {
          },
          "source": "Each hypothesis is a possible value of _Î»_; `data` is the observed number of goals, `k` ."
        },
        {
          "cell_type": "markdown",
          "metadata": {
          },
          "source": "With the likelihood function in place, we can make a suite for each team and update them with the scores from the first four games."
        },
        {
          "cell_type": "code",
          "collapsed": false,
          "input": "    suite1 = Hockey('bruins')\n    suite1.UpdateSet([0, 2, 8, 4])\n     \n    suite2 = Hockey('canucks')\n    suite2.UpdateSet([1, 3, 1, 0])",
          "language": "python",
          "metadata": {
          },
          "outputs": [

          ]
        },
        {
          "cell_type": "markdown",
          "metadata": {
          },
          "source": "FigureÂ 7-1 shows the resulting posterior distributions for `lam` . Based on the first four games, the most likely values for `lam` are 2.6 for the Canucks and 2.9 for the Bruins."
        },
        {
          "cell_type": "heading",
          "level": 2,
          "metadata": {
          },
          "source": "The distribution of goals"
        },
        {
          "cell_type": "markdown",
          "metadata": {
          },
          "source": "To compute the probability that each team wins the next game, we need to compute the distribution of goals for each team."
        },
        {
          "cell_type": "markdown",
          "metadata": {
          },
          "source": "If we knew the value of `lam` exactly, we could use the Poisson distribution again. `thinkbayes` provides a method that computes a truncated approximation of a Poisson distribution:"
        },
        {
          "cell_type": "code",
          "collapsed": false,
          "input": "def MakePoissonPmf(lam, high):\n    pmf = Pmf()\n    for k in xrange(0, high+1):\n        p = EvalPoissonPmf(lam, k)\n        pmf.Set(k, p)\n    pmf.Normalize()\n    return pmf",
          "language": "python",
          "metadata": {
          },
          "outputs": [

          ]
        },
        {
          "cell_type": "markdown",
          "metadata": {
          },
          "source": ""
        },
        {
          "cell_type": "markdown",
          "metadata": {
          },
          "source": "<div class=\"hard-pagebreak\"></div>"
        },
        {
          "cell_type": "code",
          "collapsed": false,
          "input": "high",
          "language": "python",
          "metadata": {
          },
          "outputs": [

          ]
        },
        {
          "cell_type": "code",
          "collapsed": false,
          "input": "lam",
          "language": "python",
          "metadata": {
          },
          "outputs": [

          ]
        },
        {
          "cell_type": "code",
          "collapsed": false,
          "input": "lam = 3.4\ngoal_dist = thinkbayes.MakePoissonPmf(lam, 10)",
          "language": "python",
          "metadata": {
          },
          "outputs": [

          ]
        },
        {
          "cell_type": "markdown",
          "metadata": {
          },
          "source": "I chose the upper bound, 10, because the probability of scoring more than 10 goals in a game is quite low."
        },
        {
          "cell_type": "markdown",
          "metadata": {
          },
          "source": "Thatâs simple enough so far; the problem is that we donât know the value of `lam` exactly. Instead, we have a distribution of possible values for `lam` ."
        },
        {
          "cell_type": "markdown",
          "metadata": {
          },
          "source": "For each value of `lam` , the distribution of goals is Poisson. So the overall distribution of goals is a mixture of these Poisson distributions, weighted according to the probabilities in the distribution of `lam` ."
        },
        {
          "cell_type": "markdown",
          "metadata": {
          },
          "source": "Given the posterior distribution of `lam` , hereâs the code that makes the distribution of goals:"
        },
        {
          "cell_type": "code",
          "collapsed": false,
          "input": "def MakeGoalPmf(suite):\n    metapmf = thinkbayes.Pmf()\n\n    for lam, prob in suite.Items():\n        pmf = thinkbayes.MakePoissonPmf(lam, 10)\n        metapmf.Set(pmf, prob)\n\n    mix = thinkbayes.MakeMixture(metapmf)\n    return mix",
          "language": "python",
          "metadata": {
          },
          "outputs": [

          ]
        },
        {
          "cell_type": "markdown",
          "metadata": {
          },
          "source": "For each value of `lam` we make a Poisson Pmf and add it to the meta-Pmf. I call it a meta-Pmf because it is a Pmf that contains Pmfs as its values."
        },
        {
          "cell_type": "markdown",
          "metadata": {
          },
          "source": "Then we use `MakeMixture` to compute the mixture (we saw `MakeMixture` in [âMixturesâ](ch05.html#mixture))."
        },
        {
          "cell_type": "markdown",
          "metadata": {
          },
          "source": "FigureÂ 7-2 shows the resulting distribution of goals for the Bruins and Canucks. The Bruins are less likely to score 3 goals or fewer in the next game, and more likely to score 4 or more."
        },
        {
          "cell_type": "markdown",
          "metadata": {
          },
          "source": "<figure id=\"fig.hockey2\" style=\"float: none\"><img src=\"files/images/thba_0702.png\"><figcaption>Distribution of goals in a single game.</figcaption></figure>"
        },
        {
          "cell_type": "heading",
          "level": 2,
          "metadata": {
          },
          "source": "The probability of winning"
        },
        {
          "cell_type": "markdown",
          "metadata": {
          },
          "source": "To get the probability of winning, first we compute the distribution of the goal differential:"
        },
        {
          "cell_type": "code",
          "collapsed": false,
          "input": "    goal_dist1 = MakeGoalPmf(suite1)\n    goal_dist2 = MakeGoalPmf(suite2)\n    diff = goal_dist1 - goal_dist2",
          "language": "python",
          "metadata": {
          },
          "outputs": [

          ]
        },
        {
          "cell_type": "markdown",
          "metadata": {
          },
          "source": "The subtraction operator invokes `Pmf.__sub__` , which enumerates pairs of values and computes the difference. Subtracting two distributions is almost the same as adding, which we saw in [âAddendsâ](ch05.html#addends)."
        },
        {
          "cell_type": "markdown",
          "metadata": {
          },
          "source": "If the goal differential is positive, the Bruins win; if negative, the Canucks win; if 0, itâs a tie:"
        },
        {
          "cell_type": "code",
          "collapsed": false,
          "input": "    p_win = diff.ProbGreater(0)\n    p_loss = diff.ProbLess(0)\n    p_tie = diff.Prob(0)",
          "language": "python",
          "metadata": {
          },
          "outputs": [

          ]
        },
        {
          "cell_type": "markdown",
          "metadata": {
          },
          "source": "With the distributions from the previous section, `p_win` is 46%, `p_loss` is 37%, and `p_tie` is 17%."
        },
        {
          "cell_type": "markdown",
          "metadata": {
          },
          "source": "In the event of a tie at the end of âregulation play,â the teams play overtime periods until one team scores. Since the game ends immediately when the first goal is scored, this overtime format is known as âsudden death.â"
        },
        {
          "cell_type": "heading",
          "level": 2,
          "metadata": {
          },
          "source": "Sudden death"
        },
        {
          "cell_type": "markdown",
          "metadata": {
          },
          "source": "To compute the probability of winning in a sudden death overtime, the important statistic is not goals per game, but time until the first goal. The assumption that goal-scoring is a Poisson process implies that the time between goals is exponentially distributed."
        },
        {
          "cell_type": "markdown",
          "metadata": {
          },
          "source": "Given `lam` , we can compute the time between goals like this:"
        },
        {
          "cell_type": "code",
          "collapsed": false,
          "input": "lam = 3.4\ntime_dist = thinkbayes.MakeExponentialPmf(lam, high=2, n=101)",
          "language": "python",
          "metadata": {
          },
          "outputs": [

          ]
        },
        {
          "cell_type": "markdown",
          "metadata": {
          },
          "source": "`high` is the upper bound of the distribution. In this case I chose 2, because the probability of going more than two games without scoring is small. `n` is the number of values in the Pmf."
        },
        {
          "cell_type": "markdown",
          "metadata": {
          },
          "source": "If we know `lam` exactly, thatâs all there is to it. But we donât; instead we have a posterior distribution of possible values. So as we did with the distribution of goals, we make a meta-Pmf and compute a mixture of Pmfs."
        },
        {
          "cell_type": "code",
          "collapsed": false,
          "input": "def MakeGoalTimePmf(suite):\n    metapmf = thinkbayes.Pmf()\n\n    for lam, prob in suite.Items():\n        pmf = thinkbayes.MakeExponentialPmf(lam, high=2, n=2001)\n        metapmf.Set(pmf, prob)\n\n    mix = thinkbayes.MakeMixture(metapmf)\n    return mix",
          "language": "python",
          "metadata": {
          },
          "outputs": [

          ]
        },
        {
          "cell_type": "markdown",
          "metadata": {
          },
          "source": "FigureÂ 7-3 shows the resulting distributions. For time values less than one period (one third of a game), the Bruins are more likely to score. The time until the Canucks score is more likely to be longer."
        },
        {
          "cell_type": "markdown",
          "metadata": {
          },
          "source": "<figure id=\"fig.hockey3\" style=\"float: True\"><img src=\"files/images/thba_0703.png\"><figcaption>Distribution of time between goals.</figcaption></figure>"
        },
        {
          "cell_type": "markdown",
          "metadata": {
          },
          "source": "I set the number of values, `n` , fairly high in order to minimize the number of ties, since it is not possible for both teams to score simultaneously."
        },
        {
          "cell_type": "markdown",
          "metadata": {
          },
          "source": "Now we compute the probability that the Bruins score first:"
        },
        {
          "cell_type": "code",
          "collapsed": false,
          "input": "    time_dist1 = MakeGoalTimePmf(suite1)\n    time_dist2 = MakeGoalTimePmf(suite2)\n    p_overtime = thinkbayes.PmfProbLess(time_dist1, time_dist2)",
          "language": "python",
          "metadata": {
          },
          "outputs": [

          ]
        },
        {
          "cell_type": "markdown",
          "metadata": {
          },
          "source": "For the Bruins, the probability of winning in overtime is 52%."
        },
        {
          "cell_type": "markdown",
          "metadata": {
          },
          "source": "Finally, the total probability of winning is the chance of winning at the end of regulation play plus the probability of winning in overtime."
        },
        {
          "cell_type": "code",
          "collapsed": false,
          "input": "    p_tie = diff.Prob(0)\n    p_overtime = thinkbayes.PmfProbLess(time_dist1, time_dist2)\n\n    p_win = diff.ProbGreater(0) + p_tie * p_overtime",
          "language": "python",
          "metadata": {
          },
          "outputs": [

          ]
        },
        {
          "cell_type": "markdown",
          "metadata": {
          },
          "source": "For the Bruins, the overall chance of winning the next game is 55%."
        },
        {
          "cell_type": "markdown",
          "metadata": {
          },
          "source": "To win the series, the Bruins can either win the next two games or split the next two and win the third. Again, we can compute the total probability:"
        },
        {
          "cell_type": "code",
          "collapsed": false,
          "input": "    # win the next two\n    p_series = p_win**2\n\n    # split the next two, win the third\n    p_series += 2 * p_win * (1-p_win) * p_win",
          "language": "python",
          "metadata": {
          },
          "outputs": [

          ]
        },
        {
          "cell_type": "markdown",
          "metadata": {
          },
          "source": "The chance that the Bruins will win the series is 57%. And in 2011, they did."
        },
        {
          "cell_type": "heading",
          "level": 2,
          "metadata": {
          },
          "source": "Discussion"
        },
        {
          "cell_type": "markdown",
          "metadata": {
          },
          "source": "As always, the analysis in this chapter is based on modeling decisions, and modeling is almost always an iterative process. In general, you want to start with something simple that yields an approximate answer, identify likely sources of error, and look for opportunities for improvement."
        },
        {
          "cell_type": "markdown",
          "metadata": {
          },
          "source": "In this example, I would consider these options:"
        },
        {
          "cell_type": "markdown",
          "metadata": {
          },
          "source": "<ul>\n<li><p>I chose a prior based on the average goals per game for each\n        team. But this statistic is averaged across all opponents. Against a\n        particular opponent, we might expect more variability. For example, if\n        the team with the best offense plays the team with the worst defense,\n        the expected goals per game might be several standard deviations above\n        the mean.</p></li>\n<li><p>For data I used only the first four games of the championship\n        series. If the same teams played each other during the regular season,\n        I could use the results from those games as well. One complication is\n        that the composition of teams changes during the season due to trades\n        and injuries. So it might be best to give more weight to recent\n        games.</p></li>\n<li><p>To take advantage of all available information, we could use\n        results from all regular season games to estimate each teamâs goal\n        scoring rate, possibly adjusted by estimating an additional factor for\n        each pairwise match-up. This approach would be more complicated, but\n        it is still feasible.</p></li>\n</ul>\n"
        },
        {
          "cell_type": "markdown",
          "metadata": {
          },
          "source": "For the first option, we could use the results from the regular season to estimate the variability across all pairwise match-ups. Thanks to Dirk Hoag at [http://forechecker.blogspot.com/](http://forechecker.blogspot.com/), I was able to get the number of goals scored during regulation play (not overtime) for each game in the regular season."
        },
        {
          "cell_type": "markdown",
          "metadata": {
          },
          "source": "Teams in different conferences only play each other one or two times in the regular season, so I focused on pairs that played each other 4â6 times. For each pair, I computed the average goals per game, which is an estimate of _Î»_, then plotted the distribution of these estimates."
        },
        {
          "cell_type": "markdown",
          "metadata": {
          },
          "source": "The mean of these estimates is 2.8, again, but the standard deviation is 0.85, substantially higher than what we got computing one estimate for each team."
        },
        {
          "cell_type": "markdown",
          "metadata": {
          },
          "source": "If we run the analysis again with the higher-variance prior, the probability that the Bruins win the series is 80%, substantially higher than the result with the low-variance prior, 57%."
        },
        {
          "cell_type": "markdown",
          "metadata": {
          },
          "source": "So it turns out that the results are sensitive to the prior, which makes sense considering how little data we have to work with. Based on the difference between the low-variance model and the high-variable model, it seems worthwhile to put some effort into getting the prior right."
        },
        {
          "cell_type": "markdown",
          "metadata": {
          },
          "source": "The code and data for this chapter are available from [http://thinkbayes.com/hockey.py](http://thinkbayes.com/hockey.py) and [http://thinkbayes.com/hockey\\_data.csv](http://thinkbayes.com/hockey_data.csv). For more information see [âWorking with the codeâ](preface01.html#download)."
        },
        {
          "cell_type": "heading",
          "level": 2,
          "metadata": {
          },
          "source": "Exercises"
        },
        {
          "cell_type": "markdown",
          "metadata": {
          },
          "source": "<div id=\"a0000003123\" class=\"exercise\" data-type=\"example\">\n<h5></h5>\n<p>If buses arrive at a bus stop every 20 minutes, and you arrive\n        at the bus stop at a random time, your wait time until the bus arrives\n        is uniformly distributed from 0 to 20 minutes.<a data-type=\"indexterm\" data-primary=\"bus stop problem\" id=\"idp2014688\"></a></p>\n<p>But in reality, there is variability in the time between buses.\n        Suppose you are waiting for a bus, and you know the historical\n        distribution of time between buses. Compute your distribution of wait\n        times.</p>\n<p>Hint: Suppose that the time between buses is either 5 or 10\n        minutes with equal probability. What is the probability that you\n        arrive during one of the 10 minute intervals?</p>\n<p>I solve a version of this problem in the next chapter.</p>\n</div>\n"
        },
        {
          "cell_type": "markdown",
          "metadata": {
          },
          "source": "<div id=\"a0000003130\" class=\"exercise\" data-type=\"example\">\n<h5></h5>\n<p>Suppose that passengers arriving at the bus stop are\n        well-modeled by a Poisson process with parameter <em>Î»</em>. If you arrive at the stop and find 3 people\n        waiting, what is your posterior distribution for the time since the\n        last bus arrived.<a data-type=\"indexterm\" data-primary=\"Poisson process\" id=\"idp2016144\"></a></p>\n<p>I solve a version of this problem in the next chapter.</p>\n</div>\n"
        },
        {
          "cell_type": "markdown",
          "metadata": {
          },
          "source": "<div id=\"a0000003137\" class=\"exercise\" data-type=\"example\">\n<h5></h5>\n<p>Suppose that you are an ecologist sampling the insect population\n        in a new environment. You deploy 100 traps in a test area and come\n        back the next day to check on them. You find that 37 traps have been\n        triggered, trapping an insect inside. Once a trap triggers, it cannot\n        trap another insect until it has been reset.<a data-type=\"indexterm\" data-primary=\"insect sampling problem\" id=\"idp2018144\"></a></p>\n<p>If you reset the traps and come back in two days, how many traps\n        do you expect to find triggered? Compute a posterior predictive\n        distribution for the number of traps.<a data-type=\"indexterm\" data-primary=\"predictive distribution\" id=\"idp2024720\"></a></p>\n</div>\n"
        },
        {
          "cell_type": "markdown",
          "metadata": {
          },
          "source": "<div id=\"a0000003142\" class=\"exercise\" data-type=\"example\">\n<h5></h5>\n<p>Suppose you are the manager of an apartment building with 100\n        light bulbs in common areas. It is your responsibility to replace\n        light bulbs when they break.<a data-type=\"indexterm\" data-primary=\"light bulb problem\" id=\"idp2022736\"></a></p>\n<p>On January 1, all 100 bulbs are working. When you inspect them\n        on February 1, you find 3 light bulbs out. If you come back on April\n        1, how many light bulbs do you expect to find broken?</p>\n<p>In the previous exercise, you could reasonably assume that an\n        event is equally likely at any time. For light bulbs, the likelihood\n        of failure depends on the age of the bulb. Specifically, old bulbs\n        have an increasing failure rate due to evaporation of the\n        filament.</p>\n<p>This problem is more open-ended than some; you will have to make\n        modeling decisions. You might want to read about the Weibull\n        distribution (<a href=\"http://en.wikipedia.org/wiki/Weibull_distribution\" class=\"orm:hideurl\">http://en.wikipedia.org/wiki/Weibull_distribution</a>).\n        Or you might want to look around for information about light bulb\n        survival curves.<a data-type=\"indexterm\" data-primary=\"Weibull distribution\" id=\"idp2030064\"></a></p>\n</div>"
        }
      ],
      "metadata": {
      }
    }
  ]
}