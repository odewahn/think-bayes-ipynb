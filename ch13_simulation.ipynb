{
  "metadata": {
    "name": "Simulation"
  },
  "nbformat": 3,
  "nbformat_minor": 0,
  "worksheets": [
    {
      "cells": [
        {
          "cell_type": "heading",
          "level": 1,
          "metadata": {
          },
          "source": "Simulation"
        },
        {
          "cell_type": "markdown",
          "metadata": {
          },
          "source": "In this chapter I describe my solution to a problem posed by a patient with a kidney tumor. I think the problem is important and relevant to patients with these tumors and doctors treating them."
        },
        {
          "cell_type": "markdown",
          "metadata": {
          },
          "source": "And I think the solution is interesting because, although it is a Bayesian approach to the problem, the use of Bayesâs theorem is implicit. I present the solution and my code; at the end of the chapter I will explain the Bayesian part."
        },
        {
          "cell_type": "markdown",
          "metadata": {
          },
          "source": "If you want more technical detail than I present here, you can read my paper on this work at [http://arxiv.org/abs/1203.6890](http://arxiv.org/abs/1203.6890)."
        },
        {
          "cell_type": "heading",
          "level": 2,
          "metadata": {
          },
          "source": "The Kidney Tumor problem"
        },
        {
          "cell_type": "markdown",
          "metadata": {
          },
          "source": "I am a frequent reader and occasional contributor to the online statistics forum at [http://reddit.com/r/statistics](http://reddit.com/r/statistics). In November 2011, I read the following message:"
        },
        {
          "cell_type": "markdown",
          "metadata": {
          },
          "source": "<blockquote><p>âI have Stage IV Kidney Cancer and am trying to determine if the\n      cancer formed before I retired from the military. ... Given the dates of\n      retirement and detection is it possible to determine when there was a\n      50/50 chance that I developed the disease? Is it possible to determine\n      the probability on the retirement date? My tumor was 15.5 cm x 15 cm at\n      detection. Grade II.â</p></blockquote>\n"
        },
        {
          "cell_type": "markdown",
          "metadata": {
          },
          "source": "I contacted the author of the message and got more information; I learned that veterans get different benefits if it is âmore likely than notâ that a tumor formed while they were in military service (among other considerations)."
        },
        {
          "cell_type": "markdown",
          "metadata": {
          },
          "source": "Because renal tumors grow slowly, and often do not cause symptoms, they are sometimes left untreated. As a result, doctors can observe the rate of growth for untreated tumors by comparing scans from the same patient at different times. Several papers have reported these growth rates."
        },
        {
          "cell_type": "markdown",
          "metadata": {
          },
          "source": "I collected data from a paper by Zhang et al [3](ch13.html#idp2962128). I contacted the authors to see if I could get raw data, but they refused on grounds of medical privacy. Nevertheless, I was able to extract the data I needed by printing one of their graphs and measuring it with a ruler."
        },
        {
          "cell_type": "markdown",
          "metadata": {
          },
          "source": "They report growth rates in reciprocal doubling time (RDT), which is in units of doublings per year. So a tumor with RDT=1 doubles in volume each year; with RDT=2 it quadruples in the same time, and with RDT=-1, it halves. FigureÂ 13-1 shows the distribution of RDT for 53 patients."
        },
        {
          "cell_type": "markdown",
          "metadata": {
          },
          "source": "<figure id=\"fig.kidney2\" style=\"float: none\"><img src=\"files/images/thba_1301.png\"><figcaption>CDF of RDT in doublings per year.</figcaption></figure>"
        },
        {
          "cell_type": "markdown",
          "metadata": {
          },
          "source": "The squares are the data points from the paper; the line is a model I fit to the data. The positive tail fits an exponential distribution well, so I used a mixture of two exponentials."
        },
        {
          "cell_type": "heading",
          "level": 2,
          "metadata": {
          },
          "source": "A simple model"
        },
        {
          "cell_type": "markdown",
          "metadata": {
          },
          "source": "It is usually a good idea to start with a simple model before trying something more challenging. Sometimes the simple model is sufficient for the problem at hand, and if not, you can use it to validate the more complex model."
        },
        {
          "cell_type": "markdown",
          "metadata": {
          },
          "source": "For my simple model, I assume that tumors grow with a constant doubling time, and that they are three-dimensional in the sense that if the maximum linear measurement doubles, the volume is multiplied by eight."
        },
        {
          "cell_type": "markdown",
          "metadata": {
          },
          "source": "I learned from my correspondent that the time between his discharge from the military and his diagnosis was 3291 days (about 9 years). So my first calculation was, âIf this tumor grew at the median rate, how big would it have been at the date of discharge?â"
        },
        {
          "cell_type": "markdown",
          "metadata": {
          },
          "source": "The median volume doubling time reported by Zhang et al is 811 days. Assuming 3-dimensional geometry, the doubling time for a linear measure is three times longer."
        },
        {
          "cell_type": "code",
          "collapsed": false,
          "input": "    # time between discharge and diagnosis, in days \n    interval = 3291.0\n\n    # doubling time in linear measure is doubling time in volume * 3\n    dt = 811.0 * 3\n\n    # number of doublings since discharge\n    doublings = interval / dt\n\n    # how big was the tumor at time of discharge (diameter in cm)\n    d1 = 15.5\n    d0 = d1 / 2.0 ** doublings",
          "language": "python",
          "metadata": {
          },
          "outputs": [

          ]
        },
        {
          "cell_type": "markdown",
          "metadata": {
          },
          "source": "You can download the code in this chapter from [http://thinkbayes.com/kidney.py](http://thinkbayes.com/kidney.py). For more information see [âWorking with the codeâ](preface01.html#download)."
        },
        {
          "cell_type": "markdown",
          "metadata": {
          },
          "source": "The result, `d0` , is about 6 cm. So if this tumor formed after the date of discharge, it must have grown substantially faster than the median rate. Therefore I concluded that it is âmore likely than notâ that this tumor formed before the date of discharge."
        },
        {
          "cell_type": "markdown",
          "metadata": {
          },
          "source": "In addition, I computed the growth rate that would be implied if this tumor had formed after the date of discharge. If we assume an initial size of 0.1 cm, we can compute the number of doublings to get to a final size of 15.5 cm:"
        },
        {
          "cell_type": "code",
          "collapsed": false,
          "input": "    # assume an initial linear measure of 0.1 cm\n    d0 = 0.1\n    d1 = 15.5\n\n    # how many doublings would it take to get from d0 to d1\n    doublings = log2(d1 / d0)\n\n    # what linear doubling time does that imply?\n    dt = interval / doublings\n\n    # compute the volumetric doubling time and RDT\n    vdt = dt / 3\n    rdt = 365 / vdt",
          "language": "python",
          "metadata": {
          },
          "outputs": [

          ]
        },
        {
          "cell_type": "markdown",
          "metadata": {
          },
          "source": "`dt` is linear doubling time, so `vdt` is volumetric doubling time, and `rdt` is reciprocal doubling time."
        },
        {
          "cell_type": "markdown",
          "metadata": {
          },
          "source": "The number of doublings, in linear measure, is 7.3, which implies an RDT of 2.4. In the data from Zhang et al, only 20% of tumors grew this fast during a period of observation. So again, I concluded that is âmore likely than notâ that the tumor formed prior to the date of discharge."
        },
        {
          "cell_type": "markdown",
          "metadata": {
          },
          "source": "These calculations are sufficient to answer the question as posed, and on behalf of my correspondent, I wrote a letter explaining my conclusions to the Veteransâ Benefit Administration."
        },
        {
          "cell_type": "markdown",
          "metadata": {
          },
          "source": "Later I told a friend, who is an oncologist, about my results. He was surprised by the growth rates observed by Zhang et al, and by what they imply about the ages of these tumors. He suggested that the results might be interesting to researchers and doctors."
        },
        {
          "cell_type": "markdown",
          "metadata": {
          },
          "source": "But in order to make them useful, I wanted a more general model of the relationship between age and size."
        },
        {
          "cell_type": "heading",
          "level": 2,
          "metadata": {
          },
          "source": "A more general model"
        },
        {
          "cell_type": "markdown",
          "metadata": {
          },
          "source": "Given the size of a tumor at time of diagnosis, it would be most useful to know the probability that the tumor formed before any given date; in other words, the distribution of ages."
        },
        {
          "cell_type": "markdown",
          "metadata": {
          },
          "source": "To find it, I run simulations of tumor growth to get the distribution of size conditioned on age. Then we can use a Bayesian approach to get the distribution of age conditioned on size."
        },
        {
          "cell_type": "markdown",
          "metadata": {
          },
          "source": "The simulation starts with a small tumor and runs these steps:"
        },
        {
          "cell_type": "markdown",
          "metadata": {
          },
          "source": "<ol>\n<li><p>Choose a growth rate from the distribution of RDT.</p></li>\n<li><p>Compute the size of the tumor at the end of an interval.</p></li>\n<li><p>Record the size of the tumor at each interval.</p></li>\n<li><p>Repeat until the tumor exceeds the maximum relevant size.</p></li>\n</ol>\n"
        },
        {
          "cell_type": "markdown",
          "metadata": {
          },
          "source": "For the initial size I chose 0.3 cm, because carcinomas smaller than that are less likely to be invasive and less likely to have the blood supply needed for rapid growth (see [http://en.wikipedia.org/wiki/Carcinoma\\_in\\_situ](http://en.wikipedia.org/wiki/Carcinoma_in_situ))."
        },
        {
          "cell_type": "markdown",
          "metadata": {
          },
          "source": "I chose an interval of 245 days (about 8 months) because that is the median time between measurements in the data source."
        },
        {
          "cell_type": "markdown",
          "metadata": {
          },
          "source": "For the maximum size I chose 20 cm. In the data source, the range of observed sizes is 1.0 to 12.0 cm, so we are extrapolating beyond the observed range at each end, but not by far, and not in a way likely to have a strong effect on the results."
        },
        {
          "cell_type": "markdown",
          "metadata": {
          },
          "source": "The simulation is based on one big simplification: the growth rate is chosen independently during each interval, so it does not depend on age, size, or growth rate during previous intervals."
        },
        {
          "cell_type": "markdown",
          "metadata": {
          },
          "source": "In âSerial Correlationâ I review these assumptions and consider more detailed models. But first letâs look at some examples."
        },
        {
          "cell_type": "markdown",
          "metadata": {
          },
          "source": "FigureÂ 13-2 shows the size of simulated tumors as a function of age. The dashed line at 10 cm shows the range of ages for tumors at that size: the fastest-growing tumor gets there in 8 years; the slowest takes more than 35."
        },
        {
          "cell_type": "markdown",
          "metadata": {
          },
          "source": "<figure id=\"fig.kidney4\" style=\"float: none\"><img src=\"files/images/thba_1302.png\"><figcaption>Simulations of tumor growth, size vs. time.</figcaption></figure>"
        },
        {
          "cell_type": "markdown",
          "metadata": {
          },
          "source": "I am presenting results in terms of linear measurements, but the calculations are in terms of volume. To convert from one to the other, again, I use the volume of a sphere with the given diameter."
        },
        {
          "cell_type": "heading",
          "level": 2,
          "metadata": {
          },
          "source": "Implementation"
        },
        {
          "cell_type": "markdown",
          "metadata": {
          },
          "source": "Here is the kernel of the simulation:"
        },
        {
          "cell_type": "code",
          "collapsed": false,
          "input": "def MakeSequence(rdt_seq, v0=0.01, interval=0.67, vmax=Volume(20.0)):\n    seq = v0,\n    age = 0\n\n    for rdt in rdt_seq:\n        age += interval\n        final, seq = ExtendSequence(age, seq, rdt, interval)\n        if final > vmax:\n            break\n\n    return seq",
          "language": "python",
          "metadata": {
          },
          "outputs": [

          ]
        },
        {
          "cell_type": "markdown",
          "metadata": {
          },
          "source": "`rdt_seq` is an iterator that yields random values from the CDF of growth rate. `v0` is the initial volume in mL. `interval` is the time step in years. `vmax` is the final volume corresponding to a linear measurement of 20 cm."
        },
        {
          "cell_type": "markdown",
          "metadata": {
          },
          "source": "`Volume` converts from linear measurement in cm to volume in mL, based on the simplification that the tumor is a sphere:"
        },
        {
          "cell_type": "code",
          "collapsed": false,
          "input": "def Volume(diameter, factor=4*math.pi/3):\n    return factor * (diameter/2.0)**3",
          "language": "python",
          "metadata": {
          },
          "outputs": [

          ]
        },
        {
          "cell_type": "markdown",
          "metadata": {
          },
          "source": "`ExtendSequence` computes the volume of the tumor at the end of the interval."
        },
        {
          "cell_type": "code",
          "collapsed": false,
          "input": "def ExtendSequence(age, seq, rdt, interval):\n    initial = seq[-1]\n    doublings = rdt * interval\n    final = initial * 2**doublings\n    new_seq = seq + (final,)\n    cache.Add(age, new_seq, rdt)\n    \n    return final, new_seq",
          "language": "python",
          "metadata": {
          },
          "outputs": [

          ]
        },
        {
          "cell_type": "markdown",
          "metadata": {
          },
          "source": "`age` is the age of the tumor at the end of the interval. `seq` is a tuple that contains the volumes so far. `rdt` is the growth rate during the interval, in doublings per year. `interval` is the size of the time step in years."
        },
        {
          "cell_type": "markdown",
          "metadata": {
          },
          "source": "The return values are `final` , the volume of the tumor at the end of the interval, and `new_seq` , a new tuple containing the volumes in `seq` plus the new volume `final` ."
        },
        {
          "cell_type": "markdown",
          "metadata": {
          },
          "source": "`Cache.Add` records the age and size of each tumor at the end of each interval, as explained in the next section."
        },
        {
          "cell_type": "markdown",
          "metadata": {
          },
          "source": "<div class=\"hard-pagebreak\"></div>\n"
        },
        {
          "cell_type": "heading",
          "level": 2,
          "metadata": {
          },
          "source": "Caching the joint distribution"
        },
        {
          "cell_type": "markdown",
          "metadata": {
          },
          "source": "Hereâs how the cache works."
        },
        {
          "cell_type": "code",
          "collapsed": false,
          "input": "class Cache(object):\n\n    def __init__(self):\n        self.joint = thinkbayes.Joint()",
          "language": "python",
          "metadata": {
          },
          "outputs": [

          ]
        },
        {
          "cell_type": "markdown",
          "metadata": {
          },
          "source": "`joint` is a joint Pmf that records the frequency of each age-size pair, so it approximates the joint distribution of age and size."
        },
        {
          "cell_type": "markdown",
          "metadata": {
          },
          "source": "At the end of each simulated interval, `ExtendSequence` calls `Add` :"
        },
        {
          "cell_type": "code",
          "collapsed": false,
          "input": "# class Cache\n\n    def Add(self, age, seq):\n        final = seq[-1]\n        cm = Diameter(final)\n        bucket = round(CmToBucket(cm))\n        self.joint.Incr((age, bucket))",
          "language": "python",
          "metadata": {
          },
          "outputs": [

          ]
        },
        {
          "cell_type": "markdown",
          "metadata": {
          },
          "source": "Again, `age` is the age of the tumor, and `seq` is the sequence of volumes so far."
        },
        {
          "cell_type": "markdown",
          "metadata": {
          },
          "source": "Before adding the new data to the joint distribution, we use `Diameter` to convert from volume to diameter in centimeters:"
        },
        {
          "cell_type": "code",
          "collapsed": false,
          "input": "def Diameter(volume, factor=3/math.pi/4, exp=1/3.0):\n    return 2 * (factor * volume) ** exp",
          "language": "python",
          "metadata": {
          },
          "outputs": [

          ]
        },
        {
          "cell_type": "markdown",
          "metadata": {
          },
          "source": "And `CmToBucket` to convert from centimeters to a discrete bucket number:"
        },
        {
          "cell_type": "code",
          "collapsed": false,
          "input": "def CmToBucket(x, factor=10):\n    return factor * math.log(x)",
          "language": "python",
          "metadata": {
          },
          "outputs": [

          ]
        },
        {
          "cell_type": "markdown",
          "metadata": {
          },
          "source": "The buckets are equally spaced on a log scale. Using `factor=10` yields a reasonable number of buckets; for example, 1 cm maps to bucket 0 and 10 cm maps to bucket 23."
        },
        {
          "cell_type": "markdown",
          "metadata": {
          },
          "source": "After running the simulations, we can plot the joint distribution as a pseudocolor plot, where each cell represents the number of tumors observed at a given size-age pair. FigureÂ 13-3 shows the joint distribution after 1000 simulations."
        },
        {
          "cell_type": "markdown",
          "metadata": {
          },
          "source": "<figure id=\"fig.kidney8\" style=\"float: none\"><img src=\"files/images/thba_1303.png\"><figcaption>Joint distribution of age and tumor size.</figcaption></figure>"
        },
        {
          "cell_type": "heading",
          "level": 2,
          "metadata": {
          },
          "source": "Conditional distributions"
        },
        {
          "cell_type": "markdown",
          "metadata": {
          },
          "source": "By taking a vertical slice from the joint distribution, we can get the distribution of sizes for any given age. By taking a horizontal slice, we can get the distribution of ages conditioned on size."
        },
        {
          "cell_type": "markdown",
          "metadata": {
          },
          "source": "Hereâs the code that reads the joint distribution and builds the conditional distribution for a given size."
        },
        {
          "cell_type": "code",
          "collapsed": false,
          "input": "# class Cache\n\n    def ConditionalCdf(self, bucket):\n        pmf = self.joint.Conditional(0, 1, bucket)\n        cdf = pmf.MakeCdf()\n        return cdf",
          "language": "python",
          "metadata": {
          },
          "outputs": [

          ]
        },
        {
          "cell_type": "markdown",
          "metadata": {
          },
          "source": "`bucket` is the integer bucket number corresponding to tumor size. `Joint.Conditional` computes the PMF of age conditioned on `bucket` . The result is the CDF of age conditioned on `bucket` ."
        },
        {
          "cell_type": "markdown",
          "metadata": {
          },
          "source": "<div class=\"hard-pagebreak\"></div>\n"
        },
        {
          "cell_type": "markdown",
          "metadata": {
          },
          "source": "FigureÂ 13-4 shows several of these CDFs, for a range of sizes. To summarize these distributions, we can compute percentiles as a function of size."
        },
        {
          "cell_type": "markdown",
          "metadata": {
          },
          "source": "<figure id=\"fig.kidney6\" style=\"float: none\"><img src=\"files/images/thba_1304.png\"><figcaption>Distributions of age, conditioned on size.</figcaption></figure>"
        },
        {
          "cell_type": "code",
          "collapsed": false,
          "input": "    percentiles = [95, 75, 50, 25, 5]\n\n    for bucket in cache.GetBuckets():\n        cdf = ConditionalCdf(bucket)      \n        ps = [cdf.Percentile(p) for p in percentiles]",
          "language": "python",
          "metadata": {
          },
          "outputs": [

          ]
        },
        {
          "cell_type": "markdown",
          "metadata": {
          },
          "source": "FigureÂ 13-5 shows these percentiles for each size bucket. The data points are computed from the estimated joint distribution. In the model, size and time are discrete, which contributes numerical errors, so I also show a least squares fit for each sequence of percentiles."
        },
        {
          "cell_type": "markdown",
          "metadata": {
          },
          "source": "<figure id=\"fig.kidney7\" style=\"float: none\"><img src=\"files/images/thba_1305.png\"><figcaption>Percentiles of tumor age as a function of size.</figcaption></figure>"
        },
        {
          "cell_type": "heading",
          "level": 2,
          "metadata": {
          },
          "source": "Serial Correlation"
        },
        {
          "cell_type": "markdown",
          "metadata": {
          },
          "source": "The results so far are based on a number of modeling decisions; letâs review them and consider which ones are the most likely sources of error:"
        },
        {
          "cell_type": "markdown",
          "metadata": {
          },
          "source": "<ul>\n<li><p>To convert from linear measure to volume, we assume that tumors\n        are approximately spherical. This assumption is probably fine for\n        tumors up to a few centimeters, but not for very large\n        tumors.<a data-type=\"indexterm\" data-primary=\"sphere\" id=\"idp3053120\"></a></p></li>\n<li><p>The distribution of growth rates in the simulations are based on\n        a continuous model we chose to fit the data reported by Zhang et al,\n        which is based on 53 patients. The fit is only approximate and, more\n        importantly, a larger sample would yield a different\n        distribution.<a data-type=\"indexterm\" data-primary=\"growth rate\" id=\"idp3054240\"></a></p></li>\n<li><p>The growth model does not take into account tumor subtype or\n        grade; this assumption is consistent with the conclusion of Zhang et\n        al: âGrowth rates in renal tumors of different sizes, subtypes and\n        grades represent a wide range and overlap substantially.â But with a\n        larger sample, a difference might become apparent.<a data-type=\"indexterm\" data-primary=\"tumor type\" id=\"idp3061216\"></a></p></li>\n<li>\n<p>The distribution of growth rate does not depend on the size of\n        the tumor. This assumption would not be realistic for very small and\n        very large tumors, whose growth is limited by blood supply.</p>\n<p>But tumors observed by Zhang et al ranged from 1 to 12 cm, and\n        they found no statistically significant relationship between size and\n        growth rate. So if there is a relationship, it is likely to be weak,\n        at least in this size range.</p>\n</li>\n<li><p>In the simulations, growth rate during each interval is\n        independent of previous growth rates. In reality it is plausible that\n        tumors that have grown quickly in the past are more likely to grow\n        quickly. In other words, there is probably a serial correlation in\n        growth rate.<a data-type=\"indexterm\" data-primary=\"serial correlation\" id=\"idp3057056\"></a></p></li>\n</ul>\n"
        },
        {
          "cell_type": "markdown",
          "metadata": {
          },
          "source": "Of these, the first and last seem the most problematic. Iâll investigate serial correlation first, then come back to spherical geometry."
        },
        {
          "cell_type": "markdown",
          "metadata": {
          },
          "source": "To simulate correlated growth, I wrote a generator [4](ch13.html#idp3056480) that yields a correlated series from a given Cdf. Hereâs how the algorithm works:"
        },
        {
          "cell_type": "markdown",
          "metadata": {
          },
          "source": "<ol>\n<li><p>Generate correlated values from a Gaussian distribution. This is\n        easy to do because we can compute the distribution of the next value\n        conditioned on the previous value.<a data-type=\"indexterm\" data-primary=\"Gaussian distribution\" id=\"idp3060528\"></a></p></li>\n<li><p>Transform each value to its cumulative probability using the\n        Gaussian CDF.<a data-type=\"indexterm\" data-primary=\"cumulative probability\" id=\"idp3066896\"></a></p></li>\n<li><p>Transform each cumulative probability to the corresponding value\n        using the given Cdf.</p></li>\n</ol>\n"
        },
        {
          "cell_type": "markdown",
          "metadata": {
          },
          "source": "Hereâs what that looks like in code:"
        },
        {
          "cell_type": "code",
          "collapsed": false,
          "input": "def CorrelatedGenerator(cdf, rho):\n    x = random.gauss(0, 1)\n    yield Transform(x)\n\n    sigma = math.sqrt(1 - rho**2);    \n    while True:\n        x = random.gauss(x * rho, sigma)\n        yield Transform(x)",
          "language": "python",
          "metadata": {
          },
          "outputs": [

          ]
        },
        {
          "cell_type": "markdown",
          "metadata": {
          },
          "source": "`cdf` is the desired Cdf; `rho` is the desired correlation. The values of `x` are Gaussian; `Transform` converts them to the desired distribution."
        },
        {
          "cell_type": "markdown",
          "metadata": {
          },
          "source": "The first value of `x` is Gaussian with mean 0 and standard deviation 1. For subsequent values, the mean and standard deviation depend on the previous value. Given the previous `x` , the mean of the next value is `x * rho` , and the variance is `1 - rho**2` ."
        },
        {
          "cell_type": "markdown",
          "metadata": {
          },
          "source": "<div class=\"hard-pagebreak\"></div>\n"
        },
        {
          "cell_type": "markdown",
          "metadata": {
          },
          "source": "`Transform` maps from each Gaussian value, `x` , to a value from the given Cdf, `y` ."
        },
        {
          "cell_type": "code",
          "collapsed": false,
          "input": "    def Transform(x):\n        p = thinkbayes.GaussianCdf(x)\n        y = cdf.Value(p)\n        return y",
          "language": "python",
          "metadata": {
          },
          "outputs": [

          ]
        },
        {
          "cell_type": "markdown",
          "metadata": {
          },
          "source": "`GaussianCdf` computes the CDF of the standard Gaussian distribution at `x` , returning a cumulative probability. `Cdf.Value` maps from a cumulative probability to the corresponding value in `cdf` ."
        },
        {
          "cell_type": "markdown",
          "metadata": {
          },
          "source": "Depending on the shape of `cdf` , information can be lost in transformation, so the actual correlation might be lower than `rho` . For example, when I generate 10000 values from the distribution of growth rates with `rho=0.4` , the actual correlation is 0.37. But since we are guessing at the right correlation anyway, thatâs close enough."
        },
        {
          "cell_type": "markdown",
          "metadata": {
          },
          "source": "Remember that `MakeSequence` takes an iterator as an argument. That interface allows it to work with different generators:"
        },
        {
          "cell_type": "code",
          "collapsed": false,
          "input": "    iterator = UncorrelatedGenerator(cdf)\n    seq1 = MakeSequence(iterator)\n\n    iterator = CorrelatedGenerator(cdf, rho)\n    seq2 = MakeSequence(iterator)",
          "language": "python",
          "metadata": {
          },
          "outputs": [

          ]
        },
        {
          "cell_type": "markdown",
          "metadata": {
          },
          "source": "In this example, `seq1` and `seq2` are drawn from the same distribution, but the values in `seq1` are uncorrelated and the values in `seq2` are correlated with a coefficient of approximately `rho` ."
        },
        {
          "cell_type": "markdown",
          "metadata": {
          },
          "source": "Now we can see what effect serial correlation has on the results; the following table shows percentiles of age for a 6 cm tumor, using the uncorrelated generator and a correlated generator with target Ï=0.4."
        },
        {
          "cell_type": "markdown",
          "metadata": {
          },
          "source": "<table id=\"a0000006021\">\n<caption>Percentiles of tumor age conditioned on size.</caption>\n<tbody>\n<tr>\n<td><p>Serial </p></td>\n<td><p> Diameter </p></td>\n<td><p> Percentiles of age\n              </p></td>\n</tr>\n<tr>\n<td><p>Correlation </p></td>\n<td><p> (cm) </p></td>\n<td><p> 5th </p></td>\n<td><p> 25th </p></td>\n<td><p> 50th </p></td>\n<td><p> 75th </p></td>\n<td><p> 95th </p></td>\n</tr>\n<tr>\n<td><p>0.0 </p></td>\n<td><p> 6.0 </p></td>\n<td><p> 10.7 </p></td>\n<td><p> 15.4 </p></td>\n<td><p> 19.5 </p></td>\n<td><p> 23.5 </p></td>\n<td><p> 30.2 </p></td>\n</tr>\n<tr>\n<td><p>0.4 </p></td>\n<td><p> 6.0 </p></td>\n<td><p> 9.4 </p></td>\n<td><p> 15.4 </p></td>\n<td><p> 20.8 </p></td>\n<td><p> 26.2 </p></td>\n<td><p> 36.9 </p></td>\n</tr>\n</tbody>\n</table>\n"
        },
        {
          "cell_type": "markdown",
          "metadata": {
          },
          "source": "Correlation makes the fastest growing tumors faster and the slowest slower, so the range of ages is wider. The difference is modest for low percentiles, but for the 95th percentile it is more than 6 years. To compute these percentiles precisely, we would need a better estimate of the actual serial correlation."
        },
        {
          "cell_type": "markdown",
          "metadata": {
          },
          "source": "However, this model is sufficient to answer the question we started with: given a tumor with a linear dimension of 15.5 cm, what is the probability that it formed more than 8 years ago?"
        },
        {
          "cell_type": "markdown",
          "metadata": {
          },
          "source": "Hereâs the code:"
        },
        {
          "cell_type": "code",
          "collapsed": false,
          "input": "# class Cache\n\n    def ProbOlder(self, cm, age):\n        bucket = CmToBucket(cm)\n        cdf = self.ConditionalCdf(bucket)\n        p = cdf.Prob(age)\n        return 1-p",
          "language": "python",
          "metadata": {
          },
          "outputs": [

          ]
        },
        {
          "cell_type": "markdown",
          "metadata": {
          },
          "source": "`cm` is the size of the tumor; `age` is the age threshold in years. `ProbOlder` converts size to a bucket number, gets the Cdf of age conditioned on bucket, and computes the probability that age exceeds the given value."
        },
        {
          "cell_type": "markdown",
          "metadata": {
          },
          "source": "With no serial correlation, the probability that a 15.5 cm tumor is older than 8 years is 0.999, or almost certain. With correlation 0.4, faster-growing tumors are more likely, but the probability is still 0.995. Even with correlation 0.8, the probability is 0.978."
        },
        {
          "cell_type": "markdown",
          "metadata": {
          },
          "source": "Another likely source of error is the assumption that tumors are approximately spherical. For a tumor with linear dimensions 15.5 x 15 cm, this assumption is probably not valid. If, as seems likely, a tumor this size is relatively flat, it might have the same volume as a 6 cm sphere. With this smaller volume and correlation 0.8, the probability of age greater than 8 is still 95%."
        },
        {
          "cell_type": "markdown",
          "metadata": {
          },
          "source": "So even taking into account modeling errors, it is unlikely that such a large tumor could have formed less than 8 years prior to the date of diagnosis."
        },
        {
          "cell_type": "heading",
          "level": 2,
          "metadata": {
          },
          "source": "Discussion"
        },
        {
          "cell_type": "markdown",
          "metadata": {
          },
          "source": "Well, we got through a whole chapter without using Bayesâs theorem or the `Suite` class that encapsulates Bayesian updates. What happened?"
        },
        {
          "cell_type": "markdown",
          "metadata": {
          },
          "source": "One way to think about Bayesâs theorem is as an algorithm for inverting conditional probabilities. Given p(B|A), we can compute p(A|B), provided we know p(A) and p(B). Of course this algorithm is only useful if, for some reason, it is easier to compute p(B|A) than p(A|B)."
        },
        {
          "cell_type": "markdown",
          "metadata": {
          },
          "source": "In this example, it is. By running simulations, we can estimate the distribution of size conditioned on age, or p(size|age). But it is harder to get the distribution of age conditioned on size, or p(age|size). So this seems like a perfect opportunity to use Bayesâs theorem."
        },
        {
          "cell_type": "markdown",
          "metadata": {
          },
          "source": "The reason I didnât is computational efficiency. To estimate p(size|age) for any given size, you have to run a lot of simulations. Along the way, you end up computing p(size|age) for a lot of sizes. In fact, you end up computing the entire joint distribution of size and age, p(size,age)."
        },
        {
          "cell_type": "markdown",
          "metadata": {
          },
          "source": "And once you have the joint distribution, you donât really need Bayesâs theorem, you can extract p(age|size) by taking slices from the joint distribution, as demonstrated in `ConditionalCdf` ."
        },
        {
          "cell_type": "markdown",
          "metadata": {
          },
          "source": "So we side-stepped Bayes, but he was with us in spirit."
        }
      ],
      "metadata": {
      }
    }
  ]
}