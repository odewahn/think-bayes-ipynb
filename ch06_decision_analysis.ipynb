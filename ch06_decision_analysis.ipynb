{
  "metadata": {
    "name": "Decision Analysis"
  },
  "nbformat": 3,
  "nbformat_minor": 0,
  "worksheets": [
    {
      "cells": [
        {
          "cell_type": "heading",
          "level": 1,
          "metadata": {
          },
          "source": "Decision Analysis"
        },
        {
          "cell_type": "heading",
          "level": 2,
          "metadata": {
          },
          "source": "The Price is Right problem"
        },
        {
          "cell_type": "markdown",
          "metadata": {
          },
          "source": "On November 1, 2007, contestants named Letia and Nathaniel appeared on _The Price is Right_, an American game show. They competed in a game called _The Showcase_, where the objective is to guess the price of a showcase of prizes. The contestant who comes closest to the actual price of the showcase, without going over, wins the prizes."
        },
        {
          "cell_type": "markdown",
          "metadata": {
          },
          "source": "Nathaniel went first. His showcase included a dishwasher, a wine cabinet, a laptop computer, and a car. He bid $26,000."
        },
        {
          "cell_type": "markdown",
          "metadata": {
          },
          "source": "Letiaâs showcase included a pinball machine, a video arcade game, a pool table, and a cruise of the Bahamas. She bid $21,500."
        },
        {
          "cell_type": "markdown",
          "metadata": {
          },
          "source": "The actual price of Nathanielâs showcase was $25,347. His bid was too high, so he lost."
        },
        {
          "cell_type": "markdown",
          "metadata": {
          },
          "source": "The actual price of Letiaâs showcase was $21,578. She was only off by $78, so she won her showcase and, because her bid was off by less than $250, she also won Nathanielâs showcase."
        },
        {
          "cell_type": "markdown",
          "metadata": {
          },
          "source": "For a Bayesian thinker, this scenario suggests several questions:"
        },
        {
          "cell_type": "markdown",
          "metadata": {
          },
          "source": "<ol>\n<li><p>Before seeing the prizes, what prior beliefs should the\n        contestant have about the price of the showcase?</p></li>\n<li><p>After seeing the prizes, how should the contestant update those\n        beliefs?</p></li>\n<li><p>Based on the posterior distribution, what should the contestant\n        bid?</p></li>\n</ol>\n"
        },
        {
          "cell_type": "markdown",
          "metadata": {
          },
          "source": "The third question demonstrates a common use of Bayesian analysis: decision analysis. Given a posterior distribution, we can choose the bid that maximizes the contestantâs expected return."
        },
        {
          "cell_type": "markdown",
          "metadata": {
          },
          "source": "This problem is inspired by an example in Cameron Davidson-Pilonâs book, _Bayesian Methods for Hackers_. The code I wrote for this chapter is available from [http://thinkbayes.com/price.py](http://thinkbayes.com/price.py); it reads data files you can download from [http://thinkbayes.com/showcases.2011.csv](http://thinkbayes.com/showcases.2011.csv) and [http://thinkbayes.com/showcases.2012.csv](http://thinkbayes.com/showcases.2012.csv). For more information see [âWorking with the codeâ](preface01.html#download)."
        },
        {
          "cell_type": "heading",
          "level": 2,
          "metadata": {
          },
          "source": "The prior"
        },
        {
          "cell_type": "markdown",
          "metadata": {
          },
          "source": "To choose a prior distribution of prices, we can take advantage of data from previous episodes. Fortunately, fans of the show keep detailed records. When I corresponded with Mr.Davidson-Pilon about his book, he sent me data collected by Steve Gee at [http://tpirsummaries.8m.com](http://tpirsummaries.8m.com). It includes the price of each showcase from the 2011 and 2012 seasons and the bids offered by the contestants."
        },
        {
          "cell_type": "markdown",
          "metadata": {
          },
          "source": "FigureÂ 6-1 shows the distribution of prices for these showcases. The most common value for both showcases is around $28,000, but the first showcase has a second mode near $50,000, and the second showcase is occasionally worth more than $70,000."
        },
        {
          "cell_type": "markdown",
          "metadata": {
          },
          "source": "<figure id=\"fig.price1\" style=\"float: none\"><img src=\"files/images/thba_0601.png\"><figcaption>Distribution of prices for showcases on The Price is Right,\n      2011-12.</figcaption></figure>"
        },
        {
          "cell_type": "markdown",
          "metadata": {
          },
          "source": "These distributions are based on actual data, but they have been smoothed by Gaussian kernel density estimation (KDE). Before we go on, I want to take a detour to talk about probability density functions and KDE."
        },
        {
          "cell_type": "heading",
          "level": 2,
          "metadata": {
          },
          "source": "Probability density functions"
        },
        {
          "cell_type": "markdown",
          "metadata": {
          },
          "source": "So far we have been working with probability mass functions, or PMFs. A PMF is a map from each possible value to its probability. In my implementation, a Pmf object provides a method named `Prob` that takes a value and returns a probability, also known as a **probability mass**."
        },
        {
          "cell_type": "markdown",
          "metadata": {
          },
          "source": "In mathematical notation, PDFs are usually written as functions; for example, here is the PDF of a Gaussian distribution with mean 0 and standard deviation 1:"
        },
        {
          "cell_type": "markdown",
          "metadata": {
          },
          "source": "<div data-type=\"equation\"><math xmlns=\"http://www.w3.org/1998/Math/MathML\"><mrow xmlns:mml=\"http://www.w3.org/1998/Math/MathML\"><mi>f</mi><mrow><mo>(</mo><mi>x</mi><mo>)</mo></mrow><mo>=</mo><mfrac><mn>1</mn><msqrt><mrow><mn>2</mn><mi>Ï</mi></mrow></msqrt></mfrac><mo form=\"prefix\">exp</mo><mrow><mo>(</mo><mo>-</mo><msup><mi>x</mi><mn>2</mn></msup><mo>/2)</mo></mrow></mrow></math></div>\n"
        },
        {
          "cell_type": "markdown",
          "metadata": {
          },
          "source": "For a given value of _x_, this function computes a probability density. A density is similar to a probability mass in the sense that a higher density indicates that a value is more likely."
        },
        {
          "cell_type": "markdown",
          "metadata": {
          },
          "source": "But a density is not a probability. A density can be 0 or any positive value; it is not bounded, like a probability, between 0 and 1."
        },
        {
          "cell_type": "markdown",
          "metadata": {
          },
          "source": "If you integrate a density over a continuous range, the result is a probability. But for the applications in this book we seldom have to do that."
        },
        {
          "cell_type": "markdown",
          "metadata": {
          },
          "source": "Instead we primarily use probability densities as part of a likelihood function. We will see an example soon."
        },
        {
          "cell_type": "heading",
          "level": 2,
          "metadata": {
          },
          "source": "Representing PDFs"
        },
        {
          "cell_type": "markdown",
          "metadata": {
          },
          "source": "To represent PDFs in Python, `thinkbayes.py` provides a class named `Pdf` . `Pdf` is an **abstract type**, which means that it defines the interface a Pdf is supposed to have, but does not provide a complete implementation. The `Pdf` interface includes two methods, `Density` and `MakePmf` :"
        },
        {
          "cell_type": "code",
          "collapsed": false,
          "input": "class Pdf(object):\n\n    def Density(self, x):\n        raise UnimplementedMethodException()\n\n    def MakePmf(self, xs):\n        pmf = Pmf()\n        for x in xs:\n            pmf.Set(x, self.Density(x))\n        pmf.Normalize()\n        return pmf",
          "language": "python",
          "metadata": {
          },
          "outputs": [

          ]
        },
        {
          "cell_type": "markdown",
          "metadata": {
          },
          "source": "`Density` takes a value, `x` , and returns the corresponding density. `MakePmf` makes a discrete approximation to the PDF."
        },
        {
          "cell_type": "markdown",
          "metadata": {
          },
          "source": "`Pdf` provides an implementation of `MakePmf` , but not `Density` , which has to be provided by a child class."
        },
        {
          "cell_type": "markdown",
          "metadata": {
          },
          "source": "A **concrete type** is a child class that extends an abstract type and provides an implementation of the missing methods. For example, `GaussianPdf` extends `Pdf` and provides `Density` :"
        },
        {
          "cell_type": "code",
          "collapsed": false,
          "input": "class GaussianPdf(Pdf):\n\n    def __init__(self, mu, sigma):\n        self.mu = mu\n        self.sigma = sigma\n        \n    def Density(self, x):\n        return scipy.stats.norm.pdf(x, self.mu, self.sigma)",
          "language": "python",
          "metadata": {
          },
          "outputs": [

          ]
        },
        {
          "cell_type": "markdown",
          "metadata": {
          },
          "source": "`__init__` takes `mu` and `sigma` , which are the mean and standard deviation of the distribution, and stores them as attributes."
        },
        {
          "cell_type": "markdown",
          "metadata": {
          },
          "source": "`Density` uses a function from `scipy.stats` to evaluate the Gaussian PDF. The function is called `norm.pdf` because the Gaussian distribution is also called the ânormalâ distribution."
        },
        {
          "cell_type": "markdown",
          "metadata": {
          },
          "source": "The Gaussian PDF is defined by a simple mathematical function, so it is easy to evaluate. And it is useful because many quantities in the real world have distributions that are approximately Gaussian."
        },
        {
          "cell_type": "markdown",
          "metadata": {
          },
          "source": "But with real data, there is no guarantee that the distribution is Gaussian or any other simple mathematical function. In that case we can use a sample to estimate the PDF of the whole population."
        },
        {
          "cell_type": "markdown",
          "metadata": {
          },
          "source": "For example, in _The Price Is Right_ data, we have 313 prices for the first showcase. We can think of these values as a sample from the population of all possible showcase prices."
        },
        {
          "cell_type": "markdown",
          "metadata": {
          },
          "source": "This sample includes the following values (in order):"
        },
        {
          "cell_type": "markdown",
          "metadata": {
          },
          "source": "<div data-type=\"equation\"><math xmlns=\"http://www.w3.org/1998/Math/MathML\"><mrow xmlns:mml=\"http://www.w3.org/1998/Math/MathML\"><mn>28800</mn><mo>,</mo><mn>28868</mn><mo>,</mo><mn>28941</mn><mo>,</mo><mn>28957</mn><mo>,</mo><mn>28958</mn></mrow></math></div>\n"
        },
        {
          "cell_type": "markdown",
          "metadata": {
          },
          "source": "<div class=\"hard-pagebreak\"></div>\n"
        },
        {
          "cell_type": "markdown",
          "metadata": {
          },
          "source": "In the sample, no values appear between 28801 and 28867, but there is no reason to think that these values are impossible. Based on our background information, we expect all values in this range to be equally likely. In other words, we expect the PDF to be fairly smooth."
        },
        {
          "cell_type": "markdown",
          "metadata": {
          },
          "source": "Kernel density estimation (KDE) is an algorithm that takes a sample and finds an appropriately smooth PDF that fits the data. You can read details at [http://en.wikipedia.org/wiki/Kernel\\_density\\_estimation](http://en.wikipedia.org/wiki/Kernel_density_estimation)."
        },
        {
          "cell_type": "markdown",
          "metadata": {
          },
          "source": "`scipy` provides an implementation of KDE and `thinkbayes` provides a class called `EstimatedPdf` that uses it:"
        },
        {
          "cell_type": "code",
          "collapsed": false,
          "input": "class EstimatedPdf(Pdf):\n\n    def __init__(self, sample):\n        self.kde = scipy.stats.gaussian_kde(sample)\n\n    def Density(self, x):\n        return self.kde.evaluate(x)",
          "language": "python",
          "metadata": {
          },
          "outputs": [

          ]
        },
        {
          "cell_type": "markdown",
          "metadata": {
          },
          "source": "`__init__` takes a sample and computes a kernel density estimate. The result is a `gaussian_kde` object that provides an `evaluate` method."
        },
        {
          "cell_type": "markdown",
          "metadata": {
          },
          "source": "`Density` takes a value, calls `gaussian_kde.evaluate` , and returns the resulting density."
        },
        {
          "cell_type": "markdown",
          "metadata": {
          },
          "source": "Finally, hereâs an outline of the code I used to generate FigureÂ 6-1:"
        },
        {
          "cell_type": "code",
          "collapsed": false,
          "input": "    prices = ReadData()\n    pdf = thinkbayes.EstimatedPdf(prices)\n\n    low, high = 0, 75000\n    n = 101\n    xs = numpy.linspace(low, high, n) \n    pmf = pdf.MakePmf(xs)",
          "language": "python",
          "metadata": {
          },
          "outputs": [

          ]
        },
        {
          "cell_type": "markdown",
          "metadata": {
          },
          "source": "`pdf` is a `Pdf` object, estimated by KDE. `pmf` is a Pmf object that approximates the Pdf by evaluating the density at a sequence of equally spaced values."
        },
        {
          "cell_type": "markdown",
          "metadata": {
          },
          "source": "`linspace` stands for âlinear space.â It takes a range, `low` and `high` , and the number of points, `n` , and returns a new `numpy` array with `n` elements equally spaced between `low` and `high` , including both."
        },
        {
          "cell_type": "markdown",
          "metadata": {
          },
          "source": "And now back to _The Price is Right_."
        },
        {
          "cell_type": "heading",
          "level": 2,
          "metadata": {
          },
          "source": "Modeling the contestants"
        },
        {
          "cell_type": "markdown",
          "metadata": {
          },
          "source": "The PDFs in FigureÂ 6-1 estimate the distribution of possible prices. If you were a contestant on the show, you could use this distribution to quantify your prior belief about the price of each showcase (before you see the prizes)."
        },
        {
          "cell_type": "markdown",
          "metadata": {
          },
          "source": "To update these priors, we have to answer these questions:"
        },
        {
          "cell_type": "markdown",
          "metadata": {
          },
          "source": "<ol>\n<li><p>What data should we consider and how should we quantify\n        it?</p></li>\n<li><p>Can we compute a likelihood function; that is, for each\n        hypothetical value of <code>price</code>, can we\n        compute the conditional likelihood of the data?</p></li>\n</ol>\n"
        },
        {
          "cell_type": "markdown",
          "metadata": {
          },
          "source": "To answer these questions, I am going to model the contestant as a price-guessing instrument with known error characteristics. In other words, when the contestant sees the prizes, he or she guesses the price of each prizeâideally without taking into consideration the fact that the prize is part of a showcaseâand adds up the prices. Letâs call this total `guess` ."
        },
        {
          "cell_type": "markdown",
          "metadata": {
          },
          "source": "Under this model, the question we have to answer is, âIf the actual price is `price` , what is the likelihood that the contestantâs estimate would be `guess` ?â"
        },
        {
          "cell_type": "markdown",
          "metadata": {
          },
          "source": "Or if we define:"
        },
        {
          "cell_type": "code",
          "collapsed": false,
          "input": "    error = price - guess",
          "language": "python",
          "metadata": {
          },
          "outputs": [

          ]
        },
        {
          "cell_type": "markdown",
          "metadata": {
          },
          "source": "then we could ask, âWhat is the likelihood that the contestantâs estimate is off by `error` ?â"
        },
        {
          "cell_type": "markdown",
          "metadata": {
          },
          "source": "To answer this question, we can use the historical data again. FigureÂ 6-2 shows the cumulative distribution of `diff` , the difference between the contestantâs bid and the actual price of the showcase."
        },
        {
          "cell_type": "markdown",
          "metadata": {
          },
          "source": "<figure id=\"fig.price2\" style=\"float: True\"><img src=\"files/images/thba_0602.png\"><figcaption>Cumulative distribution (CDF) of the difference between the\n      contestantâs bid and the actual price.</figcaption></figure>"
        },
        {
          "cell_type": "markdown",
          "metadata": {
          },
          "source": "The definition of diff is:"
        },
        {
          "cell_type": "code",
          "collapsed": false,
          "input": "    diff = price - bid",
          "language": "python",
          "metadata": {
          },
          "outputs": [

          ]
        },
        {
          "cell_type": "markdown",
          "metadata": {
          },
          "source": "When `diff` is negative, the bid is too high. As an aside, we can use this distribution to compute the probability that the contestants overbid: the first contestant overbids 25% of the time; the second contestant overbids 29% of the time."
        },
        {
          "cell_type": "markdown",
          "metadata": {
          },
          "source": "We can also see that the bids are biased; that is, they are more likely to be too low than too high. And that makes sense, given the rules of the game."
        },
        {
          "cell_type": "markdown",
          "metadata": {
          },
          "source": "Finally, we can use this distribution to estimate the reliability of the contestantsâ guesses. This step is a little tricky because we donât actually know the contestantâs guesses; we only know what they bid."
        },
        {
          "cell_type": "markdown",
          "metadata": {
          },
          "source": "So weâll have to make some assumptions. Specifically, I assume that the distribution of `error` is Gaussian with mean 0 and the same variance as `diff` ."
        },
        {
          "cell_type": "markdown",
          "metadata": {
          },
          "source": "The `Player` class implements this model:"
        },
        {
          "cell_type": "code",
          "collapsed": false,
          "input": "class Player(object):\n\n    def __init__(self, prices, bids, diffs):\n        self.pdf_price = thinkbayes.EstimatedPdf(prices)\n        self.cdf_diff = thinkbayes.MakeCdfFromList(diffs)\n\n        mu = 0\n        sigma = numpy.std(diffs)\n        self.pdf_error = thinkbayes.GaussianPdf(mu, sigma)",
          "language": "python",
          "metadata": {
          },
          "outputs": [

          ]
        },
        {
          "cell_type": "markdown",
          "metadata": {
          },
          "source": "`prices` is a sequence of showcase prices, `bids` is a sequence of bids, and `diffs` is a sequence of diffs, where again `diff = price - bid` ."
        },
        {
          "cell_type": "markdown",
          "metadata": {
          },
          "source": "`pdf_price` is the smoothed PDF of prices, estimated by KDE. `cdf_diff` is the cumulative distribution of `diff` , which we saw in FigureÂ 6-2. And `pdf_error` is the PDF that characterizes the distribution of errors; where `error = price -\n        guess` ."
        },
        {
          "cell_type": "markdown",
          "metadata": {
          },
          "source": "Again, we use the variance of `diff` to estimate the variance of `error` . This estimate is not perfect because contestantsâ bids are sometimes strategic; for example, if Player 2 thinks that Player 1 has overbid, Player 2 might make a very low bid. In that case `diff` does not reflect `error` . If this happens a lot, the observed variance in `diff` might overestimate the variance in `error` . Nevertheless, I think it is a reasonable modeling decision."
        },
        {
          "cell_type": "markdown",
          "metadata": {
          },
          "source": "As an alternative, someone preparing to appear on the show could estimate their own distribution of `error` by watching previous shows and recording their guesses and the actual prices."
        },
        {
          "cell_type": "heading",
          "level": 2,
          "metadata": {
          },
          "source": "Likelihood"
        },
        {
          "cell_type": "markdown",
          "metadata": {
          },
          "source": "Now we are ready to write the likelihood function. As usual, I define a new class that extends `thinkbayes.Suite` :"
        },
        {
          "cell_type": "code",
          "collapsed": false,
          "input": "class Price(thinkbayes.Suite):\n\n    def __init__(self, pmf, player):\n        thinkbayes.Suite.__init__(self, pmf)\n        self.player = player",
          "language": "python",
          "metadata": {
          },
          "outputs": [

          ]
        },
        {
          "cell_type": "markdown",
          "metadata": {
          },
          "source": "`pmf` represents the prior distribution and `player` is a Player object as described in the previous section. Hereâs `Likelihood` :"
        },
        {
          "cell_type": "code",
          "collapsed": false,
          "input": "    def Likelihood(self, data, hypo):\n        price = hypo\n        guess = data\n\n        error = price - guess\n        like = self.player.ErrorDensity(error)\n\n        return like",
          "language": "python",
          "metadata": {
          },
          "outputs": [

          ]
        },
        {
          "cell_type": "markdown",
          "metadata": {
          },
          "source": "`hypo` is the hypothetical price of the showcase. `data` is the contestantâs best guess at the price. `error` is the difference, and `like` is the likelihood of the data, given the hypothesis."
        },
        {
          "cell_type": "markdown",
          "metadata": {
          },
          "source": "`ErrorDensity` is defined in `Player` :"
        },
        {
          "cell_type": "code",
          "collapsed": false,
          "input": "# class Player:\n\n    def ErrorDensity(self, error):\n        return self.pdf_error.Density(error)",
          "language": "python",
          "metadata": {
          },
          "outputs": [

          ]
        },
        {
          "cell_type": "markdown",
          "metadata": {
          },
          "source": "`ErrorDensity` works by evaluating `pdf_error` at the given value of `error` . The result is a probability density, so it is not really a probability. But remember that `Likelihood` doesnât need to compute a probability; it only has to compute something _proportional_ to a probability. As long as the constant of proportionality is the same for all likelihoods, it gets canceled out when we normalize the posterior distribution."
        },
        {
          "cell_type": "markdown",
          "metadata": {
          },
          "source": "And therefore, a probability density is a perfectly good likelihood."
        },
        {
          "cell_type": "heading",
          "level": 2,
          "metadata": {
          },
          "source": "Update"
        },
        {
          "cell_type": "markdown",
          "metadata": {
          },
          "source": "`Player` provides a method that takes the contestantâs guess and computes the posterior distribution:"
        },
        {
          "cell_type": "code",
          "collapsed": false,
          "input": "# class Player\n\n    def MakeBeliefs(self, guess):\n        pmf = self.PmfPrice()\n        self.prior = Price(pmf, self)\n        self.posterior = self.prior.Copy()\n        self.posterior.Update(guess)",
          "language": "python",
          "metadata": {
          },
          "outputs": [

          ]
        },
        {
          "cell_type": "markdown",
          "metadata": {
          },
          "source": "`PmfPrice` generates a discrete approximation to the PDF of price, which we use to construct the prior."
        },
        {
          "cell_type": "markdown",
          "metadata": {
          },
          "source": "`PmfPrice` uses `MakePmf` , which evaluates `pdf_price` at a sequence of values:"
        },
        {
          "cell_type": "code",
          "collapsed": false,
          "input": "# class Player\n\n    n = 101\n    price_xs = numpy.linspace(0, 75000, n)\n\n    def PmfPrice(self):\n        return self.pdf_price.MakePmf(self.price_xs)",
          "language": "python",
          "metadata": {
          },
          "outputs": [

          ]
        },
        {
          "cell_type": "markdown",
          "metadata": {
          },
          "source": "To construct the posterior, we make a copy of the prior and then invoke `Update` , which invokes `Likelihood` for each hypothesis, multiplies the priors by the likelihoods, and renormalizes."
        },
        {
          "cell_type": "markdown",
          "metadata": {
          },
          "source": "So letâs get back to the original scenario. Suppose you are Player 1 and when you see your showcase, your best guess is that the total price of the prizes is $20,000."
        },
        {
          "cell_type": "markdown",
          "metadata": {
          },
          "source": "FigureÂ 6-3 shows prior and posterior beliefs about the actual price. The posterior is shifted to the left because your guess is on the low end of the prior range."
        },
        {
          "cell_type": "markdown",
          "metadata": {
          },
          "source": "<figure id=\"fig.price3\" style=\"float: True\"><img src=\"files/images/thba_0603.png\"><figcaption>Prior and posterior distributions for Player 1, based on a best\n      guess of $20,000.</figcaption></figure>"
        },
        {
          "cell_type": "markdown",
          "metadata": {
          },
          "source": "On one level, this result makes sense. The most likely value in the prior is $27,750, your best guess is $20,000, and the mean of the posterior is somewhere in between: $25,096."
        },
        {
          "cell_type": "markdown",
          "metadata": {
          },
          "source": "On another level, you might find this result bizarre, because it suggests that if you _think_ the price is $20,000, then you should _believe_ the price is $24,000."
        },
        {
          "cell_type": "markdown",
          "metadata": {
          },
          "source": "To resolve this apparent paradox, remember that you are combining two sources of information, historical data about past showcases and guesses about the prizes you see."
        },
        {
          "cell_type": "markdown",
          "metadata": {
          },
          "source": "We are treating the historical data as the prior and updating it based on your guesses, but we could equivalently use your guess as a prior and update it based on historical data."
        },
        {
          "cell_type": "markdown",
          "metadata": {
          },
          "source": "If you think of it that way, maybe it is less surprising that the most likely value in the posterior is not your original guess."
        },
        {
          "cell_type": "heading",
          "level": 2,
          "metadata": {
          },
          "source": "Optimal bidding"
        },
        {
          "cell_type": "markdown",
          "metadata": {
          },
          "source": "Now that we have a posterior distribution, we can use it to compute the optimal bid, which I define as the bid that maximizes expected return (see [http://en.wikipedia.org/wiki/Expected\\_return](http://en.wikipedia.org/wiki/Expected_return))."
        },
        {
          "cell_type": "markdown",
          "metadata": {
          },
          "source": "Iâm going to present the methods in this section top-down, which means I will show you how they are used before I show you how they work. If you see an unfamiliar method, donât worry; the definition will be along shortly."
        },
        {
          "cell_type": "markdown",
          "metadata": {
          },
          "source": "To compute optimal bids, I wrote a class called `GainCalculator` :"
        },
        {
          "cell_type": "code",
          "collapsed": false,
          "input": "class GainCalculator(object):\n\n    def __init__(self, player, opponent):\n        self.player = player\n        self.opponent = opponent",
          "language": "python",
          "metadata": {
          },
          "outputs": [

          ]
        },
        {
          "cell_type": "markdown",
          "metadata": {
          },
          "source": "`player` and `opponent` are `Player` objects."
        },
        {
          "cell_type": "markdown",
          "metadata": {
          },
          "source": "`GainCalculator` provides `ExpectedGains` , which computes a sequence of bids and the expected gain for each bid:"
        },
        {
          "cell_type": "code",
          "collapsed": false,
          "input": "    def ExpectedGains(self, low=0, high=75000, n=101):\n        bids = numpy.linspace(low, high, n)\n\n        gains = [self.ExpectedGain(bid) for bid in bids]\n\n        return bids, gains",
          "language": "python",
          "metadata": {
          },
          "outputs": [

          ]
        },
        {
          "cell_type": "markdown",
          "metadata": {
          },
          "source": "`low` and `high` specify the range of possible bids; `n` is the number of bids to try."
        },
        {
          "cell_type": "markdown",
          "metadata": {
          },
          "source": "`ExpectedGains` calls `ExpectedGain` , which computes expected gain for a given bid:"
        },
        {
          "cell_type": "code",
          "collapsed": false,
          "input": "    def ExpectedGain(self, bid):\n        suite = self.player.posterior\n        total = 0\n        for price, prob in sorted(suite.Items()):\n            gain = self.Gain(bid, price)\n            total += prob * gain\n        return total",
          "language": "python",
          "metadata": {
          },
          "outputs": [

          ]
        },
        {
          "cell_type": "markdown",
          "metadata": {
          },
          "source": "`ExpectedGain` loops through the values in the posterior and computes the gain for each bid, given the actual prices of the showcase. It weights each gain with the corresponding probability and returns the total."
        },
        {
          "cell_type": "markdown",
          "metadata": {
          },
          "source": "`ExpectedGain` invokes `Gain` , which takes a bid and an actual price and returns the expected gain:"
        },
        {
          "cell_type": "code",
          "collapsed": false,
          "input": "    def Gain(self, bid, price):\n        if bid > price:\n            return 0\n\n        diff = price - bid\n        prob = self.ProbWin(diff)\n\n        if diff <= 250:\n            return 2 * price * prob\n        else:\n            return price * prob",
          "language": "python",
          "metadata": {
          },
          "outputs": [

          ]
        },
        {
          "cell_type": "markdown",
          "metadata": {
          },
          "source": "If you overbid, you get nothing. Otherwise we compute the difference between your bid and the price, which determines your probability of winning."
        },
        {
          "cell_type": "markdown",
          "metadata": {
          },
          "source": "If `diff` is less than $250, you win both showcases. For simplicity, I assume that both showcases have the same price. Since this outcome is rare, it doesnât make much difference."
        },
        {
          "cell_type": "markdown",
          "metadata": {
          },
          "source": "Finally, we have to compute the probability of winning based on `diff` :"
        },
        {
          "cell_type": "code",
          "collapsed": false,
          "input": "    def ProbWin(self, diff):\n        prob = (self.opponent.ProbOverbid() + \n                self.opponent.ProbWorseThan(diff))\n        return prob",
          "language": "python",
          "metadata": {
          },
          "outputs": [

          ]
        },
        {
          "cell_type": "markdown",
          "metadata": {
          },
          "source": "If your opponent overbids, you win. Otherwise, you have to hope that your opponent is off by more than `diff` . `Player` provides methods to compute both probabilities:"
        },
        {
          "cell_type": "code",
          "collapsed": false,
          "input": "# class Player:\n\n    def ProbOverbid(self):\n        return self.cdf_diff.Prob(-1)\n\n    def ProbWorseThan(self, diff):\n        return 1 - self.cdf_diff.Prob(diff)",
          "language": "python",
          "metadata": {
          },
          "outputs": [

          ]
        },
        {
          "cell_type": "markdown",
          "metadata": {
          },
          "source": "This code might be confusing because the computation is now from the point of view of the opponent, who is computing, âWhat is the probability that I overbid?â and âWhat is the probability that my bid is off by more than `diff` ?â"
        },
        {
          "cell_type": "markdown",
          "metadata": {
          },
          "source": "Both answers are based on the CDF of `diff` . If the opponentâs `diff` is less than or equal to -1, you win. If the opponentâs `diff` is worse than yours, you win. Otherwise you lose."
        },
        {
          "cell_type": "markdown",
          "metadata": {
          },
          "source": "Finally, hereâs the code that computes optimal bids:"
        },
        {
          "cell_type": "code",
          "collapsed": false,
          "input": "# class Player:\n\n    def OptimalBid(self, guess, opponent):\n        self.MakeBeliefs(guess)\n        calc = GainCalculator(self, opponent)\n        bids, gains = calc.ExpectedGains()\n        gain, bid = max(zip(gains, bids))\n        return bid, gain",
          "language": "python",
          "metadata": {
          },
          "outputs": [

          ]
        },
        {
          "cell_type": "markdown",
          "metadata": {
          },
          "source": "<figure id=\"fig.price5\" style=\"float: True\"><img src=\"files/images/thba_0604.png\"><figcaption>Expected gain versus bid in a scenario where Player 1âs best\n      guess is $20,000 and Player 2âs best guess is $40,000.</figcaption></figure>"
        },
        {
          "cell_type": "markdown",
          "metadata": {
          },
          "source": "Given a guess and an opponent, `OptimalBid` computes the posterior distribution, instantiates a `GainCalculator` , computes expected gains for a range of bids and returns the optimal bid and expected gain. Whew!"
        },
        {
          "cell_type": "markdown",
          "metadata": {
          },
          "source": "FigureÂ 6-4 shows the results for both players, based on a scenario where Player 1âs best guess is $20,000 and Player 2âs best guess is $40,000."
        },
        {
          "cell_type": "markdown",
          "metadata": {
          },
          "source": "For Player 1 the optimal bid is $21,000, yielding an expected return of almost $16,700. This is a case (which turns out to be unusual) where the optimal bid is actually higher than the contestantâs best guess."
        },
        {
          "cell_type": "markdown",
          "metadata": {
          },
          "source": "For Player 2 the optimal bid is $31,500, yielding an expected return of almost $19,400. This is the more typical case where the optimal bid is less than the best guess."
        },
        {
          "cell_type": "heading",
          "level": 2,
          "metadata": {
          },
          "source": "Discussion"
        },
        {
          "cell_type": "markdown",
          "metadata": {
          },
          "source": "One of the features of Bayesian estimation is that the result comes in the form of a posterior distribution. Classical estimation usually generates a single point estimate or a confidence interval, which is sufficient if estimation is the last step in the process, but if you want to use an estimate as an input to a subsequent analysis, point estimates and intervals are often not much help."
        },
        {
          "cell_type": "markdown",
          "metadata": {
          },
          "source": "In this example, we use the posterior distribution to compute an optimal bid. The return on a given bid is asymmetric and discontinuous (if you overbid, you lose), so it would be hard to solve this problem analytically. But it is relatively simple to do computationally."
        },
        {
          "cell_type": "markdown",
          "metadata": {
          },
          "source": "Newcomers to Bayesian thinking are often tempted to summarize the posterior distribution by computing the mean or the maximum likelihood estimate. These summaries can be useful, but if thatâs all you need, then you probably donât need Bayesian methods in the first place."
        },
        {
          "cell_type": "markdown",
          "metadata": {
          },
          "source": "Bayesian methods are most useful when you can carry the posterior distribution into the next step of the analysis to perform some kind of decision analysis, as we did in this chapter, or some kind of prediction, as we see in the next chapter."
        }
      ],
      "metadata": {
      }
    }
  ]
}