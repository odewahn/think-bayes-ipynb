{
  "metadata": {
    "name": "Bayesâs Theorem"
  },
  "nbformat": 3,
  "nbformat_minor": 0,
  "worksheets": [
    {
      "cells": [
        {
          "cell_type": "heading",
          "level": 1,
          "metadata": {
          },
          "source": "Bayesâs Theorem"
        },
        {
          "cell_type": "heading",
          "level": 2,
          "metadata": {
          },
          "source": "Conditional probability"
        },
        {
          "cell_type": "markdown",
          "metadata": {
          },
          "source": "The fundamental idea behind all Bayesian statistics is Bayesâs theorem, which is surprisingly easy to derive, provided that you understand conditional probability. So weâll start with probability, then conditional probability, then Bayesâs theorem, and on to Bayesian statistics."
        },
        {
          "cell_type": "markdown",
          "metadata": {
          },
          "source": "A probability is a number between 0 and 1 (including both) that represents a degree of belief in a fact or prediction. The value 1 represents certainty that a fact is true, or that a prediction will come true. The value 0 represents certainty that the fact is false."
        },
        {
          "cell_type": "markdown",
          "metadata": {
          },
          "source": "Intermediate values represent degrees of certainty. The value 0.5, often written as 50%, means that a predicted outcome is as likely to happen as not. For example, the probability that a tossed coin lands face up is very close to 50%."
        },
        {
          "cell_type": "markdown",
          "metadata": {
          },
          "source": "A conditional probability is a probability based on some background information. For example, I want to know the probability that I will have a heart attack in the next year. According to the CDC, âEvery year about 785,000 Americans have a first coronary attack ( [http://www.cdc.gov/heartdisease/facts.htm](http://www.cdc.gov/heartdisease/facts.htm)).â"
        },
        {
          "cell_type": "markdown",
          "metadata": {
          },
          "source": "The U.S. population is about 311 million, so the probability that a randomly chosen American will have a heart attack in the next year is roughly 0.3%."
        },
        {
          "cell_type": "markdown",
          "metadata": {
          },
          "source": "But I am not a randomly chosen American. Epidemiologists have identified many factors that affect the risk of heart attacks; depending on those factors, my risk might be higher or lower than average."
        },
        {
          "cell_type": "markdown",
          "metadata": {
          },
          "source": "I am male, 45 years old, and I have borderline high cholesterol. Those factors increase my chances. However, I have low blood pressure and I donât smoke, and those factors decrease my chances."
        },
        {
          "cell_type": "markdown",
          "metadata": {
          },
          "source": "Plugging everything into the online calculator at [http://cvdrisk.nhlbi.nih.gov/calculator.asp](http://cvdrisk.nhlbi.nih.gov/calculator.asp), I find that my risk of a heart attack in the next year is about 0.2%, less than the national average. That value is a conditional probability, because it is based on a number of factors that make up my âcondition.â"
        },
        {
          "cell_type": "markdown",
          "metadata": {
          },
          "source": "The usual notation for conditional probability is p(A|B), which is the probability of _A_ given that _B_ is true. In this example, _A_ represents the prediction that I will have a heart attack in the next year, and _B_ is the set of conditions I listed."
        },
        {
          "cell_type": "heading",
          "level": 2,
          "metadata": {
          },
          "source": "Conjoint probability"
        },
        {
          "cell_type": "markdown",
          "metadata": {
          },
          "source": "**Conjoint probability** is a fancy way to say the probability that two things are true. I write p(AandB) to mean the probability that _A_ and _B_ are both true."
        },
        {
          "cell_type": "markdown",
          "metadata": {
          },
          "source": "If you learned about probability in the context of coin tosses and dice, you might have learned the following formula:"
        },
        {
          "cell_type": "markdown",
          "metadata": {
          },
          "source": "<div data-type=\"equation\"><math xmlns=\"http://www.w3.org/1998/Math/MathML\"><mrow xmlns:mml=\"http://www.w3.org/1998/Math/MathML\"><mi mathvariant=\"normal\">p</mi><mo>(</mo><mi>A</mi><mspace width=\"3.33333pt\"></mspace><mi>and</mi><mspace width=\"3.33333pt\"></mspace><mi>B</mi><mo>)</mo><mo>=</mo><mi mathvariant=\"normal\">p</mi><mo>(</mo><mi>A</mi><mo>)</mo><mspace width=\"3.33333pt\"></mspace><mi mathvariant=\"normal\">p</mi><mo>(</mo><mi>B</mi><mo>)</mo><mspace width=\"1.em\"></mspace><mspace width=\"1.em\"></mspace><mtext>WARNING:</mtext><mspace width=\"4.pt\"></mspace><mtext>not</mtext><mspace width=\"4.pt\"></mspace><mtext>always</mtext><mspace width=\"4.pt\"></mspace><mtext>true</mtext></mrow></math></div>\n"
        },
        {
          "cell_type": "markdown",
          "metadata": {
          },
          "source": "For example, if I toss two coins, and _A_ means the first coin lands face up, and _B_ means the second coin lands face up, then p(A)=p(B)=0.5, and sure enough, p(AandB)=p(A)p(B)=0.25."
        },
        {
          "cell_type": "markdown",
          "metadata": {
          },
          "source": "But this formula only works because in this case _A_ and _B_ are independent; that is, knowing the outcome of the first event does not change the probability of the second. Or, more formally, p(B|A) = p(B)."
        },
        {
          "cell_type": "markdown",
          "metadata": {
          },
          "source": "Here is a different example where the events are not independent. Suppose that _A_ means that it rains today and _B_ means that it rains tomorrow. If I know that it rained today, it is more likely that it will rain tomorrow, so p(B|A)>p(B)."
        },
        {
          "cell_type": "markdown",
          "metadata": {
          },
          "source": "In general, the probability of a conjunction is"
        },
        {
          "cell_type": "markdown",
          "metadata": {
          },
          "source": "<div data-type=\"equation\"><math xmlns=\"http://www.w3.org/1998/Math/MathML\"><mrow xmlns:mml=\"http://www.w3.org/1998/Math/MathML\"><mi mathvariant=\"normal\">p</mi><mo>(</mo><mi>A</mi><mspace width=\"3.33333pt\"></mspace><mi>and</mi><mspace width=\"3.33333pt\"></mspace><mi>B</mi><mo>)</mo><mo>=</mo><mi mathvariant=\"normal\">p</mi><mo>(</mo><mi>A</mi><mo>)</mo><mspace width=\"3.33333pt\"></mspace><mi mathvariant=\"normal\">p</mi><mo>(</mo><mi>B</mi><mo>|</mo><mi>A</mi><mo>)</mo></mrow></math></div>\n"
        },
        {
          "cell_type": "markdown",
          "metadata": {
          },
          "source": "for any _A_ and _B_. So if the chance of rain on any given day is 0.5, the chance of rain on two consecutive days is not 0.25, but probably a bit higher."
        },
        {
          "cell_type": "heading",
          "level": 2,
          "metadata": {
          },
          "source": "The cookie problem"
        },
        {
          "cell_type": "markdown",
          "metadata": {
          },
          "source": "Weâll get to Bayesâs theorem soon, but I want to motivate it with an example called the cookie problem. [1](ch01.html#idp550768) Suppose there are two bowls of cookies. Bowl 1 contains 30 vanilla cookies and 10 chocolate cookies. Bowl 2 contains 20 of each."
        },
        {
          "cell_type": "markdown",
          "metadata": {
          },
          "source": "Now suppose you choose one of the bowls at random and, without looking, select a cookie at random. The cookie is vanilla. What is the probability that it came from Bowl 1?"
        },
        {
          "cell_type": "markdown",
          "metadata": {
          },
          "source": "This is a conditional probability; we want p(Bowl1|vanilla), but it is not obvious how to compute it. If I asked a different questionâthe probability of a vanilla cookie given Bowl 1âit would be easy:"
        },
        {
          "cell_type": "markdown",
          "metadata": {
          },
          "source": "<div data-type=\"equation\"><math xmlns=\"http://www.w3.org/1998/Math/MathML\"><mrow xmlns:mml=\"http://www.w3.org/1998/Math/MathML\"><mi mathvariant=\"normal\">p</mi><mo>(</mo><mtext>vanilla</mtext><mo>|</mo><mtext>Bowl</mtext><mspace width=\"4.pt\"></mspace><mtext>1</mtext><mo>)</mo><mo>=</mo><mn>3</mn><mo>/</mo><mn>4</mn></mrow></math></div>\n"
        },
        {
          "cell_type": "markdown",
          "metadata": {
          },
          "source": "Sadly, p(A|B) is _not_ the same as p(B|A), but there is a way to get from one to the other: Bayesâs theorem."
        },
        {
          "cell_type": "heading",
          "level": 2,
          "metadata": {
          },
          "source": "Bayesâs theorem"
        },
        {
          "cell_type": "markdown",
          "metadata": {
          },
          "source": "At this point we have everything we need to derive Bayesâs theorem. Weâll start with the observation that conjunction is commutative; that is"
        },
        {
          "cell_type": "markdown",
          "metadata": {
          },
          "source": "<div data-type=\"equation\"><math xmlns=\"http://www.w3.org/1998/Math/MathML\"><mrow xmlns:mml=\"http://www.w3.org/1998/Math/MathML\"><mi mathvariant=\"normal\">p</mi><mo>(</mo><mi>A</mi><mspace width=\"3.33333pt\"></mspace><mi>and</mi><mspace width=\"3.33333pt\"></mspace><mi>B</mi><mo>)</mo><mo>=</mo><mi mathvariant=\"normal\">p</mi><mo>(</mo><mi>B</mi><mspace width=\"3.33333pt\"></mspace><mi>and</mi><mspace width=\"3.33333pt\"></mspace><mi>A</mi><mo>)</mo></mrow></math></div>\n"
        },
        {
          "cell_type": "markdown",
          "metadata": {
          },
          "source": "for any events _A_ and _B_."
        },
        {
          "cell_type": "markdown",
          "metadata": {
          },
          "source": "Next, we write the probability of a conjunction:"
        },
        {
          "cell_type": "markdown",
          "metadata": {
          },
          "source": "<div data-type=\"equation\"><math xmlns=\"http://www.w3.org/1998/Math/MathML\"><mrow xmlns:mml=\"http://www.w3.org/1998/Math/MathML\"><mi mathvariant=\"normal\">p</mi><mo>(</mo><mi>A</mi><mspace width=\"3.33333pt\"></mspace><mi>and</mi><mspace width=\"3.33333pt\"></mspace><mi>B</mi><mo>)</mo><mo>=</mo><mi mathvariant=\"normal\">p</mi><mo>(</mo><mi>A</mi><mo>)</mo><mspace width=\"3.33333pt\"></mspace><mi mathvariant=\"normal\">p</mi><mo>(</mo><mi>B</mi><mo>|</mo><mi>A</mi><mo>)</mo></mrow></math></div>\n"
        },
        {
          "cell_type": "markdown",
          "metadata": {
          },
          "source": "Since we have not said anything about what _A_ and _B_ mean, they are interchangeable. Interchanging them yields"
        },
        {
          "cell_type": "markdown",
          "metadata": {
          },
          "source": "<div data-type=\"equation\"><math xmlns=\"http://www.w3.org/1998/Math/MathML\"><mrow xmlns:mml=\"http://www.w3.org/1998/Math/MathML\"><mi mathvariant=\"normal\">p</mi><mo>(</mo><mi>B</mi><mspace width=\"3.33333pt\"></mspace><mi>and</mi><mspace width=\"3.33333pt\"></mspace><mi>A</mi><mo>)</mo><mo>=</mo><mi mathvariant=\"normal\">p</mi><mo>(</mo><mi>B</mi><mo>)</mo><mspace width=\"3.33333pt\"></mspace><mi mathvariant=\"normal\">p</mi><mo>(</mo><mi>A</mi><mo>|</mo><mi>B</mi><mo>)</mo></mrow></math></div>\n"
        },
        {
          "cell_type": "markdown",
          "metadata": {
          },
          "source": "Thatâs all we need. Pulling those pieces together, we get"
        },
        {
          "cell_type": "markdown",
          "metadata": {
          },
          "source": "<div data-type=\"equation\"><math xmlns=\"http://www.w3.org/1998/Math/MathML\"><mrow xmlns:mml=\"http://www.w3.org/1998/Math/MathML\"><mi mathvariant=\"normal\">p</mi><mo>(</mo><mi>B</mi><mo>)</mo><mspace width=\"3.33333pt\"></mspace><mi mathvariant=\"normal\">p</mi><mo>(</mo><mi>A</mi><mo>|</mo><mi>B</mi><mo>)</mo><mo>=</mo><mi mathvariant=\"normal\">p</mi><mo>(</mo><mi>A</mi><mo>)</mo><mspace width=\"3.33333pt\"></mspace><mi mathvariant=\"normal\">p</mi><mo>(</mo><mi>B</mi><mo>|</mo><mi>A</mi><mo>)</mo></mrow></math></div>\n"
        },
        {
          "cell_type": "markdown",
          "metadata": {
          },
          "source": "Which means there are two ways to compute the conjunction. If you have p(A), you multiply by the conditional probability p(B|A). Or you can do it the other way around; if you know p(B), you multiply by p(A|B). Either way you should get the same thing."
        },
        {
          "cell_type": "markdown",
          "metadata": {
          },
          "source": "Finally we can divide through by p(B):"
        },
        {
          "cell_type": "markdown",
          "metadata": {
          },
          "source": "<div data-type=\"equation\"><math xmlns=\"http://www.w3.org/1998/Math/MathML\"><mrow xmlns:mml=\"http://www.w3.org/1998/Math/MathML\"><mi mathvariant=\"normal\">p</mi><mrow><mo>(</mo><mi>A</mi><mo>|</mo><mi>B</mi><mo>)</mo></mrow><mo>=</mo><mfrac><mrow><mi mathvariant=\"normal\">p</mi><mo>(</mo><mi>A</mi><mo>)</mo><mspace width=\"3.33333pt\"></mspace><mi mathvariant=\"normal\">p</mi><mo>(</mo><mi>B</mi><mo>|</mo><mi>A</mi><mo>)</mo></mrow><mrow><mi mathvariant=\"normal\">p</mi><mo>(</mo><mi>B</mi><mo>)</mo></mrow></mfrac></mrow></math></div>\n"
        },
        {
          "cell_type": "markdown",
          "metadata": {
          },
          "source": "And thatâs Bayesâs theorem! It might not look like much, but it turns out to be surprisingly powerful."
        },
        {
          "cell_type": "markdown",
          "metadata": {
          },
          "source": "For example, we can use it to solve the cookie problem. Iâll write _B1_ for the hypothesis that the cookie came from Bowl 1 and _V_ for the vanilla cookie. Plugging in Bayesâs theorem we get"
        },
        {
          "cell_type": "markdown",
          "metadata": {
          },
          "source": "<div data-type=\"equation\"><math xmlns=\"http://www.w3.org/1998/Math/MathML\"><mrow xmlns:mml=\"http://www.w3.org/1998/Math/MathML\"><mi mathvariant=\"normal\">p</mi><mrow><mo>(</mo><msub><mi>B</mi><mn>1</mn></msub><mo>|</mo><mi>V</mi><mo>)</mo></mrow><mo>=</mo><mfrac><mrow><mi mathvariant=\"normal\">p</mi><mrow><mo>(</mo><msub><mi>B</mi><mn>1</mn></msub><mo>)</mo></mrow><mspace width=\"3.33333pt\"></mspace><mi mathvariant=\"normal\">p</mi><mrow><mo>(</mo><mi>V</mi><mo>|</mo><msub><mi>B</mi><mn>1</mn></msub><mo>)</mo></mrow></mrow><mrow><mi mathvariant=\"normal\">p</mi><mo>(</mo><mi>V</mi><mo>)</mo></mrow></mfrac></mrow></math></div>\n"
        },
        {
          "cell_type": "markdown",
          "metadata": {
          },
          "source": "The term on the left is what we want: the probability of Bowl 1, given that we chose a vanilla cookie. The terms on the right are:"
        },
        {
          "cell_type": "markdown",
          "metadata": {
          },
          "source": "<ul>\n<li><p><math xmlns=\"http://www.w3.org/1998/Math/MathML\"><mrow xmlns:mml=\"http://www.w3.org/1998/Math/MathML\"><mi mathvariant=\"normal\">p</mi><mo>(</mo><msub><mi>B</mi><mn>1</mn></msub><mo>)</mo></mrow></math>: This is the probability that we chose Bowl 1,\n        unconditioned by what kind of cookie we got. Since the problem says we\n        chose a bowl at random, we can assume <math xmlns=\"http://www.w3.org/1998/Math/MathML\"><mrow xmlns:mml=\"http://www.w3.org/1998/Math/MathML\"><mi mathvariant=\"normal\">p</mi><mo>(</mo><msub><mi>B</mi><mn>1</mn></msub><mo>)</mo><mo>=</mo><mn>1</mn><mo>/</mo><mn>2</mn></mrow></math>.</p></li>\n<li><p><math xmlns=\"http://www.w3.org/1998/Math/MathML\"><mrow xmlns:mml=\"http://www.w3.org/1998/Math/MathML\"><mi mathvariant=\"normal\">p</mi><mo>(</mo><mi>V</mi><mo>|</mo><msub><mi>B</mi><mn>1</mn></msub><mo>)</mo></mrow></math>: This is the probability of getting a vanilla\n        cookie from Bowl 1, which is 3/4.</p></li>\n<li><p><math xmlns=\"http://www.w3.org/1998/Math/MathML\"><mrow xmlns:mml=\"http://www.w3.org/1998/Math/MathML\"><mi mathvariant=\"normal\">p</mi><mo>(</mo><mi>V</mi><mo>)</mo></mrow></math>: This is the probability of drawing a vanilla\n        cookie from either bowl. Since we had an equal chance of choosing\n        either bowl and the bowls contain the same number of cookies, we had\n        the same chance of choosing any cookie. Between the two bowls there\n        are 50 vanilla and 30 chocolate cookies, so <math xmlns=\"http://www.w3.org/1998/Math/MathML\"><mrow xmlns:mml=\"http://www.w3.org/1998/Math/MathML\"><mi mathvariant=\"normal\">p</mi><mo>(</mo><mi>V</mi><mo>)</mo></mrow></math> = 5/8.</p></li>\n</ul>\n"
        },
        {
          "cell_type": "markdown",
          "metadata": {
          },
          "source": "Putting it together, we have"
        },
        {
          "cell_type": "markdown",
          "metadata": {
          },
          "source": "<div data-type=\"equation\"><math xmlns=\"http://www.w3.org/1998/Math/MathML\"><mrow xmlns:mml=\"http://www.w3.org/1998/Math/MathML\"><mi mathvariant=\"normal\">p</mi><mrow><mo>(</mo><msub><mi>B</mi><mn>1</mn></msub><mo>|</mo><mi>V</mi><mo>)</mo></mrow><mo>=</mo><mfrac><mrow><mo>(</mo><mn>1</mn><mo>/</mo><mn>2</mn><mo>)</mo><mspace width=\"3.33333pt\"></mspace><mo>(</mo><mn>3</mn><mo>/</mo><mn>4</mn><mo>)</mo></mrow><mrow><mn>5</mn><mo>/</mo><mn>8</mn></mrow></mfrac></mrow></math></div>\n"
        },
        {
          "cell_type": "markdown",
          "metadata": {
          },
          "source": "which reduces to 3/5. So the vanilla cookie is evidence in favor of the hypothesis that we chose Bowl 1, because vanilla cookies are more likely to come from Bowl 1."
        },
        {
          "cell_type": "markdown",
          "metadata": {
          },
          "source": "This example demonstrates one use of Bayesâs theorem: it provides a strategy to get from p(B|A) to p(A|B). This strategy is useful in cases, like the cookie problem, where it is easier to compute the terms on the right side of Bayesâs theorem than the term on the left."
        },
        {
          "cell_type": "heading",
          "level": 2,
          "metadata": {
          },
          "source": "The diachronic interpretation"
        },
        {
          "cell_type": "markdown",
          "metadata": {
          },
          "source": "There is another way to think of Bayesâs theorem: it gives us a way to update the probability of a hypothesis, _H_, in light of some body of data, _D_."
        },
        {
          "cell_type": "markdown",
          "metadata": {
          },
          "source": "This way of thinking about Bayesâs theorem is called the **diachronic interpretation**. âDiachronicâ means that something is happening over time; in this case the probability of the hypotheses changes, over time, as we see new data."
        },
        {
          "cell_type": "markdown",
          "metadata": {
          },
          "source": "Rewriting Bayesâs theorem with _H_ and _D_ yields:"
        },
        {
          "cell_type": "markdown",
          "metadata": {
          },
          "source": "<div data-type=\"equation\"><math xmlns=\"http://www.w3.org/1998/Math/MathML\"><mrow xmlns:mml=\"http://www.w3.org/1998/Math/MathML\"><mi mathvariant=\"normal\">p</mi><mrow><mo>(</mo><mi>H</mi><mo>|</mo><mi>D</mi><mo>)</mo></mrow><mo>=</mo><mfrac><mrow><mi mathvariant=\"normal\">p</mi><mo>(</mo><mi>H</mi><mo>)</mo><mspace width=\"3.33333pt\"></mspace><mi mathvariant=\"normal\">p</mi><mo>(</mo><mi>D</mi><mo>|</mo><mi>H</mi><mo>)</mo></mrow><mrow><mi mathvariant=\"normal\">p</mi><mo>(</mo><mi>D</mi><mo>)</mo></mrow></mfrac></mrow></math></div>\n"
        },
        {
          "cell_type": "markdown",
          "metadata": {
          },
          "source": "In this interpretation, each term has a name:"
        },
        {
          "cell_type": "markdown",
          "metadata": {
          },
          "source": "<ul>\n<li><p><math xmlns=\"http://www.w3.org/1998/Math/MathML\"><mrow xmlns:mml=\"http://www.w3.org/1998/Math/MathML\"><mi mathvariant=\"normal\">p</mi><mo>(</mo><mi>H</mi><mo>)</mo></mrow></math> is the probability of the hypothesis before we see\n        the data, called the prior probability, or just <strong>prior</strong>.</p></li>\n<li><p><math xmlns=\"http://www.w3.org/1998/Math/MathML\"><mrow xmlns:mml=\"http://www.w3.org/1998/Math/MathML\"><mi mathvariant=\"normal\">p</mi><mo>(</mo><mi>H</mi><mo>|</mo><mi>D</mi><mo>)</mo></mrow></math> is what we want to compute, the probability of the\n        hypothesis after we see the data, called the <strong>posterior</strong>.</p></li>\n<li><p><math xmlns=\"http://www.w3.org/1998/Math/MathML\"><mrow xmlns:mml=\"http://www.w3.org/1998/Math/MathML\"><mi mathvariant=\"normal\">p</mi><mo>(</mo><mi>D</mi><mo>|</mo><mi>H</mi><mo>)</mo></mrow></math> is the probability of the data under the\n        hypothesis, called the <strong>likelihood</strong>.</p></li>\n<li><p><math xmlns=\"http://www.w3.org/1998/Math/MathML\"><mrow xmlns:mml=\"http://www.w3.org/1998/Math/MathML\"><mi mathvariant=\"normal\">p</mi><mo>(</mo><mi>D</mi><mo>)</mo></mrow></math> is the probability of the data under any\n        hypothesis, called the <strong>normalizing\n        constant</strong>.</p></li>\n</ul>\n"
        },
        {
          "cell_type": "markdown",
          "metadata": {
          },
          "source": "Sometimes we can compute the prior based on background information. For example, the cookie problem specifies that we choose a bowl at random with equal probability."
        },
        {
          "cell_type": "markdown",
          "metadata": {
          },
          "source": "In other cases the prior is subjective; that is, reasonable people might disagree, either because they use different background information or because they interpret the same information differently."
        },
        {
          "cell_type": "markdown",
          "metadata": {
          },
          "source": "The likelihood is usually the easiest part to compute. In the cookie problem, if we know which bowl the cookie came from, we find the probability of a vanilla cookie by counting."
        },
        {
          "cell_type": "markdown",
          "metadata": {
          },
          "source": "The normalizing constant can be tricky. It is supposed to be the probability of seeing the data under any hypothesis at all, but in the most general case it is hard to nail down what that means."
        },
        {
          "cell_type": "markdown",
          "metadata": {
          },
          "source": "Most often we simplify things by specifying a set of hypotheses that are"
        },
        {
          "cell_type": "markdown",
          "metadata": {
          },
          "source": "I use the word **suite** for a set of hypotheses that has these properties."
        },
        {
          "cell_type": "markdown",
          "metadata": {
          },
          "source": "In the cookie problem, there are only two hypothesesâthe cookie came from Bowl 1 or Bowl 2âand they are mutually exclusive and collectively exhaustive."
        },
        {
          "cell_type": "markdown",
          "metadata": {
          },
          "source": "In that case we can compute p(D) using the law of total probability, which says that if there are two exclusive ways that something might happen, you can add up the probabilities like this:"
        },
        {
          "cell_type": "markdown",
          "metadata": {
          },
          "source": "<div data-type=\"equation\"><math xmlns=\"http://www.w3.org/1998/Math/MathML\"><mrow xmlns:mml=\"http://www.w3.org/1998/Math/MathML\"><mi mathvariant=\"normal\">p</mi><mrow><mo>(</mo><mi>D</mi><mo>)</mo></mrow><mo>=</mo><mi mathvariant=\"normal\">p</mi><mrow><mo>(</mo><msub><mi>B</mi><mn>1</mn></msub><mo>)</mo></mrow><mspace width=\"3.33333pt\"></mspace><mi mathvariant=\"normal\">p</mi><mrow><mo>(</mo><mi>D</mi><mo>|</mo><msub><mi>B</mi><mn>1</mn></msub><mo>)</mo></mrow><mo>+</mo><mi mathvariant=\"normal\">p</mi><mrow><mo>(</mo><msub><mi>B</mi><mn>2</mn></msub><mo>)</mo></mrow><mspace width=\"3.33333pt\"></mspace><mi mathvariant=\"normal\">p</mi><mrow><mo>(</mo><mi>D</mi><mo>|</mo><msub><mi>B</mi><mn>2</mn></msub><mo>)</mo></mrow></mrow></math></div>\n"
        },
        {
          "cell_type": "markdown",
          "metadata": {
          },
          "source": "Plugging in the values from the cookie problem, we have"
        },
        {
          "cell_type": "markdown",
          "metadata": {
          },
          "source": "<div data-type=\"equation\"><math xmlns=\"http://www.w3.org/1998/Math/MathML\"><mrow xmlns:mml=\"http://www.w3.org/1998/Math/MathML\"><mi mathvariant=\"normal\">p</mi><mo>(</mo><mi>D</mi><mo>)</mo><mo>=</mo><mo>(</mo><mn>1</mn><mo>/</mo><mn>2</mn><mo>)</mo><mspace width=\"3.33333pt\"></mspace><mo>(</mo><mn>3</mn><mo>/</mo><mn>4</mn><mo>)</mo><mo>+</mo><mo>(</mo><mn>1</mn><mo>/</mo><mn>2</mn><mo>)</mo><mspace width=\"3.33333pt\"></mspace><mo>(</mo><mn>1</mn><mo>/</mo><mn>2</mn><mo>)</mo><mo>=</mo><mn>5</mn><mo>/</mo><mn>8</mn></mrow></math></div>\n"
        },
        {
          "cell_type": "markdown",
          "metadata": {
          },
          "source": "which is what we computed earlier by mentally combining the two bowls."
        },
        {
          "cell_type": "heading",
          "level": 2,
          "metadata": {
          },
          "source": "The M&Mproblem"
        },
        {
          "cell_type": "markdown",
          "metadata": {
          },
          "source": "M&Mâs are small candy-coated chocolates that come in a variety of colors. Mars, Inc., which makes M&Mâs, changes the mixture of colors from time to time."
        },
        {
          "cell_type": "markdown",
          "metadata": {
          },
          "source": "In 1995, they introduced blue M&Mâs. Before then, the color mix in a bag of plain M&Mâs was 30% Brown, 20% Yellow, 20% Red, 10% Green, 10% Orange, 10% Tan. Afterward it was 24% Blue , 20% Green, 16% Orange, 14% Yellow, 13% Red, 13% Brown."
        },
        {
          "cell_type": "markdown",
          "metadata": {
          },
          "source": "Suppose a friend of mine has two bags of M&Mâs, and he tells me that one is from 1994 and one from 1996. He wonât tell me which is which, but he gives me one M&Mfrom each bag. One is yellow and one is green. What is the probability that the yellow one came from the 1994 bag?"
        },
        {
          "cell_type": "markdown",
          "metadata": {
          },
          "source": "This problem is similar to the cookie problem, with the twist that I draw one sample from each bowl/bag. This problem also gives me a chance to demonstrate the table method, which is useful for solving problems like this on paper. In the next chapter we will solve them computationally."
        },
        {
          "cell_type": "markdown",
          "metadata": {
          },
          "source": "The first step is to enumerate the hypotheses. The bag the yellow M&Mcame from Iâll call Bag 1; Iâll call the other Bag 2. So the hypotheses are:"
        },
        {
          "cell_type": "markdown",
          "metadata": {
          },
          "source": "<ul>\n<li><p>A: Bag 1 is from 1994, which implies that Bag 2 is from\n        1996.</p></li>\n<li><p>B: Bag 1 is from 1996 and Bag 2 from 1994.</p></li>\n</ul>\n"
        },
        {
          "cell_type": "markdown",
          "metadata": {
          },
          "source": "Now we construct a table with a row for each hypothesis and a column for each term in Bayesâs theorem:"
        },
        {
          "cell_type": "markdown",
          "metadata": {
          },
          "source": "<table><tbody>\n<tr>\n<td></td>\n<td><p> Prior </p></td>\n<td><p> Likelihood </p></td>\n<td></td>\n<td><p> Posterior </p></td>\n</tr>\n<tr>\n<td></td>\n<td><p> <math xmlns=\"http://www.w3.org/1998/Math/MathML\"><mrow xmlns:mml=\"http://www.w3.org/1998/Math/MathML\"><mi mathvariant=\"normal\">p</mi><mo>(</mo><mi>H</mi><mo>)</mo></mrow></math></p></td>\n<td><p> <math xmlns=\"http://www.w3.org/1998/Math/MathML\"><mrow xmlns:mml=\"http://www.w3.org/1998/Math/MathML\"><mi mathvariant=\"normal\">p</mi><mo>(</mo><mi>D</mi><mo>|</mo><mi>H</mi><mo>)</mo></mrow></math></p></td>\n<td><p> <math xmlns=\"http://www.w3.org/1998/Math/MathML\"><mrow xmlns:mml=\"http://www.w3.org/1998/Math/MathML\"><mi mathvariant=\"normal\">p</mi><mo>(</mo><mi>H</mi><mo>)</mo></mrow></math><math xmlns=\"http://www.w3.org/1998/Math/MathML\"><mrow xmlns:mml=\"http://www.w3.org/1998/Math/MathML\"><mi mathvariant=\"normal\">p</mi><mo>(</mo><mi>D</mi><mo>|</mo><mi>H</mi><mo>)</mo></mrow></math></p></td>\n<td><p> <math xmlns=\"http://www.w3.org/1998/Math/MathML\"><mrow xmlns:mml=\"http://www.w3.org/1998/Math/MathML\"><mi mathvariant=\"normal\">p</mi><mo>(</mo><mi>H</mi><mo>|</mo><mi>D</mi><mo>)</mo></mrow></math></p></td>\n</tr>\n<tr>\n<td><p>A </p></td>\n<td><p> 1/2 </p></td>\n<td><p> (20)(20) </p></td>\n<td><p> 200 </p></td>\n<td><p> 20/27 </p></td>\n</tr>\n<tr>\n<td><p>B </p></td>\n<td><p> 1/2 </p></td>\n<td><p> (10)(14) </p></td>\n<td><p> 70 </p></td>\n<td><p> 7/27 </p></td>\n</tr>\n</tbody></table>\n"
        },
        {
          "cell_type": "markdown",
          "metadata": {
          },
          "source": "The first column has the priors. Based on the statement of the problem, it is reasonable to choose p(A)=p(B)=1/2."
        },
        {
          "cell_type": "markdown",
          "metadata": {
          },
          "source": "The second column has the likelihoods, which follow from the information in the problem. For example, if _A_ is true, the yellow M&Mcame from the 1994 bag with probability 20%, and the green came from the 1996 bag with probability 20%. Because the selections are independent, we get the conjoint probability by multiplying."
        },
        {
          "cell_type": "markdown",
          "metadata": {
          },
          "source": "The third column is just the product of the previous two. The sum of this column, 270, is the normalizing constant. To get the last column, which contains the posteriors, we divide the third column by the normalizing constant."
        },
        {
          "cell_type": "markdown",
          "metadata": {
          },
          "source": "Thatâs it. Simple, right?"
        },
        {
          "cell_type": "markdown",
          "metadata": {
          },
          "source": "Well, you might be bothered by one detail. I write p(D|H) in terms of percentages, not probabilities, which means it is off by a factor of 10,000. But that cancels out when we divide through by the normalizing constant, so it doesnât affect the result."
        },
        {
          "cell_type": "markdown",
          "metadata": {
          },
          "source": "When the set of hypotheses is mutually exclusive and collectively exhaustive, you can multiply the likelihoods by any factor, if it is convenient, as long as you apply the same factor to the entire column."
        },
        {
          "cell_type": "heading",
          "level": 2,
          "metadata": {
          },
          "source": "The Monty Hall problem"
        },
        {
          "cell_type": "markdown",
          "metadata": {
          },
          "source": "The Monty Hall problem might be the most contentious question in the history of probability. The scenario is simple, but the correct answer is so counterintuitive that many people just canât accept it, and many smart people have embarrassed themselves not just by getting it wrong but by arguing the wrong side, aggressively, in public."
        },
        {
          "cell_type": "markdown",
          "metadata": {
          },
          "source": "Monty Hall was the original host of the game show _Letâs Make a Deal_. The Monty Hall problem is based on one of the regular games on the show. If you are on the show, hereâs what happens:"
        },
        {
          "cell_type": "markdown",
          "metadata": {
          },
          "source": "<ul>\n<li><p>Monty shows you three closed doors and tells you that there is a\n        prize behind each door: one prize is a car, the other two are less\n        valuable prizes like peanut butter and fake finger nails. The prizes\n        are arranged at random.</p></li>\n<li><p>The object of the game is to guess which door has the car. If\n        you guess right, you get to keep the car.</p></li>\n<li><p>You pick a door, which we will call Door A. Weâll call the other\n        doors B and C.</p></li>\n<li><p>Before opening the door you chose, Monty increases the suspense\n        by opening either Door B or C, whichever does not have the car. (If\n        the car is actually behind Door A, Monty can safely open B or C, so he\n        chooses one at random.)</p></li>\n<li><p>Then Monty offers you the option to stick with your original\n        choice or switch to the one remaining unopened door.</p></li>\n</ul>\n"
        },
        {
          "cell_type": "markdown",
          "metadata": {
          },
          "source": "The question is, should you âstickâ or âswitchâ or does it make no difference?"
        },
        {
          "cell_type": "markdown",
          "metadata": {
          },
          "source": "Most people have the strong intuition that it makes no difference. There are two doors left, they reason, so the chance that the car is behind Door A is 50%."
        },
        {
          "cell_type": "markdown",
          "metadata": {
          },
          "source": "But that is wrong. In fact, the chance of winning if you stick with Door A is only 1/3; if you switch, your chances are 2/3."
        },
        {
          "cell_type": "markdown",
          "metadata": {
          },
          "source": "By applying Bayesâs theorem, we can break this problem into simple pieces, and maybe convince ourselves that the correct answer is, in fact, correct."
        },
        {
          "cell_type": "markdown",
          "metadata": {
          },
          "source": "To start, we should make a careful statement of the data. In this case _D_ consists of two parts: Monty chooses Door B _and_ there is no car there."
        },
        {
          "cell_type": "markdown",
          "metadata": {
          },
          "source": "Next we define three hypotheses: _A_, _B_, and _C_ represent the hypothesis that the car is behind Door A, Door B, or Door C. Again, letâs apply the table method:"
        },
        {
          "cell_type": "markdown",
          "metadata": {
          },
          "source": "<table><tbody>\n<tr>\n<td></td>\n<td><p> Prior </p></td>\n<td><p> Likelihood </p></td>\n<td></td>\n<td><p> Posterior </p></td>\n</tr>\n<tr>\n<td></td>\n<td><p> <math xmlns=\"http://www.w3.org/1998/Math/MathML\"><mrow xmlns:mml=\"http://www.w3.org/1998/Math/MathML\"><mi mathvariant=\"normal\">p</mi><mo>(</mo><mi>H</mi><mo>)</mo></mrow></math></p></td>\n<td><p> <math xmlns=\"http://www.w3.org/1998/Math/MathML\"><mrow xmlns:mml=\"http://www.w3.org/1998/Math/MathML\"><mi mathvariant=\"normal\">p</mi><mo>(</mo><mi>D</mi><mo>|</mo><mi>H</mi><mo>)</mo></mrow></math></p></td>\n<td><p> <math xmlns=\"http://www.w3.org/1998/Math/MathML\"><mrow xmlns:mml=\"http://www.w3.org/1998/Math/MathML\"><mi mathvariant=\"normal\">p</mi><mo>(</mo><mi>H</mi><mo>)</mo></mrow></math><math xmlns=\"http://www.w3.org/1998/Math/MathML\"><mrow xmlns:mml=\"http://www.w3.org/1998/Math/MathML\"><mi mathvariant=\"normal\">p</mi><mo>(</mo><mi>D</mi><mo>|</mo><mi>H</mi><mo>)</mo></mrow></math></p></td>\n<td><p> <math xmlns=\"http://www.w3.org/1998/Math/MathML\"><mrow xmlns:mml=\"http://www.w3.org/1998/Math/MathML\"><mi mathvariant=\"normal\">p</mi><mo>(</mo><mi>H</mi><mo>|</mo><mi>D</mi><mo>)</mo></mrow></math></p></td>\n</tr>\n<tr>\n<td><p>A </p></td>\n<td><p> 1/3 </p></td>\n<td><p> 1/2 </p></td>\n<td><p> 1/6 </p></td>\n<td><p> 1/3 </p></td>\n</tr>\n<tr>\n<td><p>B </p></td>\n<td><p> 1/3 </p></td>\n<td><p> 0 </p></td>\n<td><p> 0 </p></td>\n<td><p> 0 </p></td>\n</tr>\n<tr>\n<td><p>C </p></td>\n<td><p> 1/3 </p></td>\n<td><p> 1 </p></td>\n<td><p> 1/3 </p></td>\n<td><p> 2/3 </p></td>\n</tr>\n</tbody></table>\n"
        },
        {
          "cell_type": "markdown",
          "metadata": {
          },
          "source": "Filling in the priors is easy because we are told that the prizes are arranged at random, which suggests that the car is equally likely to be behind any door."
        },
        {
          "cell_type": "markdown",
          "metadata": {
          },
          "source": "Figuring out the likelihoods takes some thought, but with reasonable care we can be confident that we have it right:"
        },
        {
          "cell_type": "markdown",
          "metadata": {
          },
          "source": "<ul>\n<li><p>If the car is actually behind A, Monty could safely open Doors B\n        or C. So the probability that he chooses B is 1/2. And since the car\n        is actually behind A, the probability that the car is not behind B is\n        1.</p></li>\n<li><p>If the car is actually behind B, Monty has to open door C, so\n        the probability that he opens door B is 0.</p></li>\n<li><p>Finally, if the car is behind Door C, Monty opens B with\n        probability 1 and finds no car there with probability 1.</p></li>\n</ul>\n"
        },
        {
          "cell_type": "markdown",
          "metadata": {
          },
          "source": "Now the hard part is over; the rest is just arithmetic. The sum of the third column is 1/2. Dividing through yields p(A|D)=1/3 and p(C|D)=2/3. So you are better off switching."
        },
        {
          "cell_type": "markdown",
          "metadata": {
          },
          "source": "There are many variations of the Monty Hall problem. One of the strengths of the Bayesian approach is that it generalizes to handle these variations."
        },
        {
          "cell_type": "markdown",
          "metadata": {
          },
          "source": "For example, suppose that Monty always chooses B if he can, and only chooses C if he has to (because the car is behind B). In that case the revised table is:"
        },
        {
          "cell_type": "markdown",
          "metadata": {
          },
          "source": "<table><tbody>\n<tr>\n<td></td>\n<td><p> Prior </p></td>\n<td><p> Likelihood </p></td>\n<td></td>\n<td><p> Posterior </p></td>\n</tr>\n<tr>\n<td></td>\n<td><p> <math xmlns=\"http://www.w3.org/1998/Math/MathML\"><mrow xmlns:mml=\"http://www.w3.org/1998/Math/MathML\"><mi mathvariant=\"normal\">p</mi><mo>(</mo><mi>H</mi><mo>)</mo></mrow></math></p></td>\n<td><p> <math xmlns=\"http://www.w3.org/1998/Math/MathML\"><mrow xmlns:mml=\"http://www.w3.org/1998/Math/MathML\"><mi mathvariant=\"normal\">p</mi><mo>(</mo><mi>D</mi><mo>|</mo><mi>H</mi><mo>)</mo></mrow></math></p></td>\n<td><p> <math xmlns=\"http://www.w3.org/1998/Math/MathML\"><mrow xmlns:mml=\"http://www.w3.org/1998/Math/MathML\"><mi mathvariant=\"normal\">p</mi><mo>(</mo><mi>H</mi><mo>)</mo></mrow></math><math xmlns=\"http://www.w3.org/1998/Math/MathML\"><mrow xmlns:mml=\"http://www.w3.org/1998/Math/MathML\"><mi mathvariant=\"normal\">p</mi><mo>(</mo><mi>D</mi><mo>|</mo><mi>H</mi><mo>)</mo></mrow></math></p></td>\n<td><p> <math xmlns=\"http://www.w3.org/1998/Math/MathML\"><mrow xmlns:mml=\"http://www.w3.org/1998/Math/MathML\"><mi mathvariant=\"normal\">p</mi><mo>(</mo><mi>H</mi><mo>|</mo><mi>D</mi><mo>)</mo></mrow></math></p></td>\n</tr>\n<tr>\n<td><p>A </p></td>\n<td><p> 1/3 </p></td>\n<td><p> 1 </p></td>\n<td><p> 1/3 </p></td>\n<td><p> 1/2 </p></td>\n</tr>\n<tr>\n<td><p>B </p></td>\n<td><p> 1/3 </p></td>\n<td><p> 0 </p></td>\n<td><p> 0 </p></td>\n<td><p> 0 </p></td>\n</tr>\n<tr>\n<td><p>C </p></td>\n<td><p> 1/3 </p></td>\n<td><p> 1 </p></td>\n<td><p> 1/3 </p></td>\n<td><p> 1/2 </p></td>\n</tr>\n</tbody></table>\n"
        },
        {
          "cell_type": "markdown",
          "metadata": {
          },
          "source": "The only change is p(D|A). If the car is behind _A_, Monty can choose to open B or C. But in this variation he always chooses B, so p(D|A)=1."
        },
        {
          "cell_type": "markdown",
          "metadata": {
          },
          "source": "As a result, the likelihoods are the same for _A_ and _C_, and the posteriors are the same: p(A|D)=p(C|D)=1/2. In this case, the fact that Monty chose B reveals no information about the location of the car, so it doesnât matter whether the contestant sticks or switches."
        },
        {
          "cell_type": "markdown",
          "metadata": {
          },
          "source": "On the other hand, if he had opened _C_, we would know p(B|D)=1."
        },
        {
          "cell_type": "markdown",
          "metadata": {
          },
          "source": "I included the Monty Hall problem in this chapter because I think it is fun, and because Bayesâs theorem makes the complexity of the problem a little more manageable. But it is not a typical use of Bayesâs theorem, so if you found it confusing, donât worry!"
        },
        {
          "cell_type": "heading",
          "level": 2,
          "metadata": {
          },
          "source": "Discussion"
        },
        {
          "cell_type": "markdown",
          "metadata": {
          },
          "source": "For many problems involving conditional probability, Bayesâs theorem provides a divide-and-conquer strategy. If p(A|B) is hard to compute, or hard to measure experimentally, check whether it might be easier to compute the other terms in Bayesâs theorem, p(B|A), p(A) and p(B)."
        },
        {
          "cell_type": "markdown",
          "metadata": {
          },
          "source": "If the Monty Hall problem is your idea of fun, I have collected a number of similar problems in an article called âAll your Bayes are belong to us,â which you can read at [http://allendowney.blogspot.com/2011/10/all-your-bayes-are-belong-to-us.html](http://allendowney.blogspot.com/2011/10/all-your-bayes-are-belong-to-us.html)."
        }
      ],
      "metadata": {
      }
    }
  ]
}