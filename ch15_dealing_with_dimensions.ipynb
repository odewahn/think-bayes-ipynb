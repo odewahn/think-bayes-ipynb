{
  "metadata": {
    "name": "Dealing with Dimensions"
  },
  "nbformat": 3,
  "nbformat_minor": 0,
  "worksheets": [
    {
      "cells": [
        {
          "cell_type": "heading",
          "level": 1,
          "metadata": {
          },
          "source": "Dealing with Dimensions"
        },
        {
          "cell_type": "heading",
          "level": 2,
          "metadata": {
          },
          "source": "Belly button bacteria"
        },
        {
          "cell_type": "markdown",
          "metadata": {
          },
          "source": "Belly Button Biodiversity 2.0 (BBB2) is a nation-wide citizen science project with the goal of identifying bacterial species that can be found in human navels ( [http://bbdata.yourwildlife.org](http://bbdata.yourwildlife.org)). The project might seem whimsical, but it is part of an increasing interest in the human microbiome, the set of microorganisms that live on human skin and parts of the body."
        },
        {
          "cell_type": "markdown",
          "metadata": {
          },
          "source": "In their pilot study, BBB2 researchers collected swabs from the navels of 60 volunteers, used multiplex pyrosequencing to extract and sequence fragments of 16S rDNA, then identified the species or genus the fragments came from. Each identified fragment is called a âread.â"
        },
        {
          "cell_type": "markdown",
          "metadata": {
          },
          "source": "We can use these data to answer several related questions:"
        },
        {
          "cell_type": "markdown",
          "metadata": {
          },
          "source": "<ul>\n<li><p>Based on the number of species observed, can we estimate the\n        total number of species in the environment?<a data-type=\"indexterm\" data-primary=\"species\" id=\"idp3289728\"></a></p></li>\n<li><p>Can we estimate the prevalence of each species; that is, the\n        fraction of the total population belonging to each species?<a data-type=\"indexterm\" data-primary=\"prevalence\" id=\"idp3290512\"></a></p></li>\n<li><p>If we are planning to collect additional samples, can we predict\n        how many new species we are likely to discover?</p></li>\n<li><p>How many additional reads are needed to increase the fraction of\n        observed species to a given threshold?</p></li>\n</ul>\n"
        },
        {
          "cell_type": "markdown",
          "metadata": {
          },
          "source": "These questions make up what is called the **Unseen Species problem**."
        },
        {
          "cell_type": "heading",
          "level": 2,
          "metadata": {
          },
          "source": "Lions and tigers and bears"
        },
        {
          "cell_type": "markdown",
          "metadata": {
          },
          "source": "Iâll start with a simplified version of the problem where we know that there are exactly three species. Letâs call them lions, tigers and bears. Suppose we visit a wild animal preserve and see 3 lions, 2 tigers and one bear."
        },
        {
          "cell_type": "markdown",
          "metadata": {
          },
          "source": "If we have an equal chance of observing any animal in the preserve, the number of each species we see is governed by the multinomial distribution. If the prevalence of lions and tigers and bears is `p_lion` and `p_tiger` and `p_bear` , the likelihood of seeing 3 lions, 2 tigers and one bear is"
        },
        {
          "cell_type": "code",
          "collapsed": false,
          "input": "p_lion**3 * p_tiger**2 * p_bear**1",
          "language": "python",
          "metadata": {
          },
          "outputs": [

          ]
        },
        {
          "cell_type": "markdown",
          "metadata": {
          },
          "source": "An approach that is tempting, but not correct, is to use beta distributions, as in [âThe beta distributionâ](ch04.html#beta), to describe the prevalence of each species separately. For example, we saw 3 lions and 3 non-lions; if we think of that as 3 âheadsâ and 3 âtails,â then the posterior distribution of `p_lion` is:"
        },
        {
          "cell_type": "code",
          "collapsed": false,
          "input": "    beta = thinkbayes.Beta()\n    beta.Update((3, 3))\n    print beta.MaximumLikelihood()",
          "language": "python",
          "metadata": {
          },
          "outputs": [

          ]
        },
        {
          "cell_type": "markdown",
          "metadata": {
          },
          "source": "The maximum likelihood estimate for `p_lion` is the observed rate, 50%. Similarly the MLEs for `p_tiger` and `p_bear` are 33% and 17%."
        },
        {
          "cell_type": "markdown",
          "metadata": {
          },
          "source": "But there are two problems:"
        },
        {
          "cell_type": "markdown",
          "metadata": {
          },
          "source": "<ol>\n<li><p>We have implicitly used a prior for each species that is uniform\n        from 0 to 1, but since we know that there are three species, that\n        prior is not correct. The right prior should have a mean of 1/3, and\n        there should be zero likelihood that any species has a prevalence of\n        100%.</p></li>\n<li><p>The distributions for each species are not independent, because\n        the prevalences have to add up to 1. To capture this dependence, we\n        need a joint distribution for the three prevalences.<a data-type=\"indexterm\" data-primary=\"independence\" id=\"idp3305264\"></a><a data-type=\"indexterm\" data-primary=\"joint distribution\" id=\"idp3304704\"></a></p></li>\n</ol>\n"
        },
        {
          "cell_type": "markdown",
          "metadata": {
          },
          "source": "We can use a Dirichlet distribution to solve both of these problems (see [http://en.wikipedia.org/wiki/Dirichlet\\_distribution](http://en.wikipedia.org/wiki/Dirichlet_distribution)). In the same way we used the beta distribution to describe the distribution of bias for a coin, we can use a Dirichlet distribution to describe the joint distribution of `p_lion` , `p_tiger` and `p_bear` ."
        },
        {
          "cell_type": "markdown",
          "metadata": {
          },
          "source": "The Dirichlet distribution is the multi-dimensional generalization of the beta distribution. Instead of two possible outcomes, like heads and tails, the Dirichlet distribution handles any number of outcomes: in this example, three species."
        },
        {
          "cell_type": "markdown",
          "metadata": {
          },
          "source": "If there are `n` outcomes, the Dirichlet distribution is described by `n` parameters, written _Î±1_ through _Î±n_."
        },
        {
          "cell_type": "markdown",
          "metadata": {
          },
          "source": "Hereâs the definition, from `thinkbayes.py` , of a class that represents a Dirichlet distribution:"
        },
        {
          "cell_type": "code",
          "collapsed": false,
          "input": "class Dirichlet(object):\n\n    def __init__(self, n):\n        self.n = n\n        self.params = numpy.ones(n, dtype=numpy.int)",
          "language": "python",
          "metadata": {
          },
          "outputs": [

          ]
        },
        {
          "cell_type": "markdown",
          "metadata": {
          },
          "source": "`n` is the number of dimensions; initially the parameters are all 1. I use a `numpy` array to store the parameters so I can take advantage of array operations."
        },
        {
          "cell_type": "markdown",
          "metadata": {
          },
          "source": "Given a Dirichlet distribution, the marginal distribution for each prevalence is a beta distribution, which we can compute like this:"
        },
        {
          "cell_type": "code",
          "collapsed": false,
          "input": "    def MarginalBeta(self, i):\n        alpha0 = self.params.sum()\n        alpha = self.params[i]\n        return Beta(alpha, alpha0-alpha)",
          "language": "python",
          "metadata": {
          },
          "outputs": [

          ]
        },
        {
          "cell_type": "markdown",
          "metadata": {
          },
          "source": "`i` is the index of the marginal distribution we want. `alpha0` is the sum of the parameters; `alpha` is the parameter for the given species."
        },
        {
          "cell_type": "markdown",
          "metadata": {
          },
          "source": "In the example, the prior marginal distribution for each species is `Beta(1, 2)` . We can compute the prior means like this:"
        },
        {
          "cell_type": "code",
          "collapsed": false,
          "input": "    dirichlet = thinkbayes.Dirichlet(3)\n    for i in range(3):\n        beta = dirichlet.MarginalBeta(i)\n        print beta.Mean()",
          "language": "python",
          "metadata": {
          },
          "outputs": [

          ]
        },
        {
          "cell_type": "markdown",
          "metadata": {
          },
          "source": "As expected, the prior mean prevalence for each species is 1/3."
        },
        {
          "cell_type": "markdown",
          "metadata": {
          },
          "source": "To update the Dirichlet distribution, we add the observations to the parameters like this:"
        },
        {
          "cell_type": "code",
          "collapsed": false,
          "input": "    def Update(self, data):\n        m = len(data)\n        self.params[:m] += data",
          "language": "python",
          "metadata": {
          },
          "outputs": [

          ]
        },
        {
          "cell_type": "markdown",
          "metadata": {
          },
          "source": "Here `data` is a sequence of counts in the same order as `params` , so in this example, it should be the number of lions, tigers and bears."
        },
        {
          "cell_type": "markdown",
          "metadata": {
          },
          "source": "`data` can be shorter than `params` ; in that case there are some species that have not been observed."
        },
        {
          "cell_type": "markdown",
          "metadata": {
          },
          "source": "Hereâs code that updates `dirichlet` with the observed data and computes the posterior marginal distributions."
        },
        {
          "cell_type": "code",
          "collapsed": false,
          "input": "    data = [3, 2, 1]\n    dirichlet.Update(data)\n\n    for i in range(3):\n        beta = dirichlet.MarginalBeta(i)\n        pmf = beta.MakePmf()\n        print i, pmf.Mean()",
          "language": "python",
          "metadata": {
          },
          "outputs": [

          ]
        },
        {
          "cell_type": "markdown",
          "metadata": {
          },
          "source": "FigureÂ 15-1 shows the results. The posterior mean prevalences are 44%, 33%, and 22%."
        },
        {
          "cell_type": "markdown",
          "metadata": {
          },
          "source": "<figure id=\"fig.species1\" style=\"float: none\"><img src=\"files/images/thba_1501.png\"><figcaption>Distribution of prevalences for three species.</figcaption></figure>"
        },
        {
          "cell_type": "heading",
          "level": 2,
          "metadata": {
          },
          "source": "The hierarchical version"
        },
        {
          "cell_type": "markdown",
          "metadata": {
          },
          "source": "We have solved a simplified version of the problem: if we know how many species there are, we can estimate the prevalence of each."
        },
        {
          "cell_type": "markdown",
          "metadata": {
          },
          "source": "Now letâs get back to the original problem, estimating the total number of species. To solve this problem Iâll define a meta-Suite, which is a Suite that contains other Suites as hypotheses. In this case, the top-level Suite contains hypotheses about the number of species; the bottom level contains hypotheses about prevalences."
        },
        {
          "cell_type": "markdown",
          "metadata": {
          },
          "source": "Hereâs the class definition:"
        },
        {
          "cell_type": "code",
          "collapsed": false,
          "input": "class Species(thinkbayes.Suite):\n\n    def __init__(self, ns):\n        hypos = [thinkbayes.Dirichlet(n) for n in ns]\n        thinkbayes.Suite.__init__(self, hypos)",
          "language": "python",
          "metadata": {
          },
          "outputs": [

          ]
        },
        {
          "cell_type": "markdown",
          "metadata": {
          },
          "source": "`__init__` takes a list of possible values for `n` and makes a list of Dirichlet objects."
        },
        {
          "cell_type": "markdown",
          "metadata": {
          },
          "source": "Hereâs the code that creates the top-level suite:"
        },
        {
          "cell_type": "code",
          "collapsed": false,
          "input": "    ns = range(3, 30)\n    suite = Species(ns)",
          "language": "python",
          "metadata": {
          },
          "outputs": [

          ]
        },
        {
          "cell_type": "markdown",
          "metadata": {
          },
          "source": "`ns` is the list of possible values for `n` . We have seen 3 species, so there have to be at least that many. I chose an upper bound that seems reasonable, but we will check later that the probability of exceeding this bound is low. And at least initially we assume that any value in this range is equally likely."
        },
        {
          "cell_type": "markdown",
          "metadata": {
          },
          "source": "To update a hierarchical model, you have to update all levels. Usually you have to update the bottom level first and work up, but in this case we can update the top level first:"
        },
        {
          "cell_type": "code",
          "collapsed": false,
          "input": "#class Species\n\n    def Update(self, data):\n        thinkbayes.Suite.Update(self, data)\n        for hypo in self.Values():\n            hypo.Update(data)",
          "language": "python",
          "metadata": {
          },
          "outputs": [

          ]
        },
        {
          "cell_type": "markdown",
          "metadata": {
          },
          "source": "`Species.Update` invokes `Update` in the parent class, then loops through the sub-hypotheses and updates them."
        },
        {
          "cell_type": "markdown",
          "metadata": {
          },
          "source": "Now all we need is a likelihood function:"
        },
        {
          "cell_type": "code",
          "collapsed": false,
          "input": "# class Species\n\n    def Likelihood(self, data, hypo):\n        dirichlet = hypo\n        like = 0\n        for i in range(1000):\n            like += dirichlet.Likelihood(data)\n\n        return like",
          "language": "python",
          "metadata": {
          },
          "outputs": [

          ]
        },
        {
          "cell_type": "markdown",
          "metadata": {
          },
          "source": "`data` is a sequence of observed counts; `hypo` is a Dirichlet object. `Species.Likelihood` calls `Dirichlet.Likelihood` 1000 times and returns the total."
        },
        {
          "cell_type": "markdown",
          "metadata": {
          },
          "source": "Why call it 1000 times? Because `Dirichlet.Likelihood` doesnât actually compute the likelihood of the data under the whole Dirichlet distribution. Instead, it draws one sample from the hypothetical distribution and computes the likelihood of the data under the sampled set of prevalences."
        },
        {
          "cell_type": "markdown",
          "metadata": {
          },
          "source": "Hereâs what it looks like:"
        },
        {
          "cell_type": "code",
          "collapsed": false,
          "input": "# class Dirichlet\n\n    def Likelihood(self, data):\n        m = len(data)\n        if self.n < m:\n            return 0\n\n        x = data\n        p = self.Random()\n        q = p[:m]**x\n        return q.prod()",
          "language": "python",
          "metadata": {
          },
          "outputs": [

          ]
        },
        {
          "cell_type": "markdown",
          "metadata": {
          },
          "source": "The length of `data` is the number of species observed. If we see more species than we thought existed, the likelihood is 0."
        },
        {
          "cell_type": "markdown",
          "metadata": {
          },
          "source": "Otherwise we select a random set of prevalences, `p` , and compute the multinomial PMF, which is"
        },
        {
          "cell_type": "markdown",
          "metadata": {
          },
          "source": "<div data-type=\"equation\"><math xmlns=\"http://www.w3.org/1998/Math/MathML\"><mrow xmlns:mml=\"http://www.w3.org/1998/Math/MathML\"><msub><mi>c</mi><mi>x</mi></msub><msubsup><mi>p</mi><mn>1</mn><msub><mi>x</mi><mn>1</mn></msub></msubsup><mo>â¯</mo><msubsup><mi>p</mi><mi>n</mi><msub><mi>x</mi><mi>n</mi></msub></msubsup></mrow></math></div>\n"
        },
        {
          "cell_type": "markdown",
          "metadata": {
          },
          "source": "_pi_ is the prevalence of the _i_th species, and _xi_ is the observed number. The first term, _cx_, is the multinomial coefficient; I leave it out of the computation because it is a multiplicative factor that depends only on the data, not the hypothesis, so it gets normalized away (see [http://en.wikipedia.org/wiki/Multinomial\\_distribution](http://en.wikipedia.org/wiki/Multinomial_distribution))."
        },
        {
          "cell_type": "markdown",
          "metadata": {
          },
          "source": "`m` is the number of observed species. We only need the first `m` elements of `p` ; for the others, _xi_ is 0, so _pixi_ is 1, and we can leave them out of the product."
        },
        {
          "cell_type": "heading",
          "level": 2,
          "metadata": {
          },
          "source": "Random sampling"
        },
        {
          "cell_type": "markdown",
          "metadata": {
          },
          "source": "There are two ways to generate a random sample from a Dirichlet distribution. One is to use the marginal beta distributions, but in that case you have to select one at a time and scale the rest so they add up to 1 (see [http://en.wikipedia.org/wiki/Dirichlet\\_distribution#Random\\_number\\_generation](http://en.wikipedia.org/wiki/Dirichlet_distribution#Random_number_generation))."
        },
        {
          "cell_type": "markdown",
          "metadata": {
          },
          "source": "A less obvious, but faster, way is to select values from `n` gamma distributions, then normalize by dividing through by the total. Hereâs the code:"
        },
        {
          "cell_type": "code",
          "collapsed": false,
          "input": "# class Dirichlet\n\n    def Random(self):\n        p = numpy.random.gamma(self.params)\n        return p / p.sum()",
          "language": "python",
          "metadata": {
          },
          "outputs": [

          ]
        },
        {
          "cell_type": "markdown",
          "metadata": {
          },
          "source": "Now weâre ready to look at some results. Here is the code that extracts the posterior distribution of `n` :"
        },
        {
          "cell_type": "code",
          "collapsed": false,
          "input": "    def DistOfN(self):\n        pmf = thinkbayes.Pmf()\n        for hypo, prob in self.Items():\n            pmf.Set(hypo.n, prob)\n        return pmf",
          "language": "python",
          "metadata": {
          },
          "outputs": [

          ]
        },
        {
          "cell_type": "markdown",
          "metadata": {
          },
          "source": "`DistOfN` iterates through the top-level hypotheses and accumulates the probability of each `n` ."
        },
        {
          "cell_type": "markdown",
          "metadata": {
          },
          "source": "FigureÂ 15-2 shows the result. The most likely value is 4. Values from 3 to 7 are reasonably likely; after that the probabilities drop off quickly. The probability that there are 29 species is low enough to be negligible; if we chose a higher bound, we would get nearly the same result."
        },
        {
          "cell_type": "markdown",
          "metadata": {
          },
          "source": "<figure id=\"fig.species2\" style=\"float: none\"><img src=\"files/images/thba_1502.png\"><figcaption>Posterior distribution of n.</figcaption></figure>"
        },
        {
          "cell_type": "markdown",
          "metadata": {
          },
          "source": "Remember that this result is based on a uniform prior for `n` . If we have background information about the number of species in the environment, we might choose a different prior."
        },
        {
          "cell_type": "heading",
          "level": 2,
          "metadata": {
          },
          "source": "Optimization"
        },
        {
          "cell_type": "markdown",
          "metadata": {
          },
          "source": "I have to admit that I am proud of this example. The Unseen Species problem is not easy, and I think this solution is simple and clear, and takes surprisingly few lines of code (about 50 so far)."
        },
        {
          "cell_type": "markdown",
          "metadata": {
          },
          "source": "The only problem is that it is slow. Itâs good enough for the example with only 3 observed species, but not good enough for the belly button data, with more than 100 species in some samples."
        },
        {
          "cell_type": "markdown",
          "metadata": {
          },
          "source": "The next few sections present a series of optimizations we need to make this solution scale. Before we get into the details, hereâs a road map."
        },
        {
          "cell_type": "markdown",
          "metadata": {
          },
          "source": "<ul>\n<li><p>The first step is to recognize that if we update the Dirichlet\n        distributions with the same data, the first <code>m</code> parameters are the same for all of them.\n        The only difference is the number of hypothetical unseen species. So\n        we donât really need <code>n</code> Dirichlet\n        objects; we can store the parameters in the top level of the\n        hierarchy. <code>Species2</code> implements this\n        optimization.</p></li>\n<li><p><code>Species2</code> also uses the same\n        set of random values for all of the hypotheses. This saves time\n        generating random values, but it has a second benefit that turns out\n        to be more important: by giving all hypotheses the same selection from\n        the sample space, we make the comparison between the hypotheses more\n        fair, so it takes fewer iterations to converge.</p></li>\n<li>\n<p>Even with these changes there is a major performance problem. As\n        the number of observed species increases, the array of random\n        prevalences gets bigger, and the chance of choosing one that is\n        approximately right becomes small. So the vast majority of iterations\n        yield small likelihoods that donât contribute much to the total, and\n        donât discriminate between hypotheses.</p>\n<p>The solution is to do the updates one species at a time.\n        <code>Species4</code> is a simple implementation\n        of this strategy using Dirichlet objects to represent the\n        sub-hypotheses.</p>\n</li>\n<li><p>Finally, <code>Species5</code> combines\n        the sub-hypotheses into the top level and uses <code>numpy</code> array operations to speed things\n        up.<a data-type=\"indexterm\" data-primary=\"numpy\" id=\"numpy-ch15\"></a></p></li>\n</ul>\n"
        },
        {
          "cell_type": "markdown",
          "metadata": {
          },
          "source": "If you are not interested in the details, feel free to skip to âThe belly button dataâ where we look at results from the belly button data."
        },
        {
          "cell_type": "heading",
          "level": 2,
          "metadata": {
          },
          "source": "Collapsing the hierarchy"
        },
        {
          "cell_type": "markdown",
          "metadata": {
          },
          "source": "All of the bottom-level Dirichlet distributions are updated with the same data, so the first `m` parameters are the same for all of them. We can eliminate them and merge the parameters into the top-level suite. `Species2` implements this optimization:"
        },
        {
          "cell_type": "code",
          "collapsed": false,
          "input": "class Species2(object):\n    \n    def __init__(self, ns):\n        self.ns = ns\n        self.probs = numpy.ones(len(ns), dtype=numpy.double)\n        self.params = numpy.ones(self.high, dtype=numpy.int)",
          "language": "python",
          "metadata": {
          },
          "outputs": [

          ]
        },
        {
          "cell_type": "markdown",
          "metadata": {
          },
          "source": "`ns` is the list of hypothetical values for `n` ; `probs` is the list of corresponding probabilities. And `params` is the sequence of Dirichlet parameters, initially all 1."
        },
        {
          "cell_type": "markdown",
          "metadata": {
          },
          "source": "`Species2.Update` updates both levels of the hierarchy: first the probability for each value of `n` , then the Dirichlet parameters:"
        },
        {
          "cell_type": "code",
          "collapsed": false,
          "input": "# class Species2\n\n    def Update(self, data):\n        like = numpy.zeros(len(self.ns), dtype=numpy.double)\n        for i in range(1000):\n            like += self.SampleLikelihood(data)\n\n        self.probs *= like\n        self.probs /= self.probs.sum()\n\n        m = len(data)\n        self.params[:m] += data",
          "language": "python",
          "metadata": {
          },
          "outputs": [

          ]
        },
        {
          "cell_type": "markdown",
          "metadata": {
          },
          "source": "`SampleLikelihood` returns an array of likelihoods, one for each value of `n` . `like` accumulates the total likelihood for 1000 samples. `self.probs` is multiplied by the total likelihood, then normalized. The last two lines, which update the parameters, are the same as in `Dirichlet.Update` ."
        },
        {
          "cell_type": "markdown",
          "metadata": {
          },
          "source": "Now letâs look at `SampleLikelihood` . There are two opportunities for optimization here:"
        },
        {
          "cell_type": "markdown",
          "metadata": {
          },
          "source": "<ul>\n<li><p>When the hypothetical number of species, <code>n</code>, exceeds the observed number, <code>m</code>, we only need the first <code>m</code> terms of the multinomial PMF; the rest are\n        1.</p></li>\n<li><p>If the number of species is large, the likelihood of the data\n        might be too small for floating-point (see <a data-type=\"xref\" href=\"ch10.html#underflow\">âUnderflowâ</a>). So it is safer to compute\n        log-likelihoods.<a data-type=\"indexterm\" data-primary=\"log-likelihood\" id=\"idp3406256\"></a><a data-type=\"indexterm\" data-primary=\"underflow\" id=\"idp3406864\"></a></p></li>\n</ul>\n"
        },
        {
          "cell_type": "markdown",
          "metadata": {
          },
          "source": "Again, the multinomial PMF is"
        },
        {
          "cell_type": "markdown",
          "metadata": {
          },
          "source": "<div data-type=\"equation\"><math xmlns=\"http://www.w3.org/1998/Math/MathML\"><mrow xmlns:mml=\"http://www.w3.org/1998/Math/MathML\"><msub><mi>c</mi><mi>x</mi></msub><msubsup><mi>p</mi><mn>1</mn><msub><mi>x</mi><mn>1</mn></msub></msubsup><mo>â¯</mo><msubsup><mi>p</mi><mi>n</mi><msub><mi>x</mi><mi>n</mi></msub></msubsup></mrow></math></div>\n"
        },
        {
          "cell_type": "markdown",
          "metadata": {
          },
          "source": "So the log-likelihood is"
        },
        {
          "cell_type": "markdown",
          "metadata": {
          },
          "source": "<div data-type=\"equation\"><math xmlns=\"http://www.w3.org/1998/Math/MathML\"><mrow xmlns:mml=\"http://www.w3.org/1998/Math/MathML\"><mo form=\"prefix\">log</mo><msub><mi>c</mi><mi>x</mi></msub><mo>+</mo><msub><mi>x</mi><mn>1</mn></msub><mo form=\"prefix\">log</mo><msub><mi>p</mi><mn>1</mn></msub><mo>+</mo><mo>â¯</mo><mo>+</mo><msub><mi>x</mi><mi>n</mi></msub><mo form=\"prefix\">log</mo><msub><mi>p</mi><mi>n</mi></msub></mrow></math></div>\n"
        },
        {
          "cell_type": "markdown",
          "metadata": {
          },
          "source": "which is fast and easy to compute. Again, _cx_ it is the same for all hypotheses, so we can drop it. Hereâs the code:"
        },
        {
          "cell_type": "code",
          "collapsed": false,
          "input": "# class Species2\n\n    def SampleLikelihood(self, data):\n        gammas = numpy.random.gamma(self.params)\n\n        m = len(data)\n        row = gammas[:m]\n        col = numpy.cumsum(gammas)\n\n        log_likes = []\n        for n in self.ns:\n            ps = row / col[n-1]\n            terms = data * numpy.log(ps)\n            log_like = terms.sum()\n            log_likes.append(log_like)\n\n        log_likes -= numpy.max(log_likes)\n        likes = numpy.exp(log_likes)\n\n        coefs = [thinkbayes.BinomialCoef(n, m) for n in self.ns]\n        likes *= coefs\n\n        return likes",
          "language": "python",
          "metadata": {
          },
          "outputs": [

          ]
        },
        {
          "cell_type": "markdown",
          "metadata": {
          },
          "source": "`gammas` is an array of values from a gamma distribution; its length is the largest hypothetical value of `n` . `row` is just the first `m` elements of `gammas` ; since these are the only elements that depend on the data, they are the only ones we need."
        },
        {
          "cell_type": "markdown",
          "metadata": {
          },
          "source": "For each value of `n` we need to divide `row` by the total of the first `n` values from `gamma` . `cumsum` computes these cumulative sums and stores them in `col` ."
        },
        {
          "cell_type": "markdown",
          "metadata": {
          },
          "source": "The loop iterates through the values of `n` and accumulates a list of log-likelihoods."
        },
        {
          "cell_type": "markdown",
          "metadata": {
          },
          "source": "Inside the loop, `ps` contains the row of probabilities, normalized with the appropriate cumulative sum. `terms` contains the terms of the summation, xilogpi, and `log_like` contains their sum."
        },
        {
          "cell_type": "markdown",
          "metadata": {
          },
          "source": "After the loop, we want to convert the log-likelihoods to linear likelihoods, but first itâs a good idea to shift them so the largest log-likelihood is 0; that way the linear likelihoods are not too small (see [âUnderflowâ](ch10.html#underflow))."
        },
        {
          "cell_type": "markdown",
          "metadata": {
          },
          "source": "Finally, before we return the likelihood, we have to apply a correction factor, which is the number of ways we could have observed these `m` species, if the total number of species is `n` . `BinomialCoefficient` computes ân choose mâ, which is written nm."
        },
        {
          "cell_type": "markdown",
          "metadata": {
          },
          "source": "As often happens, the optimized version is less readable and more error-prone than the original. But thatâs one reason I think it is a good idea to start with the simple version; we can use it for regression testing. I plotted results from both versions and confirmed that they are approximately equal, and that they converge as the number of iterations increases."
        },
        {
          "cell_type": "heading",
          "level": 2,
          "metadata": {
          },
          "source": "One more problem"
        },
        {
          "cell_type": "markdown",
          "metadata": {
          },
          "source": "Thereâs more we could do to optimize this code, but thereâs another problem we need to fix first. As the number of observed species increases, this version gets noisier and takes more iterations to converge on a good answer."
        },
        {
          "cell_type": "markdown",
          "metadata": {
          },
          "source": "The problem is that if the prevalences we choose from the Dirichlet distribution, the `ps` , are not at least approximately right, the likelihood of the observed data is close to zero and almost equally bad for all values of `n` . So most iterations donât provide any useful contribution to the total likelihood. And as the number of observed species, `m` , gets large, the probability of choosing `ps` with non-negligible likelihood gets small. Really small."
        },
        {
          "cell_type": "markdown",
          "metadata": {
          },
          "source": "Fortunately, there is a solution. Remember that if you observe a set of data, you can update the prior distribution with the entire dataset, or you can break it up into a series of updates with subsets of the data, and the result is the same either way."
        },
        {
          "cell_type": "markdown",
          "metadata": {
          },
          "source": "For this example, the key is to perform the updates one species at a time. That way when we generate a random set of `ps` , only one of them affects the computed likelihood, so the chance of choosing a good one is much better."
        },
        {
          "cell_type": "markdown",
          "metadata": {
          },
          "source": "Hereâs a new version that updates one species at a time:"
        },
        {
          "cell_type": "code",
          "collapsed": false,
          "input": "class Species4(Species):\n\n    def Update(self, data):\n        m = len(data)\n\n        for i in range(m):\n            one = numpy.zeros(i+1)\n            one[i] = data[i]            \n            Species.Update(self, one)",
          "language": "python",
          "metadata": {
          },
          "outputs": [

          ]
        },
        {
          "cell_type": "markdown",
          "metadata": {
          },
          "source": "This version inherits `__init__` from `Species` , so it represents the hypotheses as a list of Dirichlet objects (unlike `Species2` )."
        },
        {
          "cell_type": "markdown",
          "metadata": {
          },
          "source": "`Update` loops through the observed species and makes an array, `one` , with all zeros and one species count. Then it calls `Update` in the parent class, which computes the likelihoods and updates the sub-hypotheses."
        },
        {
          "cell_type": "markdown",
          "metadata": {
          },
          "source": "So in the running example, we do three updates. The first is something like âI have seen three lions.â The second is âI have seen two tigers and no additional lions.â And the third is âI have seen one bear and no more lions and tigers.â"
        },
        {
          "cell_type": "markdown",
          "metadata": {
          },
          "source": "Hereâs the new version of `Likelihood` :"
        },
        {
          "cell_type": "code",
          "collapsed": false,
          "input": "# class Species4\n\n    def Likelihood(self, data, hypo):\n        dirichlet = hypo\n        like = 0\n        for i in range(self.iterations):\n            like += dirichlet.Likelihood(data)\n\n        # correct for the number of unseen species the new one\n        # could have been\n        m = len(data)\n        num_unseen = dirichlet.n - m + 1\n        like *= num_unseen\n\n        return like",
          "language": "python",
          "metadata": {
          },
          "outputs": [

          ]
        },
        {
          "cell_type": "markdown",
          "metadata": {
          },
          "source": "This is almost the same as `Species.Likelihood` . The difference is the factor, `num_unseen` . This correction is necessary because each time we see a species for the first time, we have to consider that there were some number of other unseen species that we might have seen. For larger values of `n` there are more unseen species that we could have seen, which increases the likelihood of the data."
        },
        {
          "cell_type": "markdown",
          "metadata": {
          },
          "source": "This is a subtle point and I have to admit that I did not get it right the first time. But again I was able to validate this version by comparing it to the previous versions."
        },
        {
          "cell_type": "heading",
          "level": 2,
          "metadata": {
          },
          "source": "Weâre not done yet"
        },
        {
          "cell_type": "markdown",
          "metadata": {
          },
          "source": "Performing the updates one species at a time solves one problem, but it creates another. Each update takes time proportional to km, where _k_ is the number of hypotheses and _m_ is the number of observed species. So if we do _m_ updates, the total run time is proportional to km2."
        },
        {
          "cell_type": "markdown",
          "metadata": {
          },
          "source": "But we can speed things up using the same trick we used in âCollapsing the hierarchyâ: weâll get rid of the Dirichlet objects and collapse the two levels of the hierarchy into a single object. So hereâs yet another version of `Species` :"
        },
        {
          "cell_type": "code",
          "collapsed": false,
          "input": "class Species5(Species2):\n    \n    def Update(self, data):\n        m = len(data)\n        for i in range(m):\n            self.UpdateOne(i+1, data[i])\n            self.params[i] += data[i]",
          "language": "python",
          "metadata": {
          },
          "outputs": [

          ]
        },
        {
          "cell_type": "markdown",
          "metadata": {
          },
          "source": "This version inherits `__init__` from `Species2` , so it uses `ns` and `probs` to represent the distribution of `n` , and `params` to represent the parameters of the Dirichlet distribution."
        },
        {
          "cell_type": "markdown",
          "metadata": {
          },
          "source": "`Update` is similar to what we saw in the previous section. It loops through the observed species and calls `UpdateOne` :"
        },
        {
          "cell_type": "code",
          "collapsed": false,
          "input": "# class Species5\n\n    def UpdateOne(self, i, count):\n        likes = numpy.zeros(len(self.ns), dtype=numpy.double)\n        for i in range(self.iterations):\n            likes += self.SampleLikelihood(i, count)\n\n        unseen_species = [n-i+1 for n in self.ns]\n        likes *= unseen_species\n\n        self.probs *= likes\n        self.probs /= self.probs.sum()",
          "language": "python",
          "metadata": {
          },
          "outputs": [

          ]
        },
        {
          "cell_type": "markdown",
          "metadata": {
          },
          "source": "This function is similar to `Species2.Update` , with two changes:"
        },
        {
          "cell_type": "markdown",
          "metadata": {
          },
          "source": "<ul>\n<li><p>The interface is different. Instead of the whole dataset, we get\n        <code>i</code>, the index of the observed\n        species, and <code>count</code>, how many of\n        that species weâve seen.</p></li>\n<li><p>We have to apply a correction factor for the number of unseen\n        species, as in <code>Species4.Likelihood</code>.\n        The difference here is that we update all of the likelihoods at once\n        with array multiplication.</p></li>\n</ul>\n"
        },
        {
          "cell_type": "markdown",
          "metadata": {
          },
          "source": "Finally, hereâs `SampleLikelihood` :"
        },
        {
          "cell_type": "code",
          "collapsed": false,
          "input": "# class Species5\n\n    def SampleLikelihood(self, i, count):\n        gammas = numpy.random.gamma(self.params)\n\n        sums = numpy.cumsum(gammas)[self.ns[0]-1:]\n\n        ps = gammas[i-1] / sums\n        log_likes = numpy.log(ps) * count\n\n        log_likes -= numpy.max(log_likes)\n        likes = numpy.exp(log_likes)\n\n        return likes",
          "language": "python",
          "metadata": {
          },
          "outputs": [

          ]
        },
        {
          "cell_type": "markdown",
          "metadata": {
          },
          "source": "This is similar to `Species2.SampleLikelihood` ; the difference is that each update only includes a single species, so we donât need a loop."
        },
        {
          "cell_type": "markdown",
          "metadata": {
          },
          "source": "The runtime of this function is proportional to the number of hypotheses, _k_. It runs _m_ times, so the run time of the update is proportional to km. And the number of iterations we need to get an accurate result is usually small."
        },
        {
          "cell_type": "heading",
          "level": 2,
          "metadata": {
          },
          "source": "The belly button data"
        },
        {
          "cell_type": "markdown",
          "metadata": {
          },
          "source": "Thatâs enough about lions and tigers and bears. Letâs get back to belly buttons. To get a sense of what the data look like, consider subject B1242, whose sample of 400 reads yielded 61 species with the following counts:"
        },
        {
          "cell_type": "code",
          "collapsed": false,
          "input": "92, 53, 47, 38, 15, 14, 12, 10, 8, 7, 7, 5, 5, \n4, 4, 4, 4, 4, 4, 4, 3, 3, 3, 3, 3, 3, 3, 2, 2, 2, 2,\n1, 1, 1, 1, 1, 1, 1, 1, 1, 1, 1, 1, 1, 1, 1, 1, 1, 1,\n1, 1, 1, 1, 1, 1, 1, 1, 1, 1, 1, 1",
          "language": "python",
          "metadata": {
          },
          "outputs": [

          ]
        },
        {
          "cell_type": "markdown",
          "metadata": {
          },
          "source": "There are a few dominant species that make up a large fraction of the whole, but many species that yielded only a single read. The number of these âsingletonsâ suggests that there are likely to be at least a few unseen species."
        },
        {
          "cell_type": "markdown",
          "metadata": {
          },
          "source": "In the example with lions and tigers, we assume that each animal in the preserve is equally likely to be observed. Similarly, for the belly button data, we assume that each bacterium is equally likely to yield a read."
        },
        {
          "cell_type": "markdown",
          "metadata": {
          },
          "source": "In reality, each step in the data-collection process might introduce biases. Some species might be more likely to be picked up by a swab, or to yield identifiable amplicons. So when we talk about the prevalence of each species, we should remember this source of error."
        },
        {
          "cell_type": "markdown",
          "metadata": {
          },
          "source": "I should also acknowledge that I am using the term âspeciesâ loosely. First, bacterial species are not well defined. Second, some reads identify a particular species, others only identify a genus. To be more precise, I should say âoperational taxonomic unitâ, or OTU."
        },
        {
          "cell_type": "markdown",
          "metadata": {
          },
          "source": "Now letâs process some of the belly button data. I define a class called `Subject` to represent information about each subject in the study:"
        },
        {
          "cell_type": "code",
          "collapsed": false,
          "input": "class Subject(object):\n\n    def __init__(self, code):\n        self.code = code\n        self.species = []",
          "language": "python",
          "metadata": {
          },
          "outputs": [

          ]
        },
        {
          "cell_type": "markdown",
          "metadata": {
          },
          "source": "Each subject has a string code, like âB1242â, and a list of (count, species name) pairs, sorted in increasing order by count. `Subject` provides several methods to make it easy to access these counts and species names. You can see the details in [http://thinkbayes.com/species.py](http://thinkbayes.com/species.py). For more information see [âWorking with the codeâ](preface01.html#download)."
        },
        {
          "cell_type": "markdown",
          "metadata": {
          },
          "source": "`Subject` provides a method named `Process` that creates and updates a `Species5` suite, which represents the distributions of `n` and the prevalences."
        },
        {
          "cell_type": "markdown",
          "metadata": {
          },
          "source": "And `Suite2` provides `DistOfN` , which returns the posterior distribution of `n` ."
        },
        {
          "cell_type": "code",
          "collapsed": false,
          "input": "# class Suite2\n\n    def DistN(self):\n        items = zip(self.ns, self.probs)\n        pmf = thinkbayes.MakePmfFromItems(items)\n        return pmf",
          "language": "python",
          "metadata": {
          },
          "outputs": [

          ]
        },
        {
          "cell_type": "markdown",
          "metadata": {
          },
          "source": "FigureÂ 15-3 shows the distribution of `n` for subject B1242. The probability that there are exactly 61 species, and no unseen species, is nearly zero. The most likely value is 72, with 90% credible interval 66 to 79. At the high end, it is unlikely that there are as many as 87 species."
        },
        {
          "cell_type": "markdown",
          "metadata": {
          },
          "source": "<figure id=\"species-ndist\" style=\"float: none\"><img src=\"files/images/thba_1503.png\"><figcaption>Distribution of n for subject B1242.</figcaption></figure>"
        },
        {
          "cell_type": "markdown",
          "metadata": {
          },
          "source": "Next we compute the posterior distribution of prevalence for each species. `Species2` provides `DistOfPrevalence` :"
        },
        {
          "cell_type": "code",
          "collapsed": false,
          "input": "# class Species2\n\n    def DistOfPrevalence(self, index):\n        metapmf = thinkbayes.Pmf()\n\n        for n, prob in zip(self.ns, self.probs):\n            beta = self.MarginalBeta(n, index)\n            pmf = beta.MakePmf()\n            metapmf.Set(pmf, prob)\n\n        mix = thinkbayes.MakeMixture(metapmf)\n        return metapmf, mix",
          "language": "python",
          "metadata": {
          },
          "outputs": [

          ]
        },
        {
          "cell_type": "markdown",
          "metadata": {
          },
          "source": "`index` indicates which species we want. For each `n` , we have a different posterior distribution of prevalence."
        },
        {
          "cell_type": "markdown",
          "metadata": {
          },
          "source": "The loop iterates through the possible values of `n` and their probabilities. For each value of `n` it gets a Beta object representing the marginal distribution for the indicated species. Remember that Beta objects contain the parameters `alpha` and `beta` ; they donât have values and probabilities like a Pmf, but they provide `MakePmf` , which generates a discrete approximation to the continuous beta distribution."
        },
        {
          "cell_type": "markdown",
          "metadata": {
          },
          "source": "`metapmf` is a meta-Pmf that contains the distributions of prevalence, conditioned on `n` . `MakeMixture` combines the meta-Pmf into `mix` , which combines the conditional distributions into a single distribution of prevalence."
        },
        {
          "cell_type": "markdown",
          "metadata": {
          },
          "source": "FigureÂ 15-4 shows results for the five species with the most reads. The most prevalent species accounts for 23% of the 400 reads, but since there are almost certainly unseen species, the most likely estimate for its prevalence is 20%, with 90% credible interval between 17% and 23%."
        },
        {
          "cell_type": "markdown",
          "metadata": {
          },
          "source": "<figure id=\"species-prev\" style=\"float: none\"><img src=\"files/images/thba_1504.png\"><figcaption>Distribution of prevalences for subject B1242.</figcaption></figure>"
        },
        {
          "cell_type": "heading",
          "level": 2,
          "metadata": {
          },
          "source": "Predictive distributions"
        },
        {
          "cell_type": "markdown",
          "metadata": {
          },
          "source": "I introduced the hidden species problem in the form of four related questions. We have answered the first two by computing the posterior distribution for `n` and the prevalence of each species."
        },
        {
          "cell_type": "markdown",
          "metadata": {
          },
          "source": "The other two questions are:"
        },
        {
          "cell_type": "markdown",
          "metadata": {
          },
          "source": "<ul>\n<li><p>If we are planning to collect additional reads, can we predict\n        how many new species we are likely to discover?</p></li>\n<li><p>How many additional reads are needed to increase the fraction of\n        observed species to a given threshold?</p></li>\n</ul>\n"
        },
        {
          "cell_type": "markdown",
          "metadata": {
          },
          "source": "To answer predictive questions like this we can use the posterior distributions to simulate possible future events and compute predictive distributions for the number of species, and fraction of the total, we are likely to see."
        },
        {
          "cell_type": "markdown",
          "metadata": {
          },
          "source": "The kernel of these simulations looks like this:"
        },
        {
          "cell_type": "markdown",
          "metadata": {
          },
          "source": "<ol>\n<li><p>Choose <code>n</code> from its posterior\n        distribution.</p></li>\n<li><p>Choose a prevalence for each species, including possible unseen\n        species, using the Dirichlet distribution.<a data-type=\"indexterm\" data-primary=\"Dirichlet distribution\" id=\"idp3531568\"></a></p></li>\n<li><p>Generate a random sequence of future observations.</p></li>\n<li><p>Compute the number of new species, <code>num_new</code>, as a function of the number of\n        additional reads, <code>k</code>.</p></li>\n<li><p>Repeat the previous steps and accumulate the joint distribution\n        of <code>num_new</code> and\n        <code>k</code>.<a data-type=\"indexterm\" data-primary=\"joint distribution\" id=\"idp3539664\"></a></p></li>\n</ol>\n"
        },
        {
          "cell_type": "markdown",
          "metadata": {
          },
          "source": "And hereâs the code. `RunSimulation` runs a single simulation:"
        },
        {
          "cell_type": "code",
          "collapsed": false,
          "input": "# class Subject\n\n    def RunSimulation(self, num_reads):\n        m, seen = self.GetSeenSpecies()\n        n, observations = self.GenerateObservations(num_reads)\n\n        curve = []\n        for k, obs in enumerate(observations):\n            seen.add(obs)\n\n            num_new = len(seen) - m\n            curve.append((k+1, num_new))\n\n        return curve",
          "language": "python",
          "metadata": {
          },
          "outputs": [

          ]
        },
        {
          "cell_type": "markdown",
          "metadata": {
          },
          "source": "<div class=\"hard-pagebreak\"></div>\n"
        },
        {
          "cell_type": "markdown",
          "metadata": {
          },
          "source": "`num_reads` is the number of additional reads to simulate. `m` is the number of seen species, and `seen` is a set of strings with a unique name for each species. `n` is a random value from the posterior distribution, and `observations` is a random sequence of species names."
        },
        {
          "cell_type": "markdown",
          "metadata": {
          },
          "source": "Each time through the loop, we add the new observation to `seen` and record the number of reads and the number of new species so far."
        },
        {
          "cell_type": "markdown",
          "metadata": {
          },
          "source": "The result of `RunSimulation` is a **rarefaction curve**, represented as a list of pairs with the number of reads and the number of new species."
        },
        {
          "cell_type": "markdown",
          "metadata": {
          },
          "source": "Before we see the results, letâs look at `GetSeenSpecies` and `GenerateObservations` ."
        },
        {
          "cell_type": "code",
          "collapsed": false,
          "input": "#class Subject\n\n    def GetSeenSpecies(self):\n        names = self.GetNames()\n        m = len(names)\n        seen = set(SpeciesGenerator(names, m))\n        return m, seen",
          "language": "python",
          "metadata": {
          },
          "outputs": [

          ]
        },
        {
          "cell_type": "markdown",
          "metadata": {
          },
          "source": "`GetNames` returns the list of species names that appear in the data files, but for many subjects these names are not unique. So I use `SpeciesGenerator` to extend each name with a serial number:"
        },
        {
          "cell_type": "code",
          "collapsed": false,
          "input": "def SpeciesGenerator(names, num):\n    i = 0\n    for name in names:\n        yield '%s-%d' % (name, i)\n        i += 1\n\n    while i < num:\n        yield 'unseen-%d' % i\n        i += 1",
          "language": "python",
          "metadata": {
          },
          "outputs": [

          ]
        },
        {
          "cell_type": "markdown",
          "metadata": {
          },
          "source": "Given a name like `Corynebacterium` , `SpeciesGenerator` yields `Corynebacterium-1` . When the list of names is exhausted, it yields names like `unseen-62` ."
        },
        {
          "cell_type": "markdown",
          "metadata": {
          },
          "source": "Here is `GenerateObservations` :"
        },
        {
          "cell_type": "code",
          "collapsed": false,
          "input": "# class Subject\n\n    def GenerateObservations(self, num_reads):\n        n, prevalences = self.suite.SamplePosterior()\n\n        names = self.GetNames()\n        name_iter = SpeciesGenerator(names, n)\n\n        d = dict(zip(name_iter, prevalences))\n        cdf = thinkbayes.MakeCdfFromDict(d)\n        observations = cdf.Sample(num_reads)\n\n        return n, observations",
          "language": "python",
          "metadata": {
          },
          "outputs": [

          ]
        },
        {
          "cell_type": "markdown",
          "metadata": {
          },
          "source": "Again, `num_reads` is the number of additional reads to generate. `n` and `prevalences` are samples from the posterior distribution."
        },
        {
          "cell_type": "markdown",
          "metadata": {
          },
          "source": "`cdf` is a Cdf object that maps species names, including the unseen, to cumulative probabilities. Using a Cdf makes it efficient to generate a random sequence of species names."
        },
        {
          "cell_type": "markdown",
          "metadata": {
          },
          "source": "Finally, here is `Species2.SamplePosterior` :"
        },
        {
          "cell_type": "code",
          "collapsed": false,
          "input": "    def SamplePosterior(self):\n        pmf = self.DistOfN()\n        n = pmf.Random()\n        prevalences = self.SamplePrevalences(n)\n        return n, prevalences",
          "language": "python",
          "metadata": {
          },
          "outputs": [

          ]
        },
        {
          "cell_type": "markdown",
          "metadata": {
          },
          "source": "And `SamplePrevalences` , which generates a sample of prevalences conditioned on `n` :"
        },
        {
          "cell_type": "code",
          "collapsed": false,
          "input": "# class Species2\n\n    def SamplePrevalences(self, n):\n        params = self.params[:n]\n        gammas = numpy.random.gamma(params)\n        gammas /= gammas.sum()\n        return gammas",
          "language": "python",
          "metadata": {
          },
          "outputs": [

          ]
        },
        {
          "cell_type": "markdown",
          "metadata": {
          },
          "source": "We saw this algorithm for generating random values from a Dirichlet distribution in âRandom samplingâ."
        },
        {
          "cell_type": "markdown",
          "metadata": {
          },
          "source": "FigureÂ 15-5 shows 100 simulated rarefaction curves for subject B1242. The curves are âjittered;â that is, I shifted each curve by a random offset so they would not all overlap. By inspection we can estimate that after 400 more reads we are likely to find 2â6 new species."
        },
        {
          "cell_type": "markdown",
          "metadata": {
          },
          "source": "<figure id=\"species-rare\" style=\"float: none\"><img src=\"files/images/thba_1505.png\"><figcaption>Simulated rarefaction curves for subject B1242.</figcaption></figure>"
        },
        {
          "cell_type": "heading",
          "level": 2,
          "metadata": {
          },
          "source": "Joint posterior"
        },
        {
          "cell_type": "markdown",
          "metadata": {
          },
          "source": "We can use these simulations to estimate the joint distribution of `num_new` and `k` , and from that we can get the distribution of `num_new` conditioned on any value of `k` ."
        },
        {
          "cell_type": "code",
          "collapsed": false,
          "input": "def MakeJointPredictive(curves):\n    joint = thinkbayes.Joint()\n    for curve in curves:\n        for k, num_new in curve:\n            joint.Incr((k, num_new))\n    joint.Normalize()\n    return joint",
          "language": "python",
          "metadata": {
          },
          "outputs": [

          ]
        },
        {
          "cell_type": "markdown",
          "metadata": {
          },
          "source": "`MakeJointPredictive` makes a Joint object, which is a Pmf whose values are tuples."
        },
        {
          "cell_type": "markdown",
          "metadata": {
          },
          "source": "`curves` is a list of rarefaction curves created by `RunSimulation` . Each curve contains a list of pairs of `k` and `num_new` ."
        },
        {
          "cell_type": "markdown",
          "metadata": {
          },
          "source": "The resulting joint distribution is a map from each pair to its probability of occurring. Given the joint distribution, we can use `Joint.Conditional` get the distribution of `num_new` conditioned on `k` (see [âConditional distributionsâ](ch09.html#conditional))."
        },
        {
          "cell_type": "markdown",
          "metadata": {
          },
          "source": "`Subject.MakeConditionals` takes a list of `ks` and computes the conditional distribution of `num_new` for each `k` . The result is a list of Cdf objects."
        },
        {
          "cell_type": "code",
          "collapsed": false,
          "input": "def MakeConditionals(curves, ks):\n    joint = MakeJointPredictive(curves)\n\n    cdfs = []\n    for k in ks:\n        pmf = joint.Conditional(1, 0, k)\n        pmf.name = 'k=%d' % k\n        cdf = pmf.MakeCdf()\n        cdfs.append(cdf)\n\n    return cdfs",
          "language": "python",
          "metadata": {
          },
          "outputs": [

          ]
        },
        {
          "cell_type": "markdown",
          "metadata": {
          },
          "source": "FigureÂ 15-6 shows the results. After 100 reads, the median predicted number of new species is 2; the 90% credible interval is 0 to 5. After 800 reads, we expect to see 3 to 12 new species."
        },
        {
          "cell_type": "markdown",
          "metadata": {
          },
          "source": "<figure id=\"species-cond\" style=\"float: none\"><img src=\"files/images/thba_1506.png\"><figcaption>Distributions of the number of new species conditioned on the\n      number of additional reads.</figcaption></figure>"
        },
        {
          "cell_type": "heading",
          "level": 2,
          "metadata": {
          },
          "source": "Coverage"
        },
        {
          "cell_type": "markdown",
          "metadata": {
          },
          "source": "The last question we want to answer is, âHow many additional reads are needed to increase the fraction of observed species to a given threshold?â"
        },
        {
          "cell_type": "markdown",
          "metadata": {
          },
          "source": "To answer this question, we need a version of `RunSimulation` that computes the fraction of observed species rather than the number of new species."
        },
        {
          "cell_type": "code",
          "collapsed": false,
          "input": "# class Subject\n\n    def RunSimulation(self, num_reads):\n        m, seen = self.GetSeenSpecies()\n        n, observations = self.GenerateObservations(num_reads)\n\n        curve = []\n        for k, obs in enumerate(observations):\n            seen.add(obs)\n\n            frac_seen = len(seen) / float(n)\n            curve.append((k+1, frac_seen))\n\n        return curve",
          "language": "python",
          "metadata": {
          },
          "outputs": [

          ]
        },
        {
          "cell_type": "markdown",
          "metadata": {
          },
          "source": "Next we loop through each curve and make a dictionary, `d` , that maps from the number of additional reads, `k` , to a list of `fracs` ; that is, a list of values for the coverage achieved after `k` reads."
        },
        {
          "cell_type": "code",
          "collapsed": false,
          "input": "    def MakeFracCdfs(self, curves):\n        d = {}\n        for curve in curves:\n            for k, frac in curve:\n                d.setdefault(k, []).append(frac)\n\n        cdfs = {}\n        for k, fracs in d.iteritems():\n            cdf = thinkbayes.MakeCdfFromList(fracs)\n            cdfs[k] = cdf\n\n        return cdfs",
          "language": "python",
          "metadata": {
          },
          "outputs": [

          ]
        },
        {
          "cell_type": "markdown",
          "metadata": {
          },
          "source": "Then for each value of `k` we make a Cdf of `fracs` ; this Cdf represents the distribution of coverage after `k` reads."
        },
        {
          "cell_type": "markdown",
          "metadata": {
          },
          "source": "Remember that the CDF tells you the probability of falling below a given threshold, so the _complementary_ CDF tells you the probability of exceeding it. FigureÂ 15-7 shows complementary CDFs for a range of values of `k` ."
        },
        {
          "cell_type": "markdown",
          "metadata": {
          },
          "source": "<figure id=\"species-frac\" style=\"float: True\"><img src=\"files/images/thba_1507.png\"><figcaption>Complementary CDF of coverage for a range of additional\n      reads.</figcaption></figure>"
        },
        {
          "cell_type": "markdown",
          "metadata": {
          },
          "source": "To read this figure, select the level of coverage you want to achieve along the _x_-axis. As an example, choose 90%."
        },
        {
          "cell_type": "markdown",
          "metadata": {
          },
          "source": "Now you can read up the chart to find the probability of achieving 90% coverage after `k` reads. For example, with 200 reads, you have about a 40% chance of getting 90% coverage. With 1000 reads, you have a 90% chance of getting 90% coverage."
        },
        {
          "cell_type": "markdown",
          "metadata": {
          },
          "source": "With that, we have answered the four questions that make up the unseen species problem. To validate the algorithms in this chapter with real data, I had to deal with a few more details. But this chapter is already too long, so I wonât discuss them here."
        },
        {
          "cell_type": "markdown",
          "metadata": {
          },
          "source": "You can read about the problems, and how I addressed them, at [http://allendowney.blogspot.com/2013/05/belly-button-biodiversity-end-game.html](http://allendowney.blogspot.com/2013/05/belly-button-biodiversity-end-game.html)."
        },
        {
          "cell_type": "markdown",
          "metadata": {
          },
          "source": "You can download the code in this chapter from [http://thinkbayes.com/species.py](http://thinkbayes.com/species.py). For more information see [âWorking with the codeâ](preface01.html#download)."
        },
        {
          "cell_type": "heading",
          "level": 2,
          "metadata": {
          },
          "source": "Discussion"
        },
        {
          "cell_type": "markdown",
          "metadata": {
          },
          "source": "The Unseen Species problem is an area of active research, and I believe the algorithm in this chapter is a novel contribution. So in fewer than 200 pages we have made it from the basics of probability to the research frontier. Iâm very happy about that."
        },
        {
          "cell_type": "markdown",
          "metadata": {
          },
          "source": "My goal for this book is to present three related ideas:"
        },
        {
          "cell_type": "markdown",
          "metadata": {
          },
          "source": "<ul>\n<li><p><strong>Bayesian thinking</strong><strong>:</strong> The foundation of Bayesian analysis is the\n        idea of using probability distributions to represent uncertain\n        beliefs, using data to update those distributions, and using the\n        results to make predictions and inform decisions.</p></li>\n<li><p><strong>A computational approach:</strong> The\n        premise of this book is that it is easier to understand Bayesian\n        analysis using computation rather than math, and easier to implement\n        Bayesian methods with reusable building blocks that can be rearranged\n        to solve real-world problems quickly.</p></li>\n<li><p><strong>Iterative modeling:</strong> Most\n        real-world problems involve modeling decisions and trade-offs between\n        realism and complexity. It is often impossible to know ahead of time\n        what factors should be included in the model and which can be\n        abstracted away. The best approach is to iterate, starting with simple\n        models and adding complexity gradually, using each model to validate\n        the others.</p></li>\n</ul>\n"
        },
        {
          "cell_type": "markdown",
          "metadata": {
          },
          "source": "These ideas are versatile and powerful; they are applicable to problems in every area of science and engineering, from simple examples to topics of current research."
        },
        {
          "cell_type": "markdown",
          "metadata": {
          },
          "source": "If you made it this far, you should be prepared to apply these tools to new problems relevant to your work. I hope you find them useful; let me know how it goes!"
        }
      ],
      "metadata": {
      }
    }
  ]
}